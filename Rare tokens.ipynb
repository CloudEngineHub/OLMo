{
 "cells": [
  {
   "cell_type": "code",
   "execution_count": 1,
   "id": "517aed45-8ffb-4203-9f02-0dfdb6d0ab26",
   "metadata": {},
   "outputs": [],
   "source": [
    "import numpy as np\n",
    "from pathlib import Path\n",
    "from cached_path import cached_path\n",
    "\n",
    "from olmo.config import TrainConfig\n",
    "from olmo.data import build_memmap_dataset, DataCollator, IterableDataset\n",
    "from torch.utils.data import DataLoader, DistributedSampler\n",
    "\n",
    "import torch.distributed as dist\n",
    "dist.init_process_group(backend=\"gloo\", world_size=1, rank=0, store=dist.HashStore())"
   ]
  },
  {
   "cell_type": "code",
   "execution_count": 2,
   "id": "52040f08-d9c1-428e-b95a-e21a50636858",
   "metadata": {},
   "outputs": [],
   "source": [
    "train_config_path = \"configs/mitchish7-s3.yaml\"\n",
    "train_config = TrainConfig.load(train_config_path, [\"global_train_batch_size=1024\"])\n",
    "cfg = train_config\n",
    "\n",
    "# Fill some configuration options.\n",
    "cfg.model.precision = cfg.precision\n",
    "cfg.device_train_batch_size = cfg.global_train_batch_size // 1\n",
    "assert cfg.device_train_batch_size is not None  # for mypy\n",
    "cfg.device_train_grad_accum = cfg.device_train_batch_size // cfg.device_train_microbatch_size\n",
    "if cfg.optimizer.no_decay_norm_and_bias is not None:\n",
    "    log.warning(\n",
    "        \"You set the deprecated config option `no_decay_norm_and_bias`. For compatibility, this\"\n",
    "        \"setting will take precedence over all other weight decay configurations. Please change\"\n",
    "        \"your config to use `decay_norm_and_bias` and `decay_embeddings` instead.\"\n",
    "    )\n",
    "    cfg.optimizer.decay_norm_and_bias = not cfg.optimizer.no_decay_norm_and_bias\n",
    "    cfg.optimizer.decay_embeddings = not cfg.optimizer.no_decay_norm_and_bias\n",
    "    cfg.optimizer.no_decay_norm_and_bias = None  # So nobody uses this by accident.\n",
    "\n",
    "# overrides because we have only one process here\n",
    "train_config.data.num_workers = 4\n",
    "train_config.data.pin_memory = False\n",
    "train_config.data.prefetch_factor = 128\n",
    "\n",
    "# replace all the paths with local paths\n",
    "train_config.data.paths = [\n",
    "    p.replace(\"s3://\", \"/mnt/tank/\") for p in train_config.data.paths\n",
    "]"
   ]
  },
  {
   "cell_type": "code",
   "execution_count": 3,
   "id": "d8c52a0f-c519-42f7-9a4e-a18080998063",
   "metadata": {},
   "outputs": [],
   "source": [
    "collator = DataCollator(\n",
    "    pad_direction=train_config.data.pad_direction,\n",
    "    pad_token_id=train_config.model.pad_token_id\n",
    ")\n",
    "dataset = build_memmap_dataset(train_config, train_config.data, include_instance_metadata=False)\n",
    "seed = train_config.data.seed if train_config.data.seed is not None else train_config.seed\n",
    "work_dir = Path(\"./temp-work-dir\")\n",
    "loader = DataLoader(\n",
    "        IterableDataset(\n",
    "            dataset,  # type: ignore\n",
    "            train_config.global_train_batch_size,\n",
    "            seed=seed + (train_config.epoch or 0),\n",
    "            shuffle=True,\n",
    "            drop_last=train_config.data.drop_last,\n",
    "            work_dir=None,\n",
    "        ),\n",
    "        batch_size=train_config.device_train_batch_size,\n",
    "        drop_last=train_config.data.drop_last,\n",
    "        collate_fn=collator,\n",
    "        num_workers=train_config.data.num_workers,\n",
    "        pin_memory=train_config.data.pin_memory,\n",
    "        prefetch_factor=None if train_config.data.num_workers == 0 else train_config.data.prefetch_factor,\n",
    "        persistent_workers=False if train_config.data.num_workers == 0 else train_config.data.persistent_workers,\n",
    "        timeout=train_config.data.timeout,\n",
    "    )\n",
    "batches = iter(loader)"
   ]
  },
  {
   "cell_type": "code",
   "execution_count": 4,
   "id": "44793209-a40d-442b-910b-ad0393f480ae",
   "metadata": {},
   "outputs": [],
   "source": [
    "max_step = len(dataset) // train_config.device_train_batch_size"
   ]
  },
  {
   "cell_type": "code",
   "execution_count": 5,
   "id": "bc9d247f-6381-427e-b752-23a90576fb3c",
   "metadata": {},
   "outputs": [
    {
     "data": {
      "text/plain": [
       "(408923, 50280)"
      ]
     },
     "execution_count": 5,
     "metadata": {},
     "output_type": "execute_result"
    }
   ],
   "source": [
    "(max_step, cfg.model.vocab_size)"
   ]
  },
  {
   "cell_type": "code",
   "execution_count": 28,
   "id": "52fa8e39-7625-47d0-bac5-d77852ab9be4",
   "metadata": {},
   "outputs": [
    {
     "data": {
      "application/vnd.jupyter.widget-view+json": {
       "model_id": "7190362be70f44c9a5b62cc52d2a22aa",
       "version_major": 2,
       "version_minor": 0
      },
      "text/plain": [
       "  0%|          | 0/408923 [00:00<?, ?it/s]"
      ]
     },
     "metadata": {},
     "output_type": "display_data"
    },
    {
     "name": "stderr",
     "output_type": "stream",
     "text": [
      "IOPub message rate exceeded.\n",
      "The Jupyter server will temporarily stop sending output\n",
      "to the client in order to avoid crashing it.\n",
      "To change this limit, set the config variable\n",
      "`--ServerApp.iopub_msg_rate_limit`.\n",
      "\n",
      "Current values:\n",
      "ServerApp.iopub_msg_rate_limit=1000.0 (msgs/sec)\n",
      "ServerApp.rate_limit_window=3.0 (secs)\n",
      "\n"
     ]
    }
   ],
   "source": [
    "import torch\n",
    "from tqdm.notebook import trange, tqdm\n",
    "\n",
    "total_counts = np.memmap(\n",
    "    \"/mnt/tank/token_counts_per_step_xxx.npy\",\n",
    "    dtype=np.int32,\n",
    "    mode='w+',\n",
    "    shape=(max_step, cfg.model.vocab_size)\n",
    ")\n",
    "\n",
    "#max_step = 1000 # DEBUG\n",
    "\n",
    "for step, batch in tqdm(enumerate(batches), total=max_step):\n",
    "    if step > max_step:\n",
    "        break\n",
    "    uniques, counts = batch['input_ids'].flatten().unique(return_counts=True)\n",
    "    total_counts[step, uniques.numpy()] += counts.numpy()\n",
    "\n",
    "total_counts.flush()"
   ]
  },
  {
   "cell_type": "code",
   "execution_count": 6,
   "id": "4237adf7-6abd-471b-968f-a6ce2baf5cee",
   "metadata": {},
   "outputs": [],
   "source": [
    "total_counts2 = np.memmap(\n",
    "    \"/mnt/tank/token_counts_per_step.npy\",\n",
    "    dtype=np.int32,\n",
    "    mode='r',\n",
    "    shape=(max_step, cfg.model.vocab_size)\n",
    ")"
   ]
  },
  {
   "cell_type": "code",
   "execution_count": 48,
   "id": "be6288e5-501e-431a-a5ae-13ce6cdae43c",
   "metadata": {},
   "outputs": [
    {
     "data": {
      "text/plain": [
       "(63830348517, 0.03721566406629284, 15)"
      ]
     },
     "execution_count": 48,
     "metadata": {},
     "output_type": "execute_result"
    }
   ],
   "source": [
    "# find some stats about the most frequent token\n",
    "token_sums = total_counts2.sum(axis=0, dtype=np.int64)\n",
    "max_token_count = token_sums.max()\n",
    "max_token_fraction = max_token_count / token_sums.sum()\n",
    "max_token_id = token_sums.argmax()\n",
    "(max_token_count, max_token_fraction, max_token_id)"
   ]
  },
  {
   "cell_type": "code",
   "execution_count": 49,
   "id": "5e188b4e-6461-4e72-b19a-6a858e3480e5",
   "metadata": {},
   "outputs": [
    {
     "data": {
      "application/vnd.jupyter.widget-view+json": {
       "model_id": "bd7ade0a8ba547f1959a554401e4dc2d",
       "version_major": 2,
       "version_minor": 0
      },
      "text/plain": [
       "  0%|          | 0/408923 [00:00<?, ?it/s]"
      ]
     },
     "metadata": {},
     "output_type": "display_data"
    },
    {
     "name": "stderr",
     "output_type": "stream",
     "text": [
      "/tmp/ipykernel_131596/1294462617.py:14: RuntimeWarning: invalid value encountered in divide\n",
      "  mean_time_between_tokens = time_between_tokens / times_seen\n"
     ]
    }
   ],
   "source": [
    "# find the mean time between tokens\n",
    "time_between_tokens = np.zeros(cfg.model.vocab_size, dtype=np.int32)\n",
    "times_seen = np.zeros(cfg.model.vocab_size, dtype=np.int32)\n",
    "last_seen = np.full(cfg.model.vocab_size, -1, dtype=np.int32)\n",
    "\n",
    "from tqdm.notebook import trange, tqdm\n",
    "\n",
    "for step, token_counts in enumerate(tqdm(total_counts2)):\n",
    "    token_ids_seen = token_counts.nonzero()[0]\n",
    "    time_between_tokens[token_ids_seen] += step - last_seen[token_ids_seen]\n",
    "    times_seen[token_ids_seen] += 1\n",
    "    last_seen[token_ids_seen] = step\n",
    "\n",
    "mean_time_between_tokens = time_between_tokens / times_seen"
   ]
  },
  {
   "cell_type": "code",
   "execution_count": 63,
   "id": "cde2147d-e2b0-4d7c-813f-aa8987ff3d27",
   "metadata": {},
   "outputs": [
    {
     "data": {
      "application/vnd.jupyter.widget-view+json": {
       "model_id": "8bcfd7c9c3254c5f9759ab5942fa748b",
       "version_major": 2,
       "version_minor": 0
      },
      "text/plain": [
       "  0%|          | 0/408923 [00:00<?, ?it/s]"
      ]
     },
     "metadata": {},
     "output_type": "display_data"
    },
    {
     "data": {
      "text/plain": [
       "array([ 0. ,  1. ,  2. , ..., 30.1, 42.1, 37. ])"
      ]
     },
     "execution_count": 63,
     "metadata": {},
     "output_type": "execute_result"
    }
   ],
   "source": [
    "# for every batch, find out how long it's been since we saw that token\n",
    "\n",
    "from tqdm.notebook import trange, tqdm\n",
    "\n",
    "token_age = np.zeros((max_step + 1, cfg.model.vocab_size), dtype=np.int32)\n",
    "batch_staleness = np.zeros(max_step, dtype=np.float64)\n",
    "staleness_n = 10  # oldest n tokens are considered\n",
    "\n",
    "for step, token_counts in enumerate(tqdm(total_counts2)):\n",
    "    token_ids_seen = token_counts.nonzero()[0]\n",
    "\n",
    "    token_ages_this_step = token_age[step, token_ids_seen]\n",
    "    batch_staleness[step] = token_ages_this_step[np.argsort(token_ages_this_step)[-staleness_n:]].astype(np.float64).mean()\n",
    "    \n",
    "    token_age[step + 1] = token_age[step] + 1\n",
    "    token_age[step + 1, token_ids_seen] = 1\n",
    "\n",
    "batch_staleness"
   ]
  },
  {
   "cell_type": "code",
   "execution_count": 64,
   "id": "4bd4cdc5-1501-43ee-870b-edefff30fe53",
   "metadata": {},
   "outputs": [
    {
     "data": {
      "text/plain": [
       "[<matplotlib.lines.Line2D at 0x7f8ff8d3c7f0>]"
      ]
     },
     "execution_count": 64,
     "metadata": {},
     "output_type": "execute_result"
    },
    {
     "data": {
      "image/png": "[encoded data removed]",
      "text/plain": [
       "<Figure size 640x480 with 1 Axes>"
      ]
     },
     "metadata": {},
     "output_type": "display_data"
    }
   ],
   "source": [
    "import matplotlib.pyplot as plt\n",
    "plt.plot(batch_staleness)"
   ]
  },
  {
   "cell_type": "code",
   "execution_count": 13,
   "id": "824fb62b-70e6-4f67-965b-f768d22f26e0",
   "metadata": {},
   "outputs": [
    {
     "data": {
      "application/vnd.jupyter.widget-view+json": {
       "model_id": "6befb48a05914155b9658427f87d05f6",
       "version_major": 2,
       "version_minor": 0
      },
      "text/plain": [
       "  0%|          | 0/28 [00:00<?, ?it/s]"
      ]
     },
     "metadata": {},
     "output_type": "display_data"
    },
    {
     "data": {
      "application/vnd.jupyter.widget-view+json": {
       "model_id": "f19c5af6941441f69ee132dfebe42991",
       "version_major": 2,
       "version_minor": 0
      },
      "text/plain": [
       "0it [00:00, ?it/s]"
      ]
     },
     "metadata": {},
     "output_type": "display_data"
    },
    {
     "data": {
      "application/vnd.jupyter.widget-view+json": {
       "model_id": "53c83f45250e47d3bf1c4c2047e6f3f6",
       "version_major": 2,
       "version_minor": 0
      },
      "text/plain": [
       "0it [00:00, ?it/s]"
      ]
     },
     "metadata": {},
     "output_type": "display_data"
    },
    {
     "data": {
      "application/vnd.jupyter.widget-view+json": {
       "model_id": "83910414e21a4c08a45352158e477189",
       "version_major": 2,
       "version_minor": 0
      },
      "text/plain": [
       "0it [00:00, ?it/s]"
      ]
     },
     "metadata": {},
     "output_type": "display_data"
    },
    {
     "data": {
      "application/vnd.jupyter.widget-view+json": {
       "model_id": "5f207e1302604dbaad01b07eac550885",
       "version_major": 2,
       "version_minor": 0
      },
      "text/plain": [
       "0it [00:00, ?it/s]"
      ]
     },
     "metadata": {},
     "output_type": "display_data"
    },
    {
     "data": {
      "application/vnd.jupyter.widget-view+json": {
       "model_id": "158c612d2e20448f8c9aecb7a9e6d375",
       "version_major": 2,
       "version_minor": 0
      },
      "text/plain": [
       "0it [00:00, ?it/s]"
      ]
     },
     "metadata": {},
     "output_type": "display_data"
    },
    {
     "data": {
      "application/vnd.jupyter.widget-view+json": {
       "model_id": "f69b8fc8b4134d4aa5c0c705eb1bfc98",
       "version_major": 2,
       "version_minor": 0
      },
      "text/plain": [
       "0it [00:00, ?it/s]"
      ]
     },
     "metadata": {},
     "output_type": "display_data"
    },
    {
     "data": {
      "application/vnd.jupyter.widget-view+json": {
       "model_id": "4e1e9ce6d6cc4c5493e666477bc04fc1",
       "version_major": 2,
       "version_minor": 0
      },
      "text/plain": [
       "0it [00:00, ?it/s]"
      ]
     },
     "metadata": {},
     "output_type": "display_data"
    },
    {
     "data": {
      "application/vnd.jupyter.widget-view+json": {
       "model_id": "0d0b6ae619354634b357a2a0e0c9711b",
       "version_major": 2,
       "version_minor": 0
      },
      "text/plain": [
       "0it [00:00, ?it/s]"
      ]
     },
     "metadata": {},
     "output_type": "display_data"
    },
    {
     "data": {
      "application/vnd.jupyter.widget-view+json": {
       "model_id": "937812fc3bcd4e468815425bed6ff987",
       "version_major": 2,
       "version_minor": 0
      },
      "text/plain": [
       "0it [00:00, ?it/s]"
      ]
     },
     "metadata": {},
     "output_type": "display_data"
    },
    {
     "data": {
      "application/vnd.jupyter.widget-view+json": {
       "model_id": "8a635c8cbcd14a6884c02005a12cfc0a",
       "version_major": 2,
       "version_minor": 0
      },
      "text/plain": [
       "0it [00:00, ?it/s]"
      ]
     },
     "metadata": {},
     "output_type": "display_data"
    },
    {
     "data": {
      "application/vnd.jupyter.widget-view+json": {
       "model_id": "779068762c084b29a881d33ee856cb9d",
       "version_major": 2,
       "version_minor": 0
      },
      "text/plain": [
       "0it [00:00, ?it/s]"
      ]
     },
     "metadata": {},
     "output_type": "display_data"
    },
    {
     "data": {
      "application/vnd.jupyter.widget-view+json": {
       "model_id": "7b33975f9f354d61b45ca6abde7b5430",
       "version_major": 2,
       "version_minor": 0
      },
      "text/plain": [
       "0it [00:00, ?it/s]"
      ]
     },
     "metadata": {},
     "output_type": "display_data"
    },
    {
     "data": {
      "application/vnd.jupyter.widget-view+json": {
       "model_id": "debd0f5165734eaf800153b2293f5f08",
       "version_major": 2,
       "version_minor": 0
      },
      "text/plain": [
       "0it [00:00, ?it/s]"
      ]
     },
     "metadata": {},
     "output_type": "display_data"
    },
    {
     "data": {
      "application/vnd.jupyter.widget-view+json": {
       "model_id": "ceebe2049d7b448a94b213938942cf7f",
       "version_major": 2,
       "version_minor": 0
      },
      "text/plain": [
       "0it [00:00, ?it/s]"
      ]
     },
     "metadata": {},
     "output_type": "display_data"
    },
    {
     "data": {
      "application/vnd.jupyter.widget-view+json": {
       "model_id": "2b2c7630654e421c92d41a0431c8f612",
       "version_major": 2,
       "version_minor": 0
      },
      "text/plain": [
       "0it [00:00, ?it/s]"
      ]
     },
     "metadata": {},
     "output_type": "display_data"
    },
    {
     "data": {
      "application/vnd.jupyter.widget-view+json": {
       "model_id": "47bfa8fd91484a3d9804acb4f1b92ee1",
       "version_major": 2,
       "version_minor": 0
      },
      "text/plain": [
       "0it [00:00, ?it/s]"
      ]
     },
     "metadata": {},
     "output_type": "display_data"
    },
    {
     "data": {
      "application/vnd.jupyter.widget-view+json": {
       "model_id": "1794f7ef4d764988a885d872e93e98a9",
       "version_major": 2,
       "version_minor": 0
      },
      "text/plain": [
       "0it [00:00, ?it/s]"
      ]
     },
     "metadata": {},
     "output_type": "display_data"
    },
    {
     "data": {
      "application/vnd.jupyter.widget-view+json": {
       "model_id": "7c489ec25a2a4abe8e97b2deea73c148",
       "version_major": 2,
       "version_minor": 0
      },
      "text/plain": [
       "0it [00:00, ?it/s]"
      ]
     },
     "metadata": {},
     "output_type": "display_data"
    },
    {
     "data": {
      "application/vnd.jupyter.widget-view+json": {
       "model_id": "804f4b85037f4c66af4b266fb470207d",
       "version_major": 2,
       "version_minor": 0
      },
      "text/plain": [
       "0it [00:00, ?it/s]"
      ]
     },
     "metadata": {},
     "output_type": "display_data"
    },
    {
     "data": {
      "application/vnd.jupyter.widget-view+json": {
       "model_id": "2382473a5cda4a228ed8d7b7e3879efb",
       "version_major": 2,
       "version_minor": 0
      },
      "text/plain": [
       "0it [00:00, ?it/s]"
      ]
     },
     "metadata": {},
     "output_type": "display_data"
    },
    {
     "data": {
      "application/vnd.jupyter.widget-view+json": {
       "model_id": "839ec90a1cb1426cb2838b5edf8bf170",
       "version_major": 2,
       "version_minor": 0
      },
      "text/plain": [
       "0it [00:00, ?it/s]"
      ]
     },
     "metadata": {},
     "output_type": "display_data"
    },
    {
     "data": {
      "application/vnd.jupyter.widget-view+json": {
       "model_id": "867490645a0d44dc88f2289e671ff42d",
       "version_major": 2,
       "version_minor": 0
      },
      "text/plain": [
       "0it [00:00, ?it/s]"
      ]
     },
     "metadata": {},
     "output_type": "display_data"
    },
    {
     "data": {
      "application/vnd.jupyter.widget-view+json": {
       "model_id": "d8ba32ede0db4f38aa35effe2995a63e",
       "version_major": 2,
       "version_minor": 0
      },
      "text/plain": [
       "0it [00:00, ?it/s]"
      ]
     },
     "metadata": {},
     "output_type": "display_data"
    },
    {
     "data": {
      "application/vnd.jupyter.widget-view+json": {
       "model_id": "3c14db52d3c448a2acf325534a9f6457",
       "version_major": 2,
       "version_minor": 0
      },
      "text/plain": [
       "0it [00:00, ?it/s]"
      ]
     },
     "metadata": {},
     "output_type": "display_data"
    },
    {
     "data": {
      "application/vnd.jupyter.widget-view+json": {
       "model_id": "bb03cdbb1fe84172b6accd55c30c105a",
       "version_major": 2,
       "version_minor": 0
      },
      "text/plain": [
       "0it [00:00, ?it/s]"
      ]
     },
     "metadata": {},
     "output_type": "display_data"
    },
    {
     "data": {
      "application/vnd.jupyter.widget-view+json": {
       "model_id": "f5abc5f489894ffca5eb2840e70b7d94",
       "version_major": 2,
       "version_minor": 0
      },
      "text/plain": [
       "0it [00:00, ?it/s]"
      ]
     },
     "metadata": {},
     "output_type": "display_data"
    },
    {
     "data": {
      "application/vnd.jupyter.widget-view+json": {
       "model_id": "2d124e8e676340fda32a33d6dc789975",
       "version_major": 2,
       "version_minor": 0
      },
      "text/plain": [
       "0it [00:00, ?it/s]"
      ]
     },
     "metadata": {},
     "output_type": "display_data"
    },
    {
     "data": {
      "application/vnd.jupyter.widget-view+json": {
       "model_id": "90b741e224b6450ea2582f365b9b30d8",
       "version_major": 2,
       "version_minor": 0
      },
      "text/plain": [
       "0it [00:00, ?it/s]"
      ]
     },
     "metadata": {},
     "output_type": "display_data"
    },
    {
     "data": {
      "application/vnd.jupyter.widget-view+json": {
       "model_id": "938710ad8793405aaeb3aa877f8a321a",
       "version_major": 2,
       "version_minor": 0
      },
      "text/plain": [
       "0it [00:00, ?it/s]"
      ]
     },
     "metadata": {},
     "output_type": "display_data"
    },
    {
     "data": {
      "application/vnd.jupyter.widget-view+json": {
       "model_id": "36e1bfbba69a442ca9d121694bdf448f",
       "version_major": 2,
       "version_minor": 0
      },
      "text/plain": [
       "0it [00:00, ?it/s]"
      ]
     },
     "metadata": {},
     "output_type": "display_data"
    },
    {
     "data": {
      "application/vnd.jupyter.widget-view+json": {
       "model_id": "685467cc84af482db0f1efeeb303a59b",
       "version_major": 2,
       "version_minor": 0
      },
      "text/plain": [
       "0it [00:00, ?it/s]"
      ]
     },
     "metadata": {},
     "output_type": "display_data"
    },
    {
     "data": {
      "application/vnd.jupyter.widget-view+json": {
       "model_id": "e30026def0824f739f9aae3a717ee1c1",
       "version_major": 2,
       "version_minor": 0
      },
      "text/plain": [
       "0it [00:00, ?it/s]"
      ]
     },
     "metadata": {},
     "output_type": "display_data"
    },
    {
     "data": {
      "application/vnd.jupyter.widget-view+json": {
       "model_id": "6671dfa199c64ee7b29bc7e72e2bc84b",
       "version_major": 2,
       "version_minor": 0
      },
      "text/plain": [
       "0it [00:00, ?it/s]"
      ]
     },
     "metadata": {},
     "output_type": "display_data"
    },
    {
     "data": {
      "application/vnd.jupyter.widget-view+json": {
       "model_id": "336f1a5cf9e74489bed3bd9f52460c44",
       "version_major": 2,
       "version_minor": 0
      },
      "text/plain": [
       "0it [00:00, ?it/s]"
      ]
     },
     "metadata": {},
     "output_type": "display_data"
    },
    {
     "data": {
      "application/vnd.jupyter.widget-view+json": {
       "model_id": "6990686c33964dfc9cce0966685f49d4",
       "version_major": 2,
       "version_minor": 0
      },
      "text/plain": [
       "0it [00:00, ?it/s]"
      ]
     },
     "metadata": {},
     "output_type": "display_data"
    },
    {
     "data": {
      "application/vnd.jupyter.widget-view+json": {
       "model_id": "4d5b1cee268240969fd729675fe8341b",
       "version_major": 2,
       "version_minor": 0
      },
      "text/plain": [
       "0it [00:00, ?it/s]"
      ]
     },
     "metadata": {},
     "output_type": "display_data"
    },
    {
     "data": {
      "application/vnd.jupyter.widget-view+json": {
       "model_id": "dd906c60aecf400cb264df1dd407b88c",
       "version_major": 2,
       "version_minor": 0
      },
      "text/plain": [
       "0it [00:00, ?it/s]"
      ]
     },
     "metadata": {},
     "output_type": "display_data"
    },
    {
     "data": {
      "application/vnd.jupyter.widget-view+json": {
       "model_id": "a2e09d976b924e868c978b3b53622d94",
       "version_major": 2,
       "version_minor": 0
      },
      "text/plain": [
       "0it [00:00, ?it/s]"
      ]
     },
     "metadata": {},
     "output_type": "display_data"
    },
    {
     "data": {
      "application/vnd.jupyter.widget-view+json": {
       "model_id": "8e52138229ed4a109398e760a9233115",
       "version_major": 2,
       "version_minor": 0
      },
      "text/plain": [
       "0it [00:00, ?it/s]"
      ]
     },
     "metadata": {},
     "output_type": "display_data"
    },
    {
     "data": {
      "application/vnd.jupyter.widget-view+json": {
       "model_id": "54f1bf1c2fce48c2ad3895669c07f01a",
       "version_major": 2,
       "version_minor": 0
      },
      "text/plain": [
       "0it [00:00, ?it/s]"
      ]
     },
     "metadata": {},
     "output_type": "display_data"
    },
    {
     "data": {
      "application/vnd.jupyter.widget-view+json": {
       "model_id": "2b30f1899e1142d7a9eaa36a744bb21b",
       "version_major": 2,
       "version_minor": 0
      },
      "text/plain": [
       "0it [00:00, ?it/s]"
      ]
     },
     "metadata": {},
     "output_type": "display_data"
    },
    {
     "data": {
      "application/vnd.jupyter.widget-view+json": {
       "model_id": "9adfae0e3c8948f9beffb95cd4bbd32b",
       "version_major": 2,
       "version_minor": 0
      },
      "text/plain": [
       "0it [00:00, ?it/s]"
      ]
     },
     "metadata": {},
     "output_type": "display_data"
    },
    {
     "data": {
      "application/vnd.jupyter.widget-view+json": {
       "model_id": "203496df68cd4bcf8c960090cf119690",
       "version_major": 2,
       "version_minor": 0
      },
      "text/plain": [
       "0it [00:00, ?it/s]"
      ]
     },
     "metadata": {},
     "output_type": "display_data"
    },
    {
     "data": {
      "application/vnd.jupyter.widget-view+json": {
       "model_id": "318789859f1f4d60ad4e9e8a32970cba",
       "version_major": 2,
       "version_minor": 0
      },
      "text/plain": [
       "0it [00:00, ?it/s]"
      ]
     },
     "metadata": {},
     "output_type": "display_data"
    },
    {
     "data": {
      "application/vnd.jupyter.widget-view+json": {
       "model_id": "44e710087aa540bdb6cada60a222e6c9",
       "version_major": 2,
       "version_minor": 0
      },
      "text/plain": [
       "0it [00:00, ?it/s]"
      ]
     },
     "metadata": {},
     "output_type": "display_data"
    },
    {
     "data": {
      "application/vnd.jupyter.widget-view+json": {
       "model_id": "6f196e061b2e4d0d98a04ec2a230e762",
       "version_major": 2,
       "version_minor": 0
      },
      "text/plain": [
       "0it [00:00, ?it/s]"
      ]
     },
     "metadata": {},
     "output_type": "display_data"
    },
    {
     "data": {
      "application/vnd.jupyter.widget-view+json": {
       "model_id": "9a013498d5e740faa23c26c2fa311e71",
       "version_major": 2,
       "version_minor": 0
      },
      "text/plain": [
       "0it [00:00, ?it/s]"
      ]
     },
     "metadata": {},
     "output_type": "display_data"
    },
    {
     "data": {
      "application/vnd.jupyter.widget-view+json": {
       "model_id": "e5b8599a653348719c1c6f288722f7af",
       "version_major": 2,
       "version_minor": 0
      },
      "text/plain": [
       "0it [00:00, ?it/s]"
      ]
     },
     "metadata": {},
     "output_type": "display_data"
    },
    {
     "data": {
      "application/vnd.jupyter.widget-view+json": {
       "model_id": "868b0637ad304242ba751c0102115384",
       "version_major": 2,
       "version_minor": 0
      },
      "text/plain": [
       "0it [00:00, ?it/s]"
      ]
     },
     "metadata": {},
     "output_type": "display_data"
    },
    {
     "data": {
      "application/vnd.jupyter.widget-view+json": {
       "model_id": "869ff5b264914bd7a6aed20fcb8e19de",
       "version_major": 2,
       "version_minor": 0
      },
      "text/plain": [
       "0it [00:00, ?it/s]"
      ]
     },
     "metadata": {},
     "output_type": "display_data"
    },
    {
     "data": {
      "application/vnd.jupyter.widget-view+json": {
       "model_id": "fbc555875b6f4beb99772b0883881fe4",
       "version_major": 2,
       "version_minor": 0
      },
      "text/plain": [
       "0it [00:00, ?it/s]"
      ]
     },
     "metadata": {},
     "output_type": "display_data"
    },
    {
     "data": {
      "application/vnd.jupyter.widget-view+json": {
       "model_id": "2d6dd8b56cde46268746c973910a2823",
       "version_major": 2,
       "version_minor": 0
      },
      "text/plain": [
       "0it [00:00, ?it/s]"
      ]
     },
     "metadata": {},
     "output_type": "display_data"
    },
    {
     "data": {
      "application/vnd.jupyter.widget-view+json": {
       "model_id": "3369fbc3dbc145b8886fda02a6726b4c",
       "version_major": 2,
       "version_minor": 0
      },
      "text/plain": [
       "0it [00:00, ?it/s]"
      ]
     },
     "metadata": {},
     "output_type": "display_data"
    },
    {
     "data": {
      "application/vnd.jupyter.widget-view+json": {
       "model_id": "074f19d1b7b24d5a908ea99f27c8433b",
       "version_major": 2,
       "version_minor": 0
      },
      "text/plain": [
       "0it [00:00, ?it/s]"
      ]
     },
     "metadata": {},
     "output_type": "display_data"
    },
    {
     "data": {
      "text/plain": [
       "({548451: 2.0782907009124756,\n",
       "  548452: 2.0691723823547363,\n",
       "  548453: 2.1244990825653076,\n",
       "  548454: 2.108739137649536,\n",
       "  548455: 2.127166509628296,\n",
       "  548456: 2.1670401096343994,\n",
       "  548457: 2.151280164718628,\n",
       "  548458: 2.133458375930786,\n",
       "  548459: 2.096452474594116,\n",
       "  548460: 2.1298599243164062,\n",
       "  548461: 2.1257171630859375,\n",
       "  548462: 2.110805034637451,\n",
       "  548463: 2.099071502685547,\n",
       "  548464: 2.0681395530700684,\n",
       "  548465: 2.0737192630767822,\n",
       "  548466: 2.1044058799743652,\n",
       "  548467: 2.094367265701294,\n",
       "  548468: 2.098543882369995,\n",
       "  548469: 2.090421438217163,\n",
       "  548470: 2.0892276763916016,\n",
       "  548471: 2.10258150100708,\n",
       "  548472: 2.0890815258026123,\n",
       "  548473: 2.0552825927734375,\n",
       "  548474: 2.074007749557495,\n",
       "  548475: 2.054173469543457,\n",
       "  548476: 2.0953710079193115,\n",
       "  548477: 2.083857774734497,\n",
       "  548478: 2.1459245681762695,\n",
       "  548479: 2.063671588897705,\n",
       "  548480: 2.114819288253784,\n",
       "  548481: 2.0716359615325928,\n",
       "  548482: 2.0994174480438232,\n",
       "  548483: 2.0768377780914307,\n",
       "  548484: 2.068228006362915,\n",
       "  548485: 2.069617748260498,\n",
       "  548486: 2.0922913551330566,\n",
       "  548487: 2.0570549964904785,\n",
       "  548488: 2.0851333141326904,\n",
       "  548489: 2.0793704986572266,\n",
       "  548490: 2.10176420211792,\n",
       "  548491: 2.0656323432922363,\n",
       "  548492: 2.0718390941619873,\n",
       "  548493: 2.110060691833496,\n",
       "  548494: 2.115974187850952,\n",
       "  548495: 2.08148455619812,\n",
       "  548496: 2.08182954788208,\n",
       "  548497: 2.086409568786621,\n",
       "  548498: 2.072986602783203,\n",
       "  548499: 2.095667600631714,\n",
       "  548500: 2.0882484912872314,\n",
       "  548501: 2.080834150314331,\n",
       "  548502: 2.1043713092803955,\n",
       "  548503: 2.1125619411468506,\n",
       "  548504: 2.086466073989868,\n",
       "  548505: 2.0853891372680664,\n",
       "  548506: 2.120270013809204,\n",
       "  548507: 2.048940658569336,\n",
       "  548508: 2.057833194732666,\n",
       "  548509: 2.0756020545959473,\n",
       "  548510: 2.059546947479248,\n",
       "  548511: 2.0396511554718018,\n",
       "  548512: 2.0713958740234375,\n",
       "  548513: 2.0526459217071533,\n",
       "  548514: 2.1287155151367188,\n",
       "  548515: 2.0748112201690674,\n",
       "  548516: 2.1192023754119873,\n",
       "  548517: 2.097702741622925,\n",
       "  548518: 2.110515594482422,\n",
       "  548519: 2.142190456390381,\n",
       "  548520: 2.0557661056518555,\n",
       "  548521: 2.0761725902557373,\n",
       "  548522: 2.1118390560150146,\n",
       "  548523: 2.108316659927368,\n",
       "  548524: 2.105205774307251,\n",
       "  548525: 2.1173033714294434,\n",
       "  548526: 2.0652518272399902,\n",
       "  548527: 2.08821702003479,\n",
       "  548528: 2.081228733062744,\n",
       "  548529: 2.105426549911499,\n",
       "  548530: 2.0917322635650635,\n",
       "  548531: 2.0950849056243896,\n",
       "  548532: 2.0881760120391846,\n",
       "  548533: 2.046962261199951,\n",
       "  548534: 2.0648131370544434,\n",
       "  548535: 2.0809669494628906,\n",
       "  548536: 2.0776944160461426,\n",
       "  548537: 2.0980870723724365,\n",
       "  548538: 2.0558199882507324,\n",
       "  548539: 2.105194568634033,\n",
       "  548540: 2.0911293029785156,\n",
       "  548541: 2.105588912963867,\n",
       "  548542: 2.077040433883667,\n",
       "  548543: 2.1063976287841797,\n",
       "  548544: 2.0808398723602295,\n",
       "  548545: 2.100334644317627,\n",
       "  548546: 2.098375082015991,\n",
       "  548547: 2.08909010887146,\n",
       "  548548: 2.1221539974212646,\n",
       "  548549: 2.065277338027954,\n",
       "  548550: 2.087618350982666,\n",
       "  548551: 2.089315176010132,\n",
       "  548552: 2.0989296436309814,\n",
       "  548553: 2.086001396179199,\n",
       "  548554: 2.09985089302063,\n",
       "  548555: 2.084031581878662,\n",
       "  548556: 2.115407943725586,\n",
       "  548557: 2.0830490589141846,\n",
       "  548558: 2.1339011192321777,\n",
       "  548559: 2.0907280445098877,\n",
       "  548560: 2.080955743789673,\n",
       "  548561: 2.062467098236084,\n",
       "  548562: 2.075889825820923,\n",
       "  548563: 2.0509369373321533,\n",
       "  548564: 2.0781781673431396,\n",
       "  548565: 2.1096456050872803,\n",
       "  548566: 2.092327833175659,\n",
       "  548567: 2.085818290710449,\n",
       "  548568: 2.06888747215271,\n",
       "  548569: 2.091815948486328,\n",
       "  548570: 2.061331033706665,\n",
       "  548571: 2.1057331562042236,\n",
       "  548572: 2.1009392738342285,\n",
       "  548573: 2.108173131942749,\n",
       "  548574: 2.115544319152832,\n",
       "  548575: 2.0727171897888184,\n",
       "  548576: 2.0554208755493164,\n",
       "  548577: 2.0729448795318604,\n",
       "  548578: 2.126274347305298,\n",
       "  548579: 2.0806124210357666,\n",
       "  548580: 2.085520029067993,\n",
       "  548581: 2.0791826248168945,\n",
       "  548582: 2.0910520553588867,\n",
       "  548583: 2.100609540939331,\n",
       "  548584: 2.088758945465088,\n",
       "  548585: 2.05941104888916,\n",
       "  548586: 2.1263463497161865,\n",
       "  548587: 2.0955684185028076,\n",
       "  548588: 2.1049623489379883,\n",
       "  548589: 2.077935218811035,\n",
       "  548590: 2.0931873321533203,\n",
       "  548591: 2.0806427001953125,\n",
       "  548592: 2.088610887527466,\n",
       "  548593: 2.0577869415283203,\n",
       "  548594: 2.0849380493164062,\n",
       "  548595: 2.070568084716797,\n",
       "  548596: 2.0948846340179443,\n",
       "  548597: 2.0893731117248535,\n",
       "  548598: 2.112205982208252,\n",
       "  548599: 2.1125829219818115,\n",
       "  548600: 2.098360538482666,\n",
       "  548601: 2.0753164291381836,\n",
       "  548602: 2.084822654724121,\n",
       "  548603: 2.0727224349975586,\n",
       "  548604: 2.1161234378814697,\n",
       "  548605: 2.098228693008423,\n",
       "  548606: 2.0894150733947754,\n",
       "  548607: 2.0614542961120605,\n",
       "  548608: 2.1085047721862793,\n",
       "  548609: 2.103879690170288,\n",
       "  548610: 2.0842974185943604,\n",
       "  548611: 2.1115870475769043,\n",
       "  548612: 2.109096050262451,\n",
       "  548613: 2.1244335174560547,\n",
       "  548614: 2.0830821990966797,\n",
       "  548615: 2.1092419624328613,\n",
       "  548616: 2.157710313796997,\n",
       "  548617: 2.081408977508545,\n",
       "  548618: 2.106154203414917,\n",
       "  548619: 2.098905563354492,\n",
       "  548620: 2.0693135261535645,\n",
       "  548621: 2.0581042766571045,\n",
       "  548622: 2.0935473442077637,\n",
       "  548623: 2.0780632495880127,\n",
       "  548624: 2.1098906993865967,\n",
       "  548625: 2.0865769386291504,\n",
       "  548626: 2.0775129795074463,\n",
       "  548627: 2.0980091094970703,\n",
       "  548628: 2.0593061447143555,\n",
       "  548629: 2.0745928287506104,\n",
       "  548630: 2.0935935974121094,\n",
       "  548631: 2.057992458343506,\n",
       "  548632: 2.025465250015259,\n",
       "  548633: 2.0983846187591553,\n",
       "  548634: 2.0991551876068115,\n",
       "  548635: 2.041564464569092,\n",
       "  548636: 2.0931451320648193,\n",
       "  548637: 2.0661442279815674,\n",
       "  548638: 2.0709547996520996,\n",
       "  548639: 2.128450632095337,\n",
       "  548640: 2.0905628204345703,\n",
       "  548641: 2.0622942447662354,\n",
       "  548642: 2.0800342559814453,\n",
       "  548643: 2.0823705196380615,\n",
       "  548644: 2.0686609745025635,\n",
       "  548645: 2.115154981613159,\n",
       "  548646: 2.0883851051330566,\n",
       "  548647: 2.0836925506591797,\n",
       "  548648: 2.096005439758301,\n",
       "  548649: 2.1270370483398438,\n",
       "  548650: 2.1047139167785645,\n",
       "  548651: 2.098548412322998,\n",
       "  548652: 2.105293035507202,\n",
       "  548653: 2.0735702514648438,\n",
       "  548654: 2.095370292663574,\n",
       "  548655: 2.1053969860076904,\n",
       "  548656: 2.1076996326446533,\n",
       "  548657: 2.0484471321105957,\n",
       "  548658: 2.0724546909332275,\n",
       "  548659: 2.089458465576172,\n",
       "  548660: 2.104295492172241,\n",
       "  548661: 2.0576279163360596,\n",
       "  548662: 2.047800302505493,\n",
       "  548663: 2.1150176525115967,\n",
       "  548664: 2.0720863342285156,\n",
       "  548665: 2.0944480895996094,\n",
       "  548666: 2.0745859146118164,\n",
       "  548667: 2.0800728797912598,\n",
       "  548668: 2.0282223224639893,\n",
       "  548669: 2.0755631923675537,\n",
       "  548670: 2.0960843563079834,\n",
       "  548671: 2.077755928039551,\n",
       "  548672: 2.046172618865967,\n",
       "  548673: 2.062338352203369,\n",
       "  548674: 2.0937585830688477,\n",
       "  548675: 2.096679925918579,\n",
       "  548676: 2.088407516479492,\n",
       "  548677: 2.10406494140625,\n",
       "  548678: 2.083937406539917,\n",
       "  548679: 2.09157657623291,\n",
       "  548680: 2.122708797454834,\n",
       "  548681: 2.093900203704834,\n",
       "  548682: 2.0395290851593018,\n",
       "  548683: 2.0764360427856445,\n",
       "  548684: 2.086148977279663,\n",
       "  548685: 2.107131242752075,\n",
       "  548686: 2.0616846084594727,\n",
       "  548687: 2.086620330810547,\n",
       "  548688: 2.07026743888855,\n",
       "  548689: 2.0792431831359863,\n",
       "  548690: 2.0767593383789062,\n",
       "  548691: 2.0577337741851807,\n",
       "  548692: 2.1226704120635986,\n",
       "  548693: 2.117250680923462,\n",
       "  548694: 2.0972185134887695,\n",
       "  548695: 2.1176319122314453,\n",
       "  548696: 2.1034417152404785,\n",
       "  548697: 2.06784987449646,\n",
       "  548698: 2.079453706741333,\n",
       "  548699: 2.073636293411255,\n",
       "  548700: 2.105452060699463,\n",
       "  548701: 2.104851007461548,\n",
       "  548702: 2.107788324356079,\n",
       "  548703: 2.13554048538208,\n",
       "  548704: 2.112034797668457,\n",
       "  548705: 2.107163906097412,\n",
       "  548706: 2.083423137664795,\n",
       "  548707: 2.0971968173980713,\n",
       "  548708: 2.1189253330230713,\n",
       "  548709: 2.0766570568084717,\n",
       "  548710: 2.105393648147583,\n",
       "  548711: 2.0729920864105225,\n",
       "  548712: 2.0978424549102783,\n",
       "  548713: 2.0543344020843506,\n",
       "  548714: 2.091365337371826,\n",
       "  548715: 2.1116952896118164,\n",
       "  548716: 2.0806713104248047,\n",
       "  548717: 2.08195161819458,\n",
       "  548718: 2.0594170093536377,\n",
       "  548719: 2.1168839931488037,\n",
       "  548720: 2.1259117126464844,\n",
       "  548721: 2.1035470962524414,\n",
       "  548722: 2.1095681190490723,\n",
       "  548723: 2.0485329627990723,\n",
       "  548724: 2.097005844116211,\n",
       "  548725: 2.0847861766815186,\n",
       "  548726: 2.100590467453003,\n",
       "  548727: 2.070802927017212,\n",
       "  548728: 2.1205506324768066,\n",
       "  548729: 2.100667715072632,\n",
       "  548730: 2.0798726081848145,\n",
       "  548731: 2.0811243057250977,\n",
       "  548732: 2.109095573425293,\n",
       "  548733: 2.0797390937805176,\n",
       "  548734: 2.1063902378082275,\n",
       "  548735: 2.08929443359375,\n",
       "  548736: 2.1030352115631104,\n",
       "  548737: 2.0665440559387207,\n",
       "  548738: 2.126014232635498,\n",
       "  548739: 2.0763535499572754,\n",
       "  548740: 2.0905606746673584,\n",
       "  548741: 2.098975419998169,\n",
       "  548742: 2.0809836387634277,\n",
       "  548743: 2.1057915687561035,\n",
       "  548744: 2.081613063812256,\n",
       "  548745: 2.0983235836029053,\n",
       "  548746: 2.138648271560669,\n",
       "  548747: 2.093193292617798,\n",
       "  548748: 2.1079814434051514,\n",
       "  548749: 2.0800206661224365,\n",
       "  548750: 2.098834991455078,\n",
       "  548751: 2.0852317810058594,\n",
       "  548752: 2.041822671890259,\n",
       "  548753: 2.075000047683716,\n",
       "  548754: 2.0602834224700928,\n",
       "  548755: 2.088728189468384,\n",
       "  548756: 2.114023447036743,\n",
       "  548757: 2.0592238903045654,\n",
       "  548758: 2.0991339683532715,\n",
       "  548759: 2.102396249771118,\n",
       "  548760: 2.0743017196655273,\n",
       "  548761: 2.064746856689453,\n",
       "  548762: 2.11507511138916,\n",
       "  548763: 2.07501482963562,\n",
       "  548764: 2.1079649925231934,\n",
       "  548765: 2.046513795852661,\n",
       "  548766: 2.087440013885498,\n",
       "  548767: 2.0721435546875,\n",
       "  548768: 2.063795328140259,\n",
       "  548769: 2.103256940841675,\n",
       "  548770: 2.0741820335388184,\n",
       "  548771: 2.098480224609375,\n",
       "  548772: 2.0967657566070557,\n",
       "  548773: 2.1017751693725586,\n",
       "  548774: 2.0734505653381348,\n",
       "  548775: 2.083989381790161,\n",
       "  548776: 2.10683274269104,\n",
       "  548777: 2.0824835300445557,\n",
       "  548778: 2.0675787925720215,\n",
       "  548779: 2.0872929096221924,\n",
       "  548780: 2.0926284790039062,\n",
       "  548781: 2.111701726913452,\n",
       "  548782: 2.1405811309814453,\n",
       "  548783: 2.087285280227661,\n",
       "  548784: 2.0772838592529297,\n",
       "  548785: 2.0980350971221924,\n",
       "  548786: 2.123281717300415,\n",
       "  548787: 2.095447540283203,\n",
       "  548788: 2.0610907077789307,\n",
       "  548789: 2.139054536819458,\n",
       "  548790: 2.074209213256836,\n",
       "  548791: 2.086016893386841,\n",
       "  548792: 2.1265921592712402,\n",
       "  548793: 2.1054413318634033,\n",
       "  548794: 2.0668153762817383,\n",
       "  548795: 2.1125071048736572,\n",
       "  548796: 2.0996127128601074,\n",
       "  548797: 2.0630667209625244,\n",
       "  548798: 2.0896377563476562,\n",
       "  548799: 2.1265995502471924,\n",
       "  548800: 2.0507140159606934,\n",
       "  548801: 2.0871713161468506,\n",
       "  548802: 2.1314001083374023,\n",
       "  548803: 2.0808866024017334,\n",
       "  548804: 2.1161327362060547,\n",
       "  548805: 2.0824408531188965,\n",
       "  548806: 2.103679656982422,\n",
       "  548807: 2.0689845085144043,\n",
       "  548808: 2.0787484645843506,\n",
       "  548809: 2.087550640106201,\n",
       "  548810: 2.0960397720336914,\n",
       "  548811: 2.0469307899475098,\n",
       "  548812: 2.0848047733306885,\n",
       "  548813: 2.066042900085449,\n",
       "  548814: 2.077792167663574,\n",
       "  548815: 2.104849100112915,\n",
       "  548816: 2.0896730422973633,\n",
       "  548817: 2.092806577682495,\n",
       "  548818: 2.0989155769348145,\n",
       "  548819: 2.0735068321228027,\n",
       "  548820: 2.1141915321350098,\n",
       "  548821: 2.111724853515625,\n",
       "  548822: 2.0923337936401367,\n",
       "  548823: 2.0571272373199463,\n",
       "  548824: 2.055710792541504,\n",
       "  548825: 2.075655460357666,\n",
       "  548826: 2.055482864379883,\n",
       "  548827: 2.0724403858184814,\n",
       "  548828: 2.108583927154541,\n",
       "  548829: 2.103055477142334,\n",
       "  548830: 2.0588223934173584,\n",
       "  548831: 2.0663201808929443,\n",
       "  548832: 2.087613582611084,\n",
       "  548833: 2.0795235633850098,\n",
       "  548834: 2.1216986179351807,\n",
       "  548835: 2.070866107940674,\n",
       "  548836: 2.125617265701294,\n",
       "  548837: 2.08750057220459,\n",
       "  548838: 2.102123260498047,\n",
       "  548839: 2.1047439575195312,\n",
       "  548840: 2.064257860183716,\n",
       "  548841: 2.091106653213501,\n",
       "  548842: 2.107097625732422,\n",
       "  548843: 2.08064866065979,\n",
       "  548844: 2.126418352127075,\n",
       "  548845: 2.102825880050659,\n",
       "  548846: 2.1111063957214355,\n",
       "  548847: 2.115030527114868,\n",
       "  548848: 2.0868074893951416,\n",
       "  548849: 2.1023290157318115,\n",
       "  548850: 2.0946669578552246,\n",
       "  548851: 2.0928585529327393,\n",
       "  548852: 2.093479633331299,\n",
       "  548853: 2.05725359916687,\n",
       "  548854: 2.0833864212036133,\n",
       "  548855: 2.1140189170837402,\n",
       "  548856: 2.0552849769592285,\n",
       "  548857: 2.13703989982605,\n",
       "  548858: 2.084247350692749,\n",
       "  548859: 2.0460987091064453,\n",
       "  548860: 2.10310959815979,\n",
       "  548861: 2.1213111877441406,\n",
       "  548862: 2.1052472591400146,\n",
       "  548863: 2.0958056449890137,\n",
       "  548864: 2.101818084716797,\n",
       "  548865: 2.081538677215576,\n",
       "  548866: 2.097382068634033,\n",
       "  548867: 2.1175198554992676,\n",
       "  548868: 2.0598208904266357,\n",
       "  548869: 2.0707507133483887,\n",
       "  548870: 2.0884859561920166,\n",
       "  548871: 2.0770723819732666,\n",
       "  548872: 2.084851026535034,\n",
       "  548873: 2.0695607662200928,\n",
       "  548874: 2.0820605754852295,\n",
       "  548875: 2.0802741050720215,\n",
       "  548876: 2.08388090133667,\n",
       "  548877: 2.074260711669922,\n",
       "  548878: 2.068695068359375,\n",
       "  548879: 2.1021854877471924,\n",
       "  548880: 2.0780766010284424,\n",
       "  548881: 2.0599365234375,\n",
       "  548882: 2.1045312881469727,\n",
       "  548883: 2.088296413421631,\n",
       "  548884: 2.1030519008636475,\n",
       "  548885: 2.041259765625,\n",
       "  548886: 2.078526735305786,\n",
       "  548887: 2.060763120651245,\n",
       "  548888: 2.038172960281372,\n",
       "  548889: 2.062101364135742,\n",
       "  548890: 2.099893808364868,\n",
       "  548891: 2.0702366828918457,\n",
       "  548892: 2.0904669761657715,\n",
       "  548893: 2.1143665313720703,\n",
       "  548894: 2.0906949043273926,\n",
       "  548895: 2.0989203453063965,\n",
       "  548896: 2.1194841861724854,\n",
       "  548897: 2.114949941635132,\n",
       "  548898: 2.0754454135894775,\n",
       "  548899: 2.0869064331054688,\n",
       "  548900: 2.095940113067627,\n",
       "  548901: 2.106721878051758,\n",
       "  548902: 2.0618255138397217,\n",
       "  548903: 2.0517866611480713,\n",
       "  548904: 2.058122396469116,\n",
       "  548905: 2.1011416912078857,\n",
       "  548906: 2.057454824447632,\n",
       "  548907: 2.1375184059143066,\n",
       "  548908: 2.0601966381073,\n",
       "  548909: 2.08136248588562,\n",
       "  548910: 2.0394697189331055,\n",
       "  548911: 2.097944736480713,\n",
       "  548912: 2.08669376373291,\n",
       "  548913: 2.0697994232177734,\n",
       "  548914: 2.0811564922332764,\n",
       "  548915: 2.0433149337768555,\n",
       "  548916: 2.0600643157958984,\n",
       "  548917: 2.105271339416504,\n",
       "  548918: 2.0995829105377197,\n",
       "  548919: 2.091921329498291,\n",
       "  548920: 2.110013246536255,\n",
       "  548921: 2.063873291015625,\n",
       "  548922: 2.1121861934661865,\n",
       "  548923: 2.104785203933716,\n",
       "  548924: 2.0841097831726074,\n",
       "  548925: 2.09212589263916,\n",
       "  548926: 2.0840399265289307,\n",
       "  548927: 2.0696969032287598,\n",
       "  548928: 2.075786828994751,\n",
       "  548929: 2.0968246459960938,\n",
       "  548930: 2.0879886150360107,\n",
       "  548931: 2.0765533447265625,\n",
       "  548932: 2.070204496383667,\n",
       "  548933: 2.078350305557251,\n",
       "  548934: 2.093369483947754,\n",
       "  548935: 2.079105854034424,\n",
       "  548936: 2.0594427585601807,\n",
       "  548937: 2.1041951179504395,\n",
       "  548938: 2.0746471881866455,\n",
       "  548939: 2.0882363319396973,\n",
       "  548940: 2.0908560752868652,\n",
       "  548941: 2.08642840385437,\n",
       "  548942: 2.0789012908935547,\n",
       "  548943: 2.0585882663726807,\n",
       "  548944: 2.0707054138183594,\n",
       "  548945: 2.1070055961608887,\n",
       "  548946: 2.1311066150665283,\n",
       "  548947: 2.0903782844543457,\n",
       "  548948: 2.1050376892089844,\n",
       "  548949: 2.107292890548706,\n",
       "  548950: 2.0688250064849854,\n",
       "  548951: 2.0792927742004395,\n",
       "  548952: 2.0463130474090576,\n",
       "  548953: 2.0565521717071533,\n",
       "  548954: 2.079233407974243,\n",
       "  548955: 2.08742618560791,\n",
       "  548956: 2.067646026611328,\n",
       "  548957: 2.0811002254486084,\n",
       "  548958: 2.063807487487793,\n",
       "  548959: 2.139939069747925,\n",
       "  548960: 2.10054874420166,\n",
       "  548961: 2.0616002082824707,\n",
       "  548962: 2.10075306892395,\n",
       "  548963: 2.0875470638275146,\n",
       "  548964: 2.080113410949707,\n",
       "  548965: 2.093528985977173,\n",
       "  548966: 2.116718053817749,\n",
       "  548967: 2.0843629837036133,\n",
       "  548968: 2.037456750869751,\n",
       "  548969: 2.0932419300079346,\n",
       "  548970: 2.1189846992492676,\n",
       "  548971: 2.092071533203125,\n",
       "  548972: 2.0567095279693604,\n",
       "  548973: 2.0973803997039795,\n",
       "  548974: 2.118481159210205,\n",
       "  548975: 2.0648114681243896,\n",
       "  548976: 2.0674591064453125,\n",
       "  548977: 2.0646963119506836,\n",
       "  548978: 2.0757153034210205,\n",
       "  548979: 2.1099071502685547,\n",
       "  548980: 2.082690954208374,\n",
       "  548981: 2.108321189880371,\n",
       "  548982: 2.1212399005889893,\n",
       "  548983: 2.0840418338775635,\n",
       "  548984: 2.0814969539642334,\n",
       "  548985: 2.084263563156128,\n",
       "  548986: 2.0862953662872314,\n",
       "  548987: 2.0892293453216553,\n",
       "  548988: 2.121500015258789,\n",
       "  548989: 2.054551839828491,\n",
       "  548990: 2.0752336978912354,\n",
       "  548991: 2.0859696865081787,\n",
       "  548992: 2.104343891143799,\n",
       "  548993: 2.106517791748047,\n",
       "  548994: 2.0949783325195312,\n",
       "  548995: 2.061934471130371,\n",
       "  548996: 2.093583345413208,\n",
       "  548997: 2.104034662246704,\n",
       "  548998: 2.0793778896331787,\n",
       "  548999: 2.0798025131225586,\n",
       "  549000: 2.1012611389160156,\n",
       "  549001: 2.108621120452881,\n",
       "  549002: 2.0915262699127197,\n",
       "  549003: 2.032762050628662,\n",
       "  549004: 2.063730239868164,\n",
       "  549005: 2.0627429485321045,\n",
       "  549006: 2.076146125793457,\n",
       "  549007: 2.0599477291107178,\n",
       "  549008: 2.074032783508301,\n",
       "  549009: 2.0920631885528564,\n",
       "  549010: 2.1050798892974854,\n",
       "  549011: 2.0668463706970215,\n",
       "  549012: 2.0568196773529053,\n",
       "  549013: 2.0717477798461914,\n",
       "  549014: 2.0668466091156006,\n",
       "  549015: 2.0896077156066895,\n",
       "  549016: 2.0920302867889404,\n",
       "  549017: 2.05920672416687,\n",
       "  549018: 2.084723711013794,\n",
       "  549019: 2.080503463745117,\n",
       "  549020: 2.1113948822021484,\n",
       "  549021: 2.130567789077759,\n",
       "  549022: 2.1145119667053223,\n",
       "  549023: 2.0907046794891357,\n",
       "  549024: 2.0720484256744385,\n",
       "  549025: 2.104112148284912,\n",
       "  549026: 2.0817110538482666,\n",
       "  549027: 2.0900630950927734,\n",
       "  549028: 2.1193478107452393,\n",
       "  549029: 2.068925142288208,\n",
       "  549030: 2.090977907180786,\n",
       "  549031: 2.1180148124694824,\n",
       "  549032: 2.1658518314361572,\n",
       "  549033: 2.0647244453430176,\n",
       "  549034: 2.086411714553833,\n",
       "  549035: 2.0629520416259766,\n",
       "  549036: 2.0794482231140137,\n",
       "  549037: 2.1134204864501953,\n",
       "  549038: 2.0691466331481934,\n",
       "  549039: 2.069403886795044,\n",
       "  549040: 2.0893197059631348,\n",
       "  549041: 2.0833725929260254,\n",
       "  549042: 2.0739388465881348,\n",
       "  549043: 2.060901641845703,\n",
       "  549044: 2.0923495292663574,\n",
       "  549045: 2.0734691619873047,\n",
       "  549046: 2.0859923362731934,\n",
       "  549047: 2.07000732421875,\n",
       "  549048: 2.093329429626465,\n",
       "  549049: 2.0933563709259033,\n",
       "  549050: 2.1376171112060547,\n",
       "  549051: 2.112151861190796,\n",
       "  549052: 2.110773801803589,\n",
       "  549053: 2.090287208557129,\n",
       "  549054: 2.071953773498535,\n",
       "  549055: 2.0827200412750244,\n",
       "  549056: 2.0907599925994873,\n",
       "  549057: 2.063483238220215,\n",
       "  549058: 2.1184537410736084,\n",
       "  549059: 2.0859975814819336,\n",
       "  549060: 2.077284336090088,\n",
       "  549061: 2.095857858657837,\n",
       "  549062: 2.0789713859558105,\n",
       "  549063: 2.1143813133239746,\n",
       "  549064: 2.090296745300293,\n",
       "  549065: 2.0599312782287598,\n",
       "  549066: 2.1171348094940186,\n",
       "  549067: 2.0704872608184814,\n",
       "  549068: 2.118175983428955,\n",
       "  549069: 2.058974266052246,\n",
       "  549070: 2.1028952598571777,\n",
       "  549071: 2.1120071411132812,\n",
       "  549072: 2.1003916263580322,\n",
       "  549073: 2.0716540813446045,\n",
       "  549074: 2.0822560787200928,\n",
       "  549075: 2.070420026779175,\n",
       "  549076: 2.0876517295837402,\n",
       "  549077: 2.076127529144287,\n",
       "  549078: 2.0723938941955566,\n",
       "  549079: 2.0954067707061768,\n",
       "  549080: 2.0878660678863525,\n",
       "  549081: 2.1079258918762207,\n",
       "  549082: 2.065758228302002,\n",
       "  549083: 2.0570948123931885,\n",
       "  549084: 2.136183261871338,\n",
       "  549085: 2.085202693939209,\n",
       "  549086: 2.126585006713867,\n",
       "  549087: 2.070969343185425,\n",
       "  549088: 2.137291431427002,\n",
       "  549089: 2.087176561355591,\n",
       "  549090: 2.11509108543396,\n",
       "  549091: 2.070732593536377,\n",
       "  549092: 2.0849950313568115,\n",
       "  549093: 2.050461769104004,\n",
       "  549094: 2.0904693603515625,\n",
       "  549095: 2.0748167037963867,\n",
       "  549096: 2.0559208393096924,\n",
       "  549097: 2.084604263305664,\n",
       "  549098: 2.1091158390045166,\n",
       "  549099: 2.1149861812591553,\n",
       "  549100: 2.1071290969848633,\n",
       "  549101: 2.09922456741333,\n",
       "  549102: 2.1207644939422607,\n",
       "  549103: 2.0734260082244873,\n",
       "  549104: 2.1333022117614746,\n",
       "  549105: 2.071887731552124,\n",
       "  549106: 2.0575854778289795,\n",
       "  549107: 2.075265645980835,\n",
       "  549108: 2.099771738052368,\n",
       "  549109: 2.0748291015625,\n",
       "  549110: 2.0931806564331055,\n",
       "  549111: 2.113368272781372,\n",
       "  549112: 2.0894522666931152,\n",
       "  549113: 2.0599613189697266,\n",
       "  549114: 2.078455686569214,\n",
       "  549115: 2.1072404384613037,\n",
       "  549116: 2.0597286224365234,\n",
       "  549117: 2.0829339027404785,\n",
       "  549118: 2.1028385162353516,\n",
       "  549119: 2.085510730743408,\n",
       "  549120: 2.094379425048828,\n",
       "  549121: 2.09808087348938,\n",
       "  549122: 2.1327033042907715,\n",
       "  549123: 2.0831265449523926,\n",
       "  549124: 2.0925371646881104,\n",
       "  549125: 2.091200590133667,\n",
       "  549126: 2.117297887802124,\n",
       "  549127: 2.0782663822174072,\n",
       "  549128: 2.0671322345733643,\n",
       "  549129: 2.132647752761841,\n",
       "  549130: 2.100825309753418,\n",
       "  549131: 2.0428779125213623,\n",
       "  549132: 2.08194899559021,\n",
       "  549133: 2.0837833881378174,\n",
       "  549134: 2.1228580474853516,\n",
       "  549135: 2.0723814964294434,\n",
       "  549136: 2.083930492401123,\n",
       "  549137: 2.0384955406188965,\n",
       "  549138: 2.100179433822632,\n",
       "  549139: 2.107095956802368,\n",
       "  549140: 2.0750632286071777,\n",
       "  549141: 2.1067230701446533,\n",
       "  549142: 2.0691380500793457,\n",
       "  549143: 2.098599910736084,\n",
       "  549144: 2.0968663692474365,\n",
       "  549145: 2.1060714721679688,\n",
       "  549146: 2.0909314155578613,\n",
       "  549147: 2.05763840675354,\n",
       "  549148: 2.1083617210388184,\n",
       "  549149: 2.1322264671325684,\n",
       "  549150: 2.1257314682006836,\n",
       "  549151: 2.1183865070343018,\n",
       "  549152: 2.045165538787842,\n",
       "  549153: 2.0688023567199707,\n",
       "  549154: 2.132922410964966,\n",
       "  549155: 2.0937187671661377,\n",
       "  549156: 2.0815212726593018,\n",
       "  549157: 2.1160974502563477,\n",
       "  549158: 2.085590124130249,\n",
       "  549159: 2.056650161743164,\n",
       "  549160: 2.0845448970794678,\n",
       "  549161: 2.0966241359710693,\n",
       "  549162: 2.091198444366455,\n",
       "  549163: 2.096550464630127,\n",
       "  549164: 2.106440544128418,\n",
       "  549165: 2.128995180130005,\n",
       "  549166: 2.102745532989502,\n",
       "  549167: 2.0521225929260254,\n",
       "  549168: 2.0785953998565674,\n",
       "  549169: 2.109201669692993,\n",
       "  549170: 2.133197069168091,\n",
       "  549171: 2.06748628616333,\n",
       "  549172: 2.0605106353759766,\n",
       "  549173: 2.064836263656616,\n",
       "  549174: 2.114633798599243,\n",
       "  549175: 2.044560670852661,\n",
       "  549176: 2.1021106243133545,\n",
       "  549177: 2.131385564804077,\n",
       "  549178: 2.0908217430114746,\n",
       "  549179: 2.1006364822387695,\n",
       "  549180: 2.0716168880462646,\n",
       "  549181: 2.111023426055908,\n",
       "  549182: 2.0793678760528564,\n",
       "  549183: 2.1069400310516357,\n",
       "  549184: 2.0672690868377686,\n",
       "  549185: 2.088777780532837,\n",
       "  549186: 2.1021132469177246,\n",
       "  549187: 2.0889933109283447,\n",
       "  549188: 2.0901341438293457,\n",
       "  549189: 2.093618154525757,\n",
       "  549190: 2.0871517658233643,\n",
       "  549191: 2.111266613006592,\n",
       "  549192: 2.0218167304992676,\n",
       "  549193: 2.10986065864563,\n",
       "  549194: 2.0739965438842773,\n",
       "  549195: 2.063713312149048,\n",
       "  549196: 2.1352477073669434,\n",
       "  549197: 2.0907466411590576,\n",
       "  549198: 2.093125820159912,\n",
       "  549199: 2.067760944366455,\n",
       "  549200: 2.053577184677124,\n",
       "  549201: 2.117600917816162,\n",
       "  549202: 2.0813238620758057,\n",
       "  549203: 2.0689423084259033,\n",
       "  549204: 2.0847537517547607,\n",
       "  549205: 2.0653698444366455,\n",
       "  549206: 2.0999999046325684,\n",
       "  549207: 2.093674898147583,\n",
       "  549208: 2.048099994659424,\n",
       "  549209: 2.0803637504577637,\n",
       "  549210: 2.092381238937378,\n",
       "  549211: 2.1152517795562744,\n",
       "  549212: 2.090754747390747,\n",
       "  549213: 2.051433563232422,\n",
       "  549214: 2.1172502040863037,\n",
       "  549215: 2.09084415435791,\n",
       "  549216: 2.1468303203582764,\n",
       "  549217: 2.140075445175171,\n",
       "  549218: 2.0766754150390625,\n",
       "  549219: 2.0698158740997314,\n",
       "  549220: 2.060344696044922,\n",
       "  549221: 2.0753731727600098,\n",
       "  549222: 2.0759212970733643,\n",
       "  549223: 2.051889181137085,\n",
       "  549224: 2.117387533187866,\n",
       "  549225: 2.076240062713623,\n",
       "  549226: 2.067270278930664,\n",
       "  549227: 2.0964725017547607,\n",
       "  549228: 2.083684206008911,\n",
       "  549229: 2.0837647914886475,\n",
       "  549230: 2.1004655361175537,\n",
       "  549231: 2.133519411087036,\n",
       "  549232: 2.052393913269043,\n",
       "  549233: 2.090033769607544,\n",
       "  549234: 2.088698387145996,\n",
       "  549235: 2.0419607162475586,\n",
       "  549236: 2.059506893157959,\n",
       "  549237: 2.089306592941284,\n",
       "  549238: 2.0816726684570312,\n",
       "  549239: 2.072248935699463,\n",
       "  549240: 2.038034677505493,\n",
       "  549241: 2.0756988525390625,\n",
       "  549242: 2.10614275932312,\n",
       "  549243: 2.069905996322632,\n",
       "  549244: 2.039675712585449,\n",
       "  549245: 2.1064975261688232,\n",
       "  549246: 2.0882568359375,\n",
       "  549247: 2.047175884246826,\n",
       "  549248: 2.1175949573516846,\n",
       "  549249: 2.102631092071533,\n",
       "  549250: 2.074694871902466,\n",
       "  549251: 2.1097347736358643,\n",
       "  549252: 2.10943603515625,\n",
       "  549253: 2.0606415271759033,\n",
       "  549254: 2.1215782165527344,\n",
       "  549255: 2.058274984359741,\n",
       "  549256: 2.1157779693603516,\n",
       "  549257: 2.1095821857452393,\n",
       "  549258: 2.101820707321167,\n",
       "  549259: 2.0799615383148193,\n",
       "  549260: 2.093536615371704,\n",
       "  549261: 2.103916883468628,\n",
       "  549262: 2.1162097454071045,\n",
       "  549263: 2.1012463569641113,\n",
       "  549264: 2.0937118530273438,\n",
       "  549265: 2.064727544784546,\n",
       "  549266: 2.040508508682251,\n",
       "  549267: 2.084340810775757,\n",
       "  549268: 2.1227054595947266,\n",
       "  549269: 2.0810511112213135,\n",
       "  549270: 2.080812931060791,\n",
       "  549271: 2.089163303375244,\n",
       "  549272: 2.0897552967071533,\n",
       "  549273: 2.084214210510254,\n",
       "  549274: 2.1151859760284424,\n",
       "  549275: 2.124760866165161,\n",
       "  549276: 2.074657917022705,\n",
       "  549277: 2.054080009460449,\n",
       "  549278: 2.10728120803833,\n",
       "  549279: 2.100921869277954,\n",
       "  549280: 2.099848747253418,\n",
       "  549281: 2.0624260902404785,\n",
       "  549282: 2.0800535678863525,\n",
       "  549283: 2.1118249893188477,\n",
       "  549284: 2.0798234939575195,\n",
       "  549285: 2.0989177227020264,\n",
       "  549286: 2.075068950653076,\n",
       "  549287: 2.061379909515381,\n",
       "  549288: 2.0918824672698975,\n",
       "  549289: 2.069749593734741,\n",
       "  549290: 2.092768907546997,\n",
       "  549291: 2.116194248199463,\n",
       "  549292: 2.0661566257476807,\n",
       "  549293: 2.0717828273773193,\n",
       "  549294: 2.0670464038848877,\n",
       "  549295: 2.094299554824829,\n",
       "  549296: 2.0914525985717773,\n",
       "  549297: 2.1009278297424316,\n",
       "  549298: 2.071420431137085,\n",
       "  549299: 2.1255733966827393,\n",
       "  549300: 2.100311279296875,\n",
       "  549301: 2.0613129138946533,\n",
       "  549302: 2.1118061542510986,\n",
       "  549303: 2.05928111076355,\n",
       "  549304: 2.0898001194000244,\n",
       "  549305: 2.108492136001587,\n",
       "  549306: 2.103186845779419,\n",
       "  549307: 2.065253257751465,\n",
       "  549308: 2.068190813064575,\n",
       "  549309: 2.08101487159729,\n",
       "  549310: 2.0952131748199463,\n",
       "  549311: 2.0724098682403564,\n",
       "  549312: 2.1099917888641357,\n",
       "  549313: 2.073979139328003,\n",
       "  549314: 2.116126298904419,\n",
       "  549315: 2.083559036254883,\n",
       "  549316: 2.0515620708465576,\n",
       "  549317: 2.0888235569000244,\n",
       "  549318: 2.051267385482788,\n",
       "  549319: 2.0880119800567627,\n",
       "  549320: 2.1099331378936768,\n",
       "  549321: 2.0806057453155518,\n",
       "  549322: 2.0802998542785645,\n",
       "  549323: 2.054009199142456,\n",
       "  549324: 2.106447458267212,\n",
       "  549325: 2.0900039672851562,\n",
       "  549326: 2.0976366996765137,\n",
       "  549327: 2.0791711807250977,\n",
       "  549328: 2.1351568698883057,\n",
       "  549329: 2.1005866527557373,\n",
       "  549330: 2.072953939437866,\n",
       "  549331: 2.0999538898468018,\n",
       "  549332: 2.071904420852661,\n",
       "  549333: 2.07542085647583,\n",
       "  549334: 2.081137180328369,\n",
       "  549335: 2.0706870555877686,\n",
       "  549336: 2.0597784519195557,\n",
       "  549337: 2.0839285850524902,\n",
       "  549338: 2.079798936843872,\n",
       "  549339: 2.063865900039673,\n",
       "  549340: 2.0931754112243652,\n",
       "  549341: 2.055541753768921,\n",
       "  549342: 2.0898585319519043,\n",
       "  549343: 2.0711545944213867,\n",
       "  549344: 2.090942144393921,\n",
       "  549345: 2.1223621368408203,\n",
       "  549346: 2.0747711658477783,\n",
       "  549347: 2.0755348205566406,\n",
       "  549348: 2.078507423400879,\n",
       "  549349: 2.093294620513916,\n",
       "  549350: 2.074575901031494,\n",
       "  549351: 2.090116262435913,\n",
       "  549352: 2.1020116806030273,\n",
       "  549353: 2.0746428966522217,\n",
       "  549354: 2.1197121143341064,\n",
       "  549355: 2.088249921798706,\n",
       "  549356: 2.078317880630493,\n",
       "  549357: 2.079641103744507,\n",
       "  549358: 2.084019184112549,\n",
       "  549359: 2.0673513412475586,\n",
       "  549360: 2.0922553539276123,\n",
       "  549361: 2.1057240962982178,\n",
       "  549362: 2.084839344024658,\n",
       "  549363: 2.0757625102996826,\n",
       "  549364: 2.125737190246582,\n",
       "  549365: 2.0845232009887695,\n",
       "  549366: 2.0806074142456055,\n",
       "  549367: 2.049260377883911,\n",
       "  549368: 2.066192626953125,\n",
       "  549369: 2.078660726547241,\n",
       "  549370: 2.107956647872925,\n",
       "  549371: 2.0923097133636475,\n",
       "  549372: 2.0718374252319336,\n",
       "  549373: 2.0882327556610107,\n",
       "  549374: 2.0839765071868896,\n",
       "  549375: 2.0276594161987305,\n",
       "  549376: 2.0932095050811768,\n",
       "  549377: 2.0671188831329346,\n",
       "  549378: 2.0898094177246094,\n",
       "  549379: 2.0833311080932617,\n",
       "  549380: 2.074004888534546,\n",
       "  549381: 2.052394390106201,\n",
       "  549382: 2.097419500350952,\n",
       "  549383: 2.08400559425354,\n",
       "  549384: 2.1017236709594727,\n",
       "  549385: 2.1258139610290527,\n",
       "  549386: 2.092297077178955,\n",
       "  549387: 2.0910117626190186,\n",
       "  549388: 2.0780744552612305,\n",
       "  549389: 2.097851276397705,\n",
       "  549390: 2.106829881668091,\n",
       "  549391: 2.052950382232666,\n",
       "  549392: 2.097444534301758,\n",
       "  549393: 2.031323194503784,\n",
       "  549394: 2.0932424068450928,\n",
       "  549395: 2.1199426651000977,\n",
       "  549396: 2.0886096954345703,\n",
       "  549397: 2.0479164123535156,\n",
       "  549398: 2.0535123348236084,\n",
       "  549399: 2.1143267154693604,\n",
       "  549400: 2.070608377456665,\n",
       "  549401: 2.106153726577759,\n",
       "  549402: 2.0916154384613037,\n",
       "  549403: 2.070547342300415,\n",
       "  549404: 2.080899715423584,\n",
       "  549405: 2.0713536739349365,\n",
       "  549406: 2.0799176692962646,\n",
       "  549407: 2.0989813804626465,\n",
       "  549408: 2.102132558822632,\n",
       "  549409: 2.0737621784210205,\n",
       "  549410: 2.0948750972747803,\n",
       "  549411: 2.075342893600464,\n",
       "  549412: 2.0741472244262695,\n",
       "  549413: 2.068319797515869,\n",
       "  549414: 2.1187591552734375,\n",
       "  549415: 2.06492018699646,\n",
       "  549416: 2.0917694568634033,\n",
       "  549417: 2.045760154724121,\n",
       "  549418: 2.095090866088867,\n",
       "  549419: 2.118204116821289,\n",
       "  549420: 2.1009349822998047,\n",
       "  549421: 2.0937492847442627,\n",
       "  549422: 2.078840494155884,\n",
       "  549423: 2.0606651306152344,\n",
       "  549424: 2.1072678565979004,\n",
       "  549425: 2.0791265964508057,\n",
       "  549426: 2.0882279872894287,\n",
       "  549427: 2.0870180130004883,\n",
       "  549428: 2.106158971786499,\n",
       "  549429: 2.060576915740967,\n",
       "  549430: 2.080446243286133,\n",
       "  549431: 2.0794734954833984,\n",
       "  549432: 2.0967655181884766,\n",
       "  549433: 2.118359327316284,\n",
       "  549434: 2.1028151512145996,\n",
       "  549435: 2.1150643825531006,\n",
       "  549436: 2.1246440410614014,\n",
       "  549437: 2.09957218170166,\n",
       "  549438: 2.069493055343628,\n",
       "  549439: 2.114718437194824,\n",
       "  549440: 2.092883348464966,\n",
       "  549441: 2.130077600479126,\n",
       "  549442: 2.095442056655884,\n",
       "  549443: 2.0882701873779297,\n",
       "  549444: 2.1164987087249756,\n",
       "  549445: 2.087338924407959,\n",
       "  549446: 2.086671829223633,\n",
       "  549447: 2.0656259059906006,\n",
       "  549448: 2.106022357940674,\n",
       "  549449: 2.105355739593506,\n",
       "  549450: 2.088552713394165,\n",
       "  ...},\n",
       " {548460: 1.9121376276016235,\n",
       "  548470: 0.37909236550331116,\n",
       "  548480: 0.3141768276691437,\n",
       "  548490: 0.33770349621772766,\n",
       "  548500: 0.45085325837135315,\n",
       "  548510: 0.3055689036846161,\n",
       "  548520: 0.32423263788223267,\n",
       "  548530: 0.3656207323074341,\n",
       "  548540: 0.7674987316131592,\n",
       "  548550: 0.3310193121433258,\n",
       "  548560: 0.31510594487190247,\n",
       "  548570: 0.39280739426612854,\n",
       "  548580: 0.3096940517425537,\n",
       "  548590: 0.45034775137901306,\n",
       "  548600: 0.4314655363559723,\n",
       "  548610: 0.3045507073402405,\n",
       "  548620: 0.3669620752334595,\n",
       "  548630: 0.4284971058368683,\n",
       "  548640: 0.38102906942367554,\n",
       "  548650: 0.3169676959514618,\n",
       "  548660: 0.3058895170688629,\n",
       "  548670: 0.30782100558280945,\n",
       "  548680: 0.36364468932151794,\n",
       "  548690: 0.3047226369380951,\n",
       "  548700: 0.3176374137401581,\n",
       "  548710: 0.34369632601737976,\n",
       "  548720: 0.3185168504714966,\n",
       "  548730: 0.34646308422088623,\n",
       "  548740: 0.3319995105266571,\n",
       "  548750: 3.650953769683838,\n",
       "  548760: 0.32289600372314453,\n",
       "  548770: 0.8643155694007874,\n",
       "  548780: 0.3144702613353729,\n",
       "  548790: 0.3124195635318756,\n",
       "  548800: 0.31139954924583435,\n",
       "  548810: 0.2999839186668396,\n",
       "  548820: 0.30268749594688416,\n",
       "  548830: 0.32312554121017456,\n",
       "  548840: 0.31668201088905334,\n",
       "  548850: 0.38582172989845276,\n",
       "  548860: 0.7683780193328857,\n",
       "  548870: 0.3242448568344116,\n",
       "  548880: 0.31689968705177307,\n",
       "  548890: 0.34833747148513794,\n",
       "  548900: 0.29915326833724976,\n",
       "  548910: 0.3357841372489929,\n",
       "  548920: 0.3132741153240204,\n",
       "  548930: 0.3742349147796631,\n",
       "  548940: 0.31298425793647766,\n",
       "  548950: 0.3355116844177246,\n",
       "  548960: 0.315667986869812,\n",
       "  548970: 0.3626786768436432,\n",
       "  548980: 0.2974761128425598,\n",
       "  548990: 0.5597007870674133,\n",
       "  549000: 0.29925012588500977,\n",
       "  549010: 0.31144654750823975,\n",
       "  549020: 0.32758402824401855,\n",
       "  549030: 0.3259834051132202,\n",
       "  549040: 0.3083953261375427,\n",
       "  549050: 0.3237057626247406,\n",
       "  549060: 0.33510449528694153,\n",
       "  549070: 0.30564770102500916,\n",
       "  549080: 0.29565244913101196,\n",
       "  549090: 0.4874931275844574,\n",
       "  549100: 0.32156670093536377,\n",
       "  549110: 0.3582809269428253,\n",
       "  549120: 0.36253562569618225,\n",
       "  549130: 0.3189411461353302,\n",
       "  549140: 0.3513756990432739,\n",
       "  549150: 0.3820704519748688,\n",
       "  549160: 0.33305421471595764,\n",
       "  549170: 0.3131977617740631,\n",
       "  549180: 0.3208834230899811,\n",
       "  549190: 0.31906381249427795,\n",
       "  549200: 0.31114640831947327,\n",
       "  549210: 0.3226621747016907,\n",
       "  549220: 0.31189218163490295,\n",
       "  549230: 0.3099368214607239,\n",
       "  549240: 0.3127284646034241,\n",
       "  549250: 0.32647770643234253,\n",
       "  549260: 0.3391640782356262,\n",
       "  549270: 0.381437212228775,\n",
       "  549280: 0.3236318528652191,\n",
       "  549290: 0.40227407217025757,\n",
       "  549300: 0.31313827633857727,\n",
       "  549310: 0.33476871252059937,\n",
       "  549320: 0.359942764043808,\n",
       "  549330: 0.32561999559402466,\n",
       "  549340: 0.32721632719039917,\n",
       "  549350: 0.3128984868526459,\n",
       "  549360: 0.3219928741455078,\n",
       "  549370: 0.3419575095176697,\n",
       "  549380: 6.22511100769043,\n",
       "  549390: 0.34845107793807983,\n",
       "  549400: 0.6317757964134216,\n",
       "  549410: 0.3317064940929413,\n",
       "  549420: 0.3515550196170807,\n",
       "  549430: 0.38618800044059753,\n",
       "  549440: 0.3450166881084442,\n",
       "  549450: 0.30324652791023254,\n",
       "  549460: 0.29991769790649414,\n",
       "  549470: 0.31833669543266296,\n",
       "  549480: 0.3450782299041748,\n",
       "  549490: 0.33650922775268555,\n",
       "  549500: 0.5001168251037598,\n",
       "  549510: 0.33531516790390015,\n",
       "  549520: 0.4069133996963501,\n",
       "  549530: 0.33223268389701843,\n",
       "  549540: 0.30460071563720703,\n",
       "  549550: 0.5383263230323792,\n",
       "  549560: 0.32741785049438477,\n",
       "  549570: 0.32698169350624084,\n",
       "  549580: 0.31787359714508057,\n",
       "  549590: 0.37862420082092285,\n",
       "  549600: 0.5766099691390991,\n",
       "  549610: 0.31274598836898804,\n",
       "  549620: 0.34859246015548706,\n",
       "  549630: 0.40293702483177185,\n",
       "  549640: 0.3134670555591583,\n",
       "  549650: 0.32308509945869446,\n",
       "  549660: 0.3301887810230255,\n",
       "  549670: 0.297633558511734,\n",
       "  549680: 0.3297894597053528,\n",
       "  549690: 0.30012375116348267,\n",
       "  549700: 0.3734823167324066,\n",
       "  549710: 0.3249377906322479,\n",
       "  549720: 0.3126119375228882,\n",
       "  549730: 0.34739595651626587,\n",
       "  549740: 0.3563496768474579,\n",
       "  549750: 0.32725197076797485,\n",
       "  549760: 0.3210151195526123,\n",
       "  549770: 0.3415982723236084,\n",
       "  549780: 0.34060609340667725,\n",
       "  549790: 0.3610396683216095,\n",
       "  549800: 0.3155535161495209,\n",
       "  549810: 0.28999385237693787,\n",
       "  549820: 0.3353339731693268,\n",
       "  549830: 0.32712656259536743,\n",
       "  549840: 0.3018738329410553,\n",
       "  549850: 0.34421229362487793,\n",
       "  549860: 0.3262924551963806,\n",
       "  549870: 0.3017989695072174,\n",
       "  549880: 0.305782288312912,\n",
       "  549890: 0.3227790892124176,\n",
       "  549900: 0.31469741463661194,\n",
       "  549910: 0.357166051864624,\n",
       "  549920: 0.34555426239967346,\n",
       "  549930: 0.2981468141078949,\n",
       "  549940: 0.3662751615047455,\n",
       "  549950: 0.5304256081581116,\n",
       "  549960: 0.3460405170917511,\n",
       "  549970: 0.3747873306274414,\n",
       "  549980: 0.32777297496795654,\n",
       "  549990: 0.32511451840400696,\n",
       "  550000: 0.3276444375514984,\n",
       "  550010: 0.3341665267944336,\n",
       "  550020: 0.31750601530075073,\n",
       "  550030: 0.3148922920227051,\n",
       "  550040: 0.32110896706581116,\n",
       "  550050: 0.8979651927947998,\n",
       "  550060: 0.6059755682945251,\n",
       "  550070: 0.3554249405860901,\n",
       "  550080: 0.3371356427669525,\n",
       "  550090: 0.3345162272453308,\n",
       "  550100: 0.30958619713783264,\n",
       "  550110: 0.5309452414512634,\n",
       "  550120: 0.33254122734069824,\n",
       "  550130: 0.2970463037490845,\n",
       "  550140: 0.35529908537864685,\n",
       "  550150: 0.30433744192123413,\n",
       "  550160: 0.356976181268692,\n",
       "  550170: 0.3475479781627655,\n",
       "  550180: 0.3170354962348938,\n",
       "  550190: 0.34789910912513733,\n",
       "  550200: 0.4403015673160553,\n",
       "  550210: 0.3482496738433838,\n",
       "  550220: 0.3368234932422638,\n",
       "  550230: 0.35476312041282654,\n",
       "  550240: 0.3165506422519684,\n",
       "  550250: 0.5219322443008423,\n",
       "  550260: 0.32973307371139526,\n",
       "  550270: 0.35781025886535645,\n",
       "  550280: 0.3266524374485016,\n",
       "  550290: 0.4183163344860077,\n",
       "  550300: 0.34238195419311523,\n",
       "  550310: 0.348810613155365,\n",
       "  550320: 0.34621021151542664,\n",
       "  550330: 0.3317550718784332,\n",
       "  550340: 0.3290262818336487,\n",
       "  550350: 0.36341315507888794,\n",
       "  550360: 0.3259866237640381,\n",
       "  550370: 0.3793345093727112,\n",
       "  550380: 0.35416364669799805,\n",
       "  550390: 0.3276667892932892,\n",
       "  550400: 0.36109858751296997,\n",
       "  550410: 0.3173341155052185,\n",
       "  550420: 0.43314671516418457,\n",
       "  550430: 0.32771363854408264,\n",
       "  550440: 0.32744088768959045,\n",
       "  550450: 0.36662134528160095,\n",
       "  550460: 0.35440391302108765,\n",
       "  550470: 0.32508838176727295,\n",
       "  550480: 0.34521231055259705,\n",
       "  550490: 0.3410513699054718,\n",
       "  550500: 0.6606295704841614,\n",
       "  550510: 0.34620776772499084,\n",
       "  550520: 0.3190513253211975,\n",
       "  550530: 0.34587591886520386,\n",
       "  550540: 0.3091411590576172,\n",
       "  550550: 0.3235085606575012,\n",
       "  550560: 0.5694741606712341,\n",
       "  550570: 0.38899925351142883,\n",
       "  550580: 0.36515548825263977,\n",
       "  550590: 0.30943188071250916,\n",
       "  550600: 0.3218799829483032,\n",
       "  550610: 0.4814509451389313,\n",
       "  550620: 0.9142153859138489,\n",
       "  550630: 0.40022143721580505,\n",
       "  550640: 0.4005509614944458,\n",
       "  550650: 0.5160353183746338,\n",
       "  550660: 0.34692779183387756,\n",
       "  550670: 0.3614974617958069,\n",
       "  550680: 0.3350197970867157,\n",
       "  550690: 0.3672426640987396,\n",
       "  550700: 0.639184832572937,\n",
       "  550710: 0.4425804018974304,\n",
       "  550720: 0.33048754930496216,\n",
       "  550730: 0.3768312335014343,\n",
       "  550740: 0.32980912923812866,\n",
       "  550750: 0.35847893357276917,\n",
       "  550760: 0.39103150367736816,\n",
       "  550770: 0.33983492851257324,\n",
       "  550780: 0.6897063851356506,\n",
       "  550790: 0.33059898018836975,\n",
       "  550800: 0.37562429904937744,\n",
       "  550810: 0.3018108308315277,\n",
       "  550820: 0.33270055055618286,\n",
       "  550830: 0.3106888234615326,\n",
       "  550840: 0.35696715116500854,\n",
       "  550850: 0.3151932656764984,\n",
       "  550860: 0.5561125874519348,\n",
       "  550870: 0.9833776354789734,\n",
       "  550880: 0.38186851143836975,\n",
       "  550890: 0.36436131596565247,\n",
       "  550900: 0.3394564092159271,\n",
       "  550910: 0.30344638228416443,\n",
       "  550920: 0.31931060552597046,\n",
       "  550930: 0.3476601839065552,\n",
       "  550940: 0.30926573276519775,\n",
       "  550950: 0.3667825758457184,\n",
       "  550960: 0.31775155663490295,\n",
       "  550970: 0.36160215735435486,\n",
       "  550980: 0.3796357214450836,\n",
       "  550990: 0.5266045928001404,\n",
       "  551000: 0.33787116408348083,\n",
       "  551010: 0.3563547432422638,\n",
       "  551020: 0.43801817297935486,\n",
       "  551030: 0.3236239552497864,\n",
       "  551040: 0.3780498206615448,\n",
       "  551050: 0.4590863287448883,\n",
       "  551060: 0.40249764919281006,\n",
       "  551070: 0.41737449169158936,\n",
       "  551080: 0.3409922122955322,\n",
       "  551090: 0.4566844701766968,\n",
       "  551100: 0.3359898328781128,\n",
       "  551110: 0.3459462523460388,\n",
       "  551120: 0.3499123454093933,\n",
       "  551130: 0.34231817722320557,\n",
       "  551140: 0.3493509292602539,\n",
       "  551150: 0.3405710756778717,\n",
       "  551160: 0.3481687009334564,\n",
       "  551170: 0.33278316259384155,\n",
       "  551180: 0.36560574173927307,\n",
       "  551190: 0.31835687160491943,\n",
       "  551200: 0.33069297671318054,\n",
       "  551210: 0.9337886571884155,\n",
       "  551220: 0.3167280852794647,\n",
       "  551230: 0.3465905785560608,\n",
       "  551240: 0.36668866872787476,\n",
       "  551250: 0.3768444359302521,\n",
       "  551260: 0.3421112596988678,\n",
       "  551270: 0.38263314962387085,\n",
       "  551280: 0.3124518096446991,\n",
       "  551290: 0.31971240043640137,\n",
       "  551300: 0.34441331028938293,\n",
       "  551310: 0.31652867794036865,\n",
       "  551320: 0.37863534688949585,\n",
       "  551330: 0.37581366300582886,\n",
       "  551340: 0.35064929723739624,\n",
       "  551350: 0.29932498931884766,\n",
       "  551360: 0.4799032509326935,\n",
       "  551370: 0.3474385142326355,\n",
       "  551380: 0.34097370505332947,\n",
       "  551390: 0.32881247997283936,\n",
       "  551400: 0.30850714445114136,\n",
       "  551410: 0.3435932695865631,\n",
       "  551420: 0.6836653351783752,\n",
       "  551430: 0.5873238444328308,\n",
       "  551440: 0.3119019865989685,\n",
       "  551450: 0.3520592451095581,\n",
       "  551460: 0.45820918679237366,\n",
       "  551470: 0.49532994627952576,\n",
       "  551480: 0.3168545961380005,\n",
       "  551490: 0.3981926441192627,\n",
       "  551500: 0.3347156345844269,\n",
       "  551510: 0.4993587136268616,\n",
       "  551520: 0.33230558037757874,\n",
       "  551530: 0.322547972202301,\n",
       "  551540: 0.326090544462204,\n",
       "  551550: 0.4064130485057831,\n",
       "  551560: 0.37392064929008484,\n",
       "  551570: 0.3236425518989563,\n",
       "  551580: 0.313575804233551,\n",
       "  551590: 0.3417857885360718,\n",
       "  551600: 0.5060254335403442,\n",
       "  551610: 0.3453134596347809,\n",
       "  551620: 0.3343251049518585,\n",
       "  551630: 0.31911998987197876,\n",
       "  551640: 0.30111563205718994,\n",
       "  551650: 0.4175398349761963,\n",
       "  551660: 0.3676494061946869,\n",
       "  551670: 0.3080359697341919,\n",
       "  551680: 0.30956175923347473,\n",
       "  551690: 0.3594232201576233,\n",
       "  551700: 0.3682205080986023,\n",
       "  551710: 0.3877801299095154,\n",
       "  551720: 0.31638240814208984,\n",
       "  551730: 0.31198450922966003,\n",
       "  551740: 0.3649322986602783,\n",
       "  551750: 1.15701425075531,\n",
       "  551760: 0.9479297995567322,\n",
       "  551770: 0.6348446607589722,\n",
       "  551780: 0.34335941076278687,\n",
       "  551790: 0.3454616367816925,\n",
       "  551800: 0.32367080450057983,\n",
       "  551810: 0.3200265169143677,\n",
       "  551820: 0.42056170105934143,\n",
       "  551830: 0.32637089490890503,\n",
       "  551840: 0.41398394107818604,\n",
       "  551850: 0.42480140924453735,\n",
       "  551860: 0.3560381829738617,\n",
       "  551870: 0.34056830406188965,\n",
       "  551880: 0.3151242136955261,\n",
       "  551890: 0.33226823806762695,\n",
       "  551900: 0.32539820671081543,\n",
       "  551910: 0.33168545365333557,\n",
       "  551920: 0.30199816823005676,\n",
       "  551930: 0.33181026577949524,\n",
       "  551940: 0.38220006227493286,\n",
       "  551950: 0.46672776341438293,\n",
       "  551960: 0.5952289700508118,\n",
       "  551970: 0.5380057096481323,\n",
       "  551980: 0.3419736325740814,\n",
       "  551990: 0.38865503668785095,\n",
       "  552000: 0.3277803957462311,\n",
       "  552010: 0.3106825351715088,\n",
       "  552020: 0.37458547949790955,\n",
       "  552030: 1.2606695890426636,\n",
       "  552040: 1.1195147037506104,\n",
       "  552050: 0.330832302570343,\n",
       "  552060: 0.3124306797981262,\n",
       "  552070: 0.3135816156864166,\n",
       "  552080: 0.31948399543762207,\n",
       "  552090: 0.31913772225379944,\n",
       "  552100: 0.3335248529911041,\n",
       "  552110: 0.32843196392059326,\n",
       "  552120: 0.6680619120597839,\n",
       "  552130: 0.30140402913093567,\n",
       "  552140: 0.3707798421382904,\n",
       "  552150: 0.3192204535007477,\n",
       "  552160: 0.3975982069969177,\n",
       "  552170: 0.3318583071231842,\n",
       "  552180: 0.5256661176681519,\n",
       "  552190: 0.3201541006565094,\n",
       "  552200: 0.3506632447242737,\n",
       "  552210: 0.34163135290145874,\n",
       "  552220: 0.30072420835494995,\n",
       "  552230: 0.32711464166641235,\n",
       "  552240: 0.3415066599845886,\n",
       "  552250: 166.998046875,\n",
       "  552260: 0.5545594692230225,\n",
       "  552270: 0.6414327025413513,\n",
       "  552280: 0.38902151584625244,\n",
       "  552290: 0.5823783278465271,\n",
       "  552300: 0.3367539942264557,\n",
       "  552310: 0.32966306805610657,\n",
       "  552320: 0.45622628927230835,\n",
       "  552330: 0.4117460548877716,\n",
       "  552340: 0.3420088589191437,\n",
       "  552350: 0.31415465474128723,\n",
       "  552360: 0.33836275339126587,\n",
       "  552370: 0.3258369565010071,\n",
       "  552380: 0.3275051712989807,\n",
       "  552390: 0.35490530729293823,\n",
       "  552400: 0.33858129382133484,\n",
       "  552410: 0.34117618203163147,\n",
       "  552420: 0.5618076324462891,\n",
       "  552430: 0.3315797448158264,\n",
       "  552440: 0.35880768299102783,\n",
       "  552450: 0.5034374594688416,\n",
       "  552460: 0.37218910455703735,\n",
       "  552470: 0.40647950768470764,\n",
       "  552480: 0.4224615693092346,\n",
       "  552490: 0.35685375332832336,\n",
       "  552500: 0.3494032919406891,\n",
       "  552510: 0.31306612491607666,\n",
       "  552520: 0.3460722267627716,\n",
       "  552530: 0.31069183349609375,\n",
       "  552540: 0.3813590407371521,\n",
       "  552550: 0.4286813735961914,\n",
       "  552560: 0.3354986906051636,\n",
       "  552570: 0.30122992396354675,\n",
       "  552580: 0.3135928809642792,\n",
       "  552590: 0.34097355604171753,\n",
       "  552600: 0.3277660310268402,\n",
       "  552610: 0.3069092929363251,\n",
       "  552620: 0.3188043236732483,\n",
       "  552630: 0.3128318786621094,\n",
       "  552640: 0.34808072447776794,\n",
       "  552650: 0.32933545112609863,\n",
       "  552660: 0.30722910165786743,\n",
       "  552670: 0.3433477580547333,\n",
       "  552680: 0.9706183671951294,\n",
       "  552690: 0.3452911674976349,\n",
       "  552700: 0.38827216625213623,\n",
       "  552710: 0.33543843030929565,\n",
       "  552720: 0.5055323839187622,\n",
       "  552730: 0.38292205333709717,\n",
       "  552740: 0.31875142455101013,\n",
       "  552750: 0.3128829896450043,\n",
       "  552760: 0.3702704906463623,\n",
       "  552770: 0.33037006855010986,\n",
       "  552780: 0.3205867111682892,\n",
       "  552790: 0.32211339473724365,\n",
       "  552800: 0.6175178289413452,\n",
       "  552810: 0.31518319249153137,\n",
       "  552820: 0.31570756435394287,\n",
       "  552830: 0.30946511030197144,\n",
       "  552840: 0.36706411838531494,\n",
       "  552850: 0.3778543174266815,\n",
       "  552860: 0.33313482999801636,\n",
       "  552870: 0.36623433232307434,\n",
       "  552880: 0.3163050711154938,\n",
       "  552890: 0.3531423807144165,\n",
       "  552900: 0.34748005867004395,\n",
       "  552910: 0.318912535905838,\n",
       "  552920: 0.44639691710472107,\n",
       "  552930: 0.3080481290817261,\n",
       "  552940: 0.3212536871433258,\n",
       "  552950: 0.3084159195423126,\n",
       "  552960: 0.3507028818130493,\n",
       "  552970: 0.3403951823711395,\n",
       "  552980: 0.32991793751716614,\n",
       "  552990: 0.3167775273323059,\n",
       "  553000: 0.3198200762271881,\n",
       "  553010: 0.4729694724082947,\n",
       "  553020: 0.3787497282028198,\n",
       "  553030: 0.34786808490753174,\n",
       "  553040: 0.3194705545902252,\n",
       "  553050: 0.33999645709991455,\n",
       "  553060: 0.35645338892936707,\n",
       "  553070: 0.3070737421512604,\n",
       "  553080: 0.2996433973312378,\n",
       "  553090: 0.3244730532169342,\n",
       "  553100: 0.3375246226787567,\n",
       "  553110: 0.3403978645801544,\n",
       "  553120: 0.889317512512207,\n",
       "  553130: 0.37277138233184814,\n",
       "  553140: 0.4301164150238037,\n",
       "  553150: 0.33270692825317383,\n",
       "  553160: 0.5249177813529968,\n",
       "  553170: 0.346691370010376,\n",
       "  553180: 1.1657317876815796,\n",
       "  553190: 0.3493881821632385,\n",
       "  553200: 0.33775678277015686,\n",
       "  553210: 0.31413835287094116,\n",
       "  553220: 0.3229578137397766,\n",
       "  553230: 0.3226369023323059,\n",
       "  553240: 0.3402966856956482,\n",
       "  553250: 0.32920020818710327,\n",
       "  553260: 0.30474215745925903,\n",
       "  553270: 0.3143894076347351,\n",
       "  553280: 0.3303999602794647,\n",
       "  553290: 0.40417370200157166,\n",
       "  553300: 0.3007394075393677,\n",
       "  553310: 0.5306279063224792,\n",
       "  553320: 0.440929114818573,\n",
       "  553330: 0.5306693911552429,\n",
       "  553340: 0.4421710669994354,\n",
       "  553350: 0.3407193124294281,\n",
       "  553360: 0.32503536343574524,\n",
       "  553370: 0.33874741196632385,\n",
       "  553380: 0.3052142560482025,\n",
       "  553390: 0.3813394010066986,\n",
       "  553400: 0.31314095854759216,\n",
       "  553410: 0.3223179578781128,\n",
       "  553420: 0.34436869621276855,\n",
       "  553430: 0.311810165643692,\n",
       "  553440: 0.3180581331253052,\n",
       "  553450: 0.4332279860973358,\n",
       "  553460: 0.30512169003486633,\n",
       "  553470: 0.7332432866096497,\n",
       "  553480: 0.31531304121017456,\n",
       "  553490: 0.4626348614692688,\n",
       "  553500: 0.4539317786693573,\n",
       "  553510: 0.3316335380077362,\n",
       "  553520: 0.3446495831012726,\n",
       "  553530: 0.38388216495513916,\n",
       "  553540: 1.794927954673767,\n",
       "  553550: 0.34453922510147095,\n",
       "  553560: 0.3952229619026184,\n",
       "  553570: 0.33931663632392883,\n",
       "  553580: 0.48168280720710754,\n",
       "  553590: 0.3044414222240448,\n",
       "  553600: 0.30786576867103577,\n",
       "  553610: 0.3319404125213623,\n",
       "  553620: 0.3765377104282379,\n",
       "  553630: 0.32268843054771423,\n",
       "  553640: 0.3027820885181427,\n",
       "  553650: 0.3314897418022156,\n",
       "  553660: 0.3408832252025604,\n",
       "  553670: 0.33268722891807556,\n",
       "  553680: 0.3085014820098877,\n",
       "  553690: 0.3035266101360321,\n",
       "  553700: 0.34538835287094116,\n",
       "  553710: 0.3634677231311798,\n",
       "  553720: 0.30963802337646484,\n",
       "  553730: 0.33322951197624207,\n",
       "  553740: 0.3038213551044464,\n",
       "  553750: 0.4112977683544159,\n",
       "  553760: 0.321790486574173,\n",
       "  553770: 0.6736119389533997,\n",
       "  553780: 0.3242259621620178,\n",
       "  553790: 0.3882298171520233,\n",
       "  553800: 0.3181896209716797,\n",
       "  553810: 0.36539697647094727,\n",
       "  553820: 0.31616631150245667,\n",
       "  553830: 0.3848920166492462,\n",
       "  553840: 0.6757507920265198,\n",
       "  553850: 0.3811884820461273,\n",
       "  553860: 0.42762964963912964,\n",
       "  553870: 0.38240259885787964,\n",
       "  553880: 0.32625812292099,\n",
       "  553890: 0.3149227499961853,\n",
       "  553900: 0.3255618214607239,\n",
       "  553910: 0.3544083535671234,\n",
       "  553920: 0.34992098808288574,\n",
       "  553930: 0.41765493154525757,\n",
       "  553940: 0.372670441865921,\n",
       "  553950: 0.38060262799263,\n",
       "  553960: 0.7856042981147766,\n",
       "  553970: 1.3032588958740234,\n",
       "  553980: 0.3616255223751068,\n",
       "  553990: 0.35934722423553467,\n",
       "  554000: 0.33014559745788574,\n",
       "  554010: 1.3768235445022583,\n",
       "  554020: 0.5888663530349731,\n",
       "  554030: 0.3309279680252075,\n",
       "  554040: 0.461626261472702,\n",
       "  554050: 0.3156076669692993,\n",
       "  554060: 0.3368928134441376,\n",
       "  554070: 0.3936541676521301,\n",
       "  554080: 0.31588730216026306,\n",
       "  554090: 0.3021131455898285,\n",
       "  554100: 0.3269956409931183,\n",
       "  554110: 0.8104721307754517,\n",
       "  554120: 0.3883169889450073,\n",
       "  554130: 0.5219265818595886,\n",
       "  554140: 0.5696221590042114,\n",
       "  554150: 0.3827687203884125,\n",
       "  554160: 1.7097822427749634,\n",
       "  554170: 0.40893304347991943,\n",
       "  554180: 0.3544502854347229,\n",
       "  554190: 0.3370177447795868,\n",
       "  554200: 2.7994704246520996,\n",
       "  554210: 0.3256862759590149,\n",
       "  554220: 0.39750441908836365,\n",
       "  554230: 0.9391489624977112,\n",
       "  554240: 0.3457163870334625,\n",
       "  554250: 0.34146276116371155,\n",
       "  554260: 0.37975236773490906,\n",
       "  554270: 0.38874557614326477,\n",
       "  554280: 0.4789547622203827,\n",
       "  554290: 0.3145897686481476,\n",
       "  554300: 0.3565390408039093,\n",
       "  554310: 0.4138476550579071,\n",
       "  554320: 0.36156752705574036,\n",
       "  554330: 0.35825982689857483,\n",
       "  554340: 1.2190357446670532,\n",
       "  554350: 0.34769415855407715,\n",
       "  554360: 0.3519626557826996,\n",
       "  554370: 0.4774540066719055,\n",
       "  554380: 0.34353572130203247,\n",
       "  554390: 0.32114553451538086,\n",
       "  554400: 0.4147193431854248,\n",
       "  554410: 0.3415737748146057,\n",
       "  554420: 0.4079955518245697,\n",
       "  554430: 0.3341684341430664,\n",
       "  554440: 0.35362112522125244,\n",
       "  554450: 0.3559405505657196,\n",
       "  554460: 0.35292235016822815,\n",
       "  554470: 0.355843722820282,\n",
       "  554480: 0.5642027258872986,\n",
       "  554490: 0.34233731031417847,\n",
       "  554500: 0.3495803475379944,\n",
       "  554510: 0.4020751118659973,\n",
       "  554520: 0.31952881813049316,\n",
       "  554530: 0.3194095194339752,\n",
       "  554540: 0.3498944342136383,\n",
       "  554550: 0.34857383370399475,\n",
       "  554560: 0.3987848460674286,\n",
       "  554570: 0.36487868428230286,\n",
       "  554580: 0.3389291763305664,\n",
       "  554590: 0.3449576497077942,\n",
       "  554600: 0.35748347640037537,\n",
       "  554610: 0.3363523781299591,\n",
       "  554620: 0.4107532799243927,\n",
       "  554630: 0.38842377066612244,\n",
       "  554640: 0.3922332227230072,\n",
       "  554650: 0.3386854827404022,\n",
       "  554660: 0.36082082986831665,\n",
       "  554670: 0.3745393753051758,\n",
       "  554680: 0.3642462491989136,\n",
       "  554690: 0.33290255069732666,\n",
       "  554700: 0.34277966618537903,\n",
       "  554710: 0.34940105676651,\n",
       "  554720: 0.35820865631103516,\n",
       "  554730: 0.4833424985408783,\n",
       "  554740: 0.35518816113471985,\n",
       "  554750: 0.32007405161857605,\n",
       "  554760: 0.45374009013175964,\n",
       "  554770: 0.40044882893562317,\n",
       "  554780: 0.358962744474411,\n",
       "  554790: 0.33833548426628113,\n",
       "  554800: 0.5095207095146179,\n",
       "  554810: 0.37956127524375916,\n",
       "  554820: 0.333385705947876,\n",
       "  554830: 0.3340921103954315,\n",
       "  554840: 0.8298742771148682,\n",
       "  554850: 0.5965317487716675,\n",
       "  554860: 0.31654879450798035,\n",
       "  554870: 0.36753034591674805,\n",
       "  554880: 0.3637881278991699,\n",
       "  554890: 0.5670303106307983,\n",
       "  554900: 0.5411324501037598,\n",
       "  554910: 0.3393004834651947,\n",
       "  554920: 0.32917502522468567,\n",
       "  554930: 0.3298914432525635,\n",
       "  554940: 0.4209178686141968,\n",
       "  554950: 0.3642003834247589,\n",
       "  554960: 0.646565854549408,\n",
       "  554970: 0.4776807725429535,\n",
       "  554980: 0.6739714741706848,\n",
       "  554990: 0.3340151011943817,\n",
       "  555000: 0.32520827651023865,\n",
       "  555010: 0.3260660767555237,\n",
       "  555020: 0.3696448802947998,\n",
       "  555030: 0.32987070083618164,\n",
       "  555040: 0.32400602102279663,\n",
       "  555050: 0.4627702236175537,\n",
       "  555060: 0.3582155108451843,\n",
       "  555070: 0.3321075737476349,\n",
       "  555080: 0.35007408261299133,\n",
       "  555090: 0.4043521285057068,\n",
       "  555100: 0.32948845624923706,\n",
       "  555110: 0.3347393870353699,\n",
       "  555120: 0.32197558879852295,\n",
       "  555130: 0.3409002423286438,\n",
       "  555140: 0.41899821162223816,\n",
       "  555150: 0.3967457711696625,\n",
       "  555160: 0.3088601529598236,\n",
       "  555170: 0.39492252469062805,\n",
       "  555180: 0.3492947518825531,\n",
       "  555190: 0.37558209896087646,\n",
       "  555200: 0.3311787247657776,\n",
       "  555210: 0.5491672158241272,\n",
       "  555220: 0.3244249224662781,\n",
       "  555230: 0.35254424810409546,\n",
       "  555240: 0.40580105781555176,\n",
       "  555250: 0.402620792388916,\n",
       "  555260: 0.3411425054073334,\n",
       "  555270: 0.3323410749435425,\n",
       "  555280: 0.41802579164505005,\n",
       "  555290: 0.382337361574173,\n",
       "  555300: 0.3533959984779358,\n",
       "  555310: 0.4148927927017212,\n",
       "  555320: 0.3338639438152313,\n",
       "  555330: 0.320043683052063,\n",
       "  555340: 0.3143811821937561,\n",
       "  555350: 0.40580257773399353,\n",
       "  555360: 0.38975831866264343,\n",
       "  555370: 0.40026161074638367,\n",
       "  555380: 0.31898579001426697,\n",
       "  555390: 0.4422018527984619,\n",
       "  555400: 0.3297847807407379,\n",
       "  555410: 0.32849955558776855,\n",
       "  555420: 0.3727279007434845,\n",
       "  555430: 0.44288551807403564,\n",
       "  555440: 0.33900123834609985,\n",
       "  555450: 0.3508641719818115,\n",
       "  555460: 0.3318260610103607,\n",
       "  555470: 0.4638398289680481,\n",
       "  555480: 0.4055037200450897,\n",
       "  555490: 0.3258543610572815,\n",
       "  555500: 0.3162038326263428,\n",
       "  555510: 0.3925832509994507,\n",
       "  555520: 0.32875826954841614,\n",
       "  555530: 0.3771935999393463,\n",
       "  555540: 0.359183669090271,\n",
       "  555550: 0.32589295506477356,\n",
       "  555560: 0.5405668616294861,\n",
       "  555570: 1.1550202369689941,\n",
       "  555580: 0.32776495814323425,\n",
       "  555590: 0.37591227889060974,\n",
       "  555600: 0.41006505489349365,\n",
       "  555610: 0.3398739695549011,\n",
       "  555620: 0.3615211546421051,\n",
       "  555630: 0.3583284914493561,\n",
       "  555640: 0.34933093190193176,\n",
       "  555650: 0.3359008729457855,\n",
       "  555660: 0.4221898913383484,\n",
       "  555670: 0.32476285099983215,\n",
       "  555680: 0.33124473690986633,\n",
       "  555690: 0.3492092192173004,\n",
       "  555700: 0.39402273297309875,\n",
       "  555710: 0.3939462900161743,\n",
       "  555720: 0.7409782409667969,\n",
       "  555730: 0.39464741945266724,\n",
       "  555740: 0.3730407953262329,\n",
       "  555750: 0.3779234290122986,\n",
       "  555760: 0.350768119096756,\n",
       "  555770: 0.32360324263572693,\n",
       "  555780: 0.41760727763175964,\n",
       "  555790: 0.5510561466217041,\n",
       "  555800: 0.4010191261768341,\n",
       "  555810: 0.5857515335083008,\n",
       "  555820: 0.32201361656188965,\n",
       "  555830: 0.31358423829078674,\n",
       "  555840: 0.3383212685585022,\n",
       "  555850: 0.4386264979839325,\n",
       "  555860: 0.32334527373313904,\n",
       "  555870: 0.4629698395729065,\n",
       "  555880: 0.31860318779945374,\n",
       "  555890: 0.3857717514038086,\n",
       "  555900: 0.6570304036140442,\n",
       "  555910: 0.324127197265625,\n",
       "  555920: 0.3253921866416931,\n",
       "  555930: 0.3411460220813751,\n",
       "  555940: 0.3622279465198517,\n",
       "  555950: 0.3086898624897003,\n",
       "  555960: 0.30663958191871643,\n",
       "  555970: 0.2945931851863861,\n",
       "  555980: 0.3346436321735382,\n",
       "  555990: 0.32635828852653503,\n",
       "  556000: 0.33986759185791016,\n",
       "  556010: 0.489542692899704,\n",
       "  556020: 0.33617275953292847,\n",
       "  556030: 0.4486825466156006,\n",
       "  556040: 0.3736647665500641,\n",
       "  556050: 0.5748477578163147,\n",
       "  556060: 0.3881142735481262,\n",
       "  556070: 0.34062454104423523,\n",
       "  556080: 0.32408466935157776,\n",
       "  556090: 1.250449538230896,\n",
       "  556100: 0.4228906035423279,\n",
       "  556110: 0.3658224046230316,\n",
       "  556120: 0.5142887234687805,\n",
       "  556130: 0.33392950892448425,\n",
       "  556140: 0.4454054832458496,\n",
       "  556150: 1.0648493766784668,\n",
       "  556160: 0.4434758722782135,\n",
       "  556170: 0.33487218618392944,\n",
       "  556180: 0.43513935804367065,\n",
       "  556190: 0.3487645089626312,\n",
       "  556200: 0.3403107225894928,\n",
       "  556210: 0.3238028287887573,\n",
       "  556220: 0.333781361579895,\n",
       "  556230: 0.323406845331192,\n",
       "  556240: 0.313837468624115,\n",
       "  556250: 0.34967198967933655,\n",
       "  556260: 0.4731452167034149,\n",
       "  556270: 0.3445121943950653,\n",
       "  556280: 0.3672710061073303,\n",
       "  556290: 0.40740635991096497,\n",
       "  556300: 0.4608345031738281,\n",
       "  556310: 0.43495824933052063,\n",
       "  556320: 0.3425317704677582,\n",
       "  556330: 0.3671935200691223,\n",
       "  556340: 0.3456910252571106,\n",
       "  556350: 0.34797102212905884,\n",
       "  556360: 0.3252449631690979,\n",
       "  556370: 0.5174379944801331,\n",
       "  556380: 0.4259968101978302,\n",
       "  556390: 0.33091995120048523,\n",
       "  556400: 0.3181167244911194,\n",
       "  556410: 0.5926589965820312,\n",
       "  556420: 0.6661155223846436,\n",
       "  556430: 0.35693901777267456,\n",
       "  556440: 0.37939807772636414,\n",
       "  556450: 0.3688149154186249,\n",
       "  556460: 0.3440806269645691,\n",
       "  556470: 0.39664193987846375,\n",
       "  556480: 0.33552926778793335,\n",
       "  556490: 0.3186992406845093,\n",
       "  556500: 0.33972105383872986,\n",
       "  556510: 0.32245808839797974,\n",
       "  556520: 0.34642723202705383,\n",
       "  556530: 2.2145020961761475,\n",
       "  556540: 0.44509872794151306,\n",
       "  556550: 0.33923518657684326,\n",
       "  556560: 0.32530683279037476,\n",
       "  556570: 0.3552722632884979,\n",
       "  556580: 0.3926437199115753,\n",
       "  556590: 0.4297933578491211,\n",
       "  556600: 0.3318151533603668,\n",
       "  556610: 0.39565348625183105,\n",
       "  556620: 0.3148705065250397,\n",
       "  556630: 0.32160484790802,\n",
       "  556640: 0.39556199312210083,\n",
       "  556650: 1.5853214263916016,\n",
       "  556660: 0.4264504015445709,\n",
       "  556670: 0.3572148084640503,\n",
       "  556680: 0.3112661838531494,\n",
       "  556690: 0.40735718607902527,\n",
       "  556700: 0.6193636655807495,\n",
       "  556710: 0.40636733174324036,\n",
       "  556720: 0.3679564595222473,\n",
       "  556730: 0.5131537318229675,\n",
       "  556740: 0.36894261837005615,\n",
       "  556750: 0.4431276321411133,\n",
       "  556760: 0.41811057925224304,\n",
       "  556770: 0.3854869306087494,\n",
       "  556780: 0.3872087299823761,\n",
       "  556790: 0.8514376282691956,\n",
       "  556800: 0.37503549456596375,\n",
       "  556810: 0.3305748999118805,\n",
       "  556820: 0.34402093291282654,\n",
       "  556830: 1.4461512565612793,\n",
       "  556840: 0.3472324311733246,\n",
       "  556850: 0.3479422330856323,\n",
       "  556860: 0.314695805311203,\n",
       "  556870: 1.2749046087265015,\n",
       "  556880: 0.34709858894348145,\n",
       "  556890: 0.3406643569469452,\n",
       "  556900: 0.3428049683570862,\n",
       "  556910: 0.3426317572593689,\n",
       "  556920: 0.34692221879959106,\n",
       "  556930: 0.30634498596191406,\n",
       "  556940: 0.31587719917297363,\n",
       "  556950: 0.3114597797393799,\n",
       "  556960: 0.32209494709968567,\n",
       "  556970: 0.41501978039741516,\n",
       "  556980: 0.3837951719760895,\n",
       "  556990: 0.35749638080596924,\n",
       "  557000: 0.31753599643707275,\n",
       "  557010: 0.31304633617401123,\n",
       "  557020: 0.32932695746421814,\n",
       "  557030: 0.3152000904083252,\n",
       "  557040: 0.4085833430290222,\n",
       "  557050: 0.3240065574645996,\n",
       "  557060: 0.3334440588951111,\n",
       "  557070: 0.30745840072631836,\n",
       "  557080: 0.311583012342453,\n",
       "  557090: 0.30465757846832275,\n",
       "  557100: 0.32265734672546387,\n",
       "  557110: 0.3021080493927002,\n",
       "  557120: 0.3503931164741516,\n",
       "  557130: 0.33351930975914,\n",
       "  557140: 0.3179805278778076,\n",
       "  557150: 0.3148941993713379,\n",
       "  557160: 0.31056806445121765,\n",
       "  557170: 0.3603041172027588,\n",
       "  557180: 0.3233092725276947,\n",
       "  557190: 0.3098068833351135,\n",
       "  557200: 0.3404443562030792,\n",
       "  557210: 0.335297554731369,\n",
       "  557220: 0.3246251046657562,\n",
       "  557230: 0.3232567012310028,\n",
       "  557240: 0.6623460054397583,\n",
       "  557250: 0.35764575004577637,\n",
       "  557260: 0.3198126554489136,\n",
       "  557270: 0.3753691613674164,\n",
       "  557280: 0.32697901129722595,\n",
       "  557290: 0.32280534505844116,\n",
       "  557300: 0.3137674927711487,\n",
       "  557310: 1.8428168296813965,\n",
       "  557320: 0.33861514925956726,\n",
       "  557330: 0.3343547284603119,\n",
       "  557340: 0.3410050868988037,\n",
       "  557350: 0.3138321340084076,\n",
       "  557360: 0.3271997570991516,\n",
       "  557370: 0.4016350507736206,\n",
       "  557380: 0.3196599781513214,\n",
       "  557390: 0.310673326253891,\n",
       "  557400: 0.34287229180336,\n",
       "  557410: 0.34500932693481445,\n",
       "  557420: 0.34274011850357056,\n",
       "  557430: 0.309852659702301,\n",
       "  557440: 0.29797765612602234,\n",
       "  557450: 0.399962455034256,\n",
       "  557460: 0.30829593539237976,\n",
       "  557470: 0.30710211396217346,\n",
       "  557480: 0.44272124767303467,\n",
       "  557490: 0.3076244294643402,\n",
       "  557500: 0.34494516253471375,\n",
       "  557510: 0.31909695267677307,\n",
       "  557520: 0.3028409481048584,\n",
       "  557530: 0.30132192373275757,\n",
       "  557540: 0.3194306492805481,\n",
       "  557550: 0.30781036615371704,\n",
       "  557560: 0.3070042133331299,\n",
       "  557570: 0.31095579266548157,\n",
       "  557580: 0.34646573662757874,\n",
       "  557590: 0.3153409957885742,\n",
       "  557600: 0.32495272159576416,\n",
       "  557610: 0.3445599377155304,\n",
       "  557620: 0.32135841250419617,\n",
       "  557630: 0.3414202332496643,\n",
       "  557640: 0.31973302364349365,\n",
       "  557650: 0.3061670660972595,\n",
       "  557660: 0.30357643961906433,\n",
       "  557670: 0.3195918798446655,\n",
       "  557680: 0.34913381934165955,\n",
       "  557690: 0.30194970965385437,\n",
       "  557700: 0.30636709928512573,\n",
       "  557710: 0.3252491354942322,\n",
       "  557720: 0.3335648775100708,\n",
       "  557730: 0.32769450545310974,\n",
       "  557740: 0.32907527685165405,\n",
       "  557750: 0.3119562566280365,\n",
       "  557760: 0.6106997132301331,\n",
       "  557770: 0.33752351999282837,\n",
       "  557780: 0.342184841632843,\n",
       "  557790: 0.314105749130249,\n",
       "  557800: 0.5604327917098999,\n",
       "  557810: 0.48071256279945374,\n",
       "  557820: 0.3363308608531952,\n",
       "  557830: 0.31949982047080994,\n",
       "  557840: 0.354875773191452,\n",
       "  557850: 0.3557274341583252,\n",
       "  557860: 0.3553985357284546,\n",
       "  557870: 0.3310025930404663,\n",
       "  557880: 0.3482874929904938,\n",
       "  557890: 0.31517788767814636,\n",
       "  557900: 0.3932839035987854,\n",
       "  557910: 0.3168489336967468,\n",
       "  557920: 0.31148916482925415,\n",
       "  557930: 1.2208319902420044,\n",
       "  557940: 0.46610262989997864,\n",
       "  557950: 0.3324774503707886,\n",
       "  557960: 0.3356589078903198,\n",
       "  557970: 0.30229198932647705,\n",
       "  557980: 0.31043580174446106,\n",
       "  557990: 0.32533881068229675,\n",
       "  558000: 0.3069635331630707,\n",
       "  558010: 0.37969163060188293,\n",
       "  558020: 0.3634580373764038,\n",
       "  558030: 0.4398632049560547,\n",
       "  558040: 67.20160675048828,\n",
       "  558050: 0.7266472578048706,\n",
       "  558060: 0.7596909999847412,\n",
       "  558070: 0.34418341517448425,\n",
       "  558080: 0.4900199770927429,\n",
       "  558090: 0.3262479603290558,\n",
       "  558100: 0.3426526188850403,\n",
       "  558110: 0.3138526678085327,\n",
       "  558120: 0.31887105107307434,\n",
       "  558130: 0.3240794539451599,\n",
       "  558140: 0.3311298191547394,\n",
       "  558150: 0.3270758092403412,\n",
       "  558160: 0.32328179478645325,\n",
       "  558170: 0.32535219192504883,\n",
       "  558180: 0.3996460437774658,\n",
       "  558190: 0.31946462392807007,\n",
       "  558200: 0.34992408752441406,\n",
       "  558210: 0.31563302874565125,\n",
       "  558220: 0.31008467078208923,\n",
       "  558230: 0.6713610291481018,\n",
       "  558240: 0.3211258351802826,\n",
       "  558250: 0.32338324189186096,\n",
       "  558260: 0.3289948105812073,\n",
       "  558270: 0.7309179306030273,\n",
       "  558280: 0.3078586757183075,\n",
       "  558290: 0.4315093457698822,\n",
       "  558300: 0.3755244016647339,\n",
       "  558310: 0.3547728359699249,\n",
       "  558320: 0.33058032393455505,\n",
       "  558330: 0.32496851682662964,\n",
       "  558340: 0.33324864506721497,\n",
       "  558350: 0.31781405210494995,\n",
       "  558360: 0.32000043988227844,\n",
       "  558370: 0.37214845418930054,\n",
       "  558380: 0.3915919363498688,\n",
       "  558390: 0.47486695647239685,\n",
       "  558400: 0.36757326126098633,\n",
       "  558410: 0.8341962695121765,\n",
       "  558420: 0.5581437945365906,\n",
       "  558430: 0.41694360971450806,\n",
       "  558440: 0.3186216950416565,\n",
       "  558450: 0.30995866656303406,\n",
       "  ...})"
      ]
     },
     "execution_count": 13,
     "metadata": {},
     "output_type": "execute_result"
    }
   ],
   "source": [
    "import wandb\n",
    "from typing import *\n",
    "from tqdm.notebook import trange, tqdm\n",
    "\n",
    "losses: Dict[int, float] = {}\n",
    "loss_key = \"train/CrossEntropyLoss\"\n",
    "grad_norms: Dict[int, float] = {}\n",
    "grad_norm_key = \"optim/total_grad_norm\"\n",
    "\n",
    "wandb_project = \"olmo-medium\"\n",
    "wandb_group = \"mitchish7\"\n",
    "api = wandb.Api()\n",
    "runs = api.runs(f\"ai2-llm/{wandb_project}\", filters={\"group\": wandb_group}, order=\"created_at\")\n",
    "for run in tqdm(runs):\n",
    "    if run.state == \"running\":\n",
    "        continue\n",
    "    for data in tqdm(run.scan_history(keys=[\"_step\", loss_key], page_size=10000)):\n",
    "        step = int(data[\"_step\"])\n",
    "        loss = data[loss_key]\n",
    "        if loss is not None:\n",
    "            losses[step] = loss\n",
    "    for data in tqdm(run.scan_history(keys=[\"_step\", grad_norm_key], page_size=10000)):\n",
    "        step = int(data[\"_step\"])\n",
    "        grad_norm = data[grad_norm_key]\n",
    "        if grad_norm is not None:\n",
    "            grad_norms[step] = grad_norm\n",
    "\n",
    "(losses, grad_norms)"
   ]
  },
  {
   "cell_type": "code",
   "execution_count": 14,
   "id": "9ad79e64-20e7-4004-a8e3-d31caa468ea8",
   "metadata": {},
   "outputs": [
    {
     "data": {
      "text/plain": [
       "(561043,)"
      ]
     },
     "execution_count": 14,
     "metadata": {},
     "output_type": "execute_result"
    }
   ],
   "source": [
    "assert set(range(min(losses.keys()), max(losses.keys()) + 1)) == set(losses.keys())\n",
    "assert min(losses.keys()) == 1\n",
    "\n",
    "losses_np = np.zeros(len(losses), dtype=np.float64)\n",
    "for i, l in losses.items():\n",
    "    losses_np[i - 1] = l\n",
    "\n",
    "losses_np.shape"
   ]
  },
  {
   "cell_type": "code",
   "execution_count": 47,
   "id": "1b3fa7f7-0e31-472e-b2ab-5ab486aca0d5",
   "metadata": {},
   "outputs": [],
   "source": [
    "grad_norms_np = np.zeros(len(grad_norms), dtype=np.float64)\n",
    "grad_norms_steps = np.zeros(len(grad_norms), dtype=np.int32)\n",
    "for i, (step, grad_norm) in enumerate(sorted(grad_norms.items())):\n",
    "    grad_norms_np[i] = grad_norm\n",
    "    grad_norms_steps[i] = step\n",
    "\n",
    "np.save(\"/mnt/tank/grad_norms.npy\", grad_norms_np)\n",
    "np.save(\"/mnt/tank/grad_norms_steps.npy\", grad_norms_steps)"
   ]
  },
  {
   "cell_type": "code",
   "execution_count": 19,
   "id": "f0883e3d-8be6-435e-b8f8-c6240743d5ed",
   "metadata": {},
   "outputs": [],
   "source": [
    "np.save(\"/mnt/tank/losses.npy\", losses_np)"
   ]
  },
  {
   "cell_type": "code",
   "execution_count": 15,
   "id": "f142f617-834a-41aa-99ad-12e96f6a1666",
   "metadata": {},
   "outputs": [
    {
     "data": {
      "text/plain": [
       "[<matplotlib.lines.Line2D at 0x7f8fda80fd90>]"
      ]
     },
     "execution_count": 15,
     "metadata": {},
     "output_type": "execute_result"
    },
    {
     "data": {
      "image/png": "[encoded data removed]",
      "text/plain": [
       "<Figure size 640x480 with 1 Axes>"
      ]
     },
     "metadata": {},
     "output_type": "display_data"
    }
   ],
   "source": [
    "import matplotlib.pyplot as plt\n",
    "plt.semilogy(losses_np)"
   ]
  },
  {
   "cell_type": "code",
   "execution_count": 16,
   "id": "a7012e24-c351-4bed-807e-a53df71f6487",
   "metadata": {},
   "outputs": [
    {
     "data": {
      "text/plain": [
       "[<matplotlib.lines.Line2D at 0x7f8fdaacf430>]"
      ]
     },
     "execution_count": 16,
     "metadata": {},
     "output_type": "execute_result"
    },
    {
     "data": {
      "image/png": "[encoded data removed]",
      "text/plain": [
       "<Figure size 640x480 with 1 Axes>"
      ]
     },
     "metadata": {},
     "output_type": "display_data"
    }
   ],
   "source": [
    "losses_without_spikes = np.lib.stride_tricks.sliding_window_view(losses_np, 128)\n",
    "losses_without_spikes = np.median(losses_without_spikes, axis=-1)\n",
    "plt.semilogy(losses_without_spikes)"
   ]
  },
  {
   "cell_type": "code",
   "execution_count": 17,
   "id": "2c5eaed7-d7f5-44b9-889a-8c04c274ce19",
   "metadata": {},
   "outputs": [
    {
     "data": {
      "text/plain": [
       "[<matplotlib.lines.Line2D at 0x7f8fda431420>]"
      ]
     },
     "execution_count": 17,
     "metadata": {},
     "output_type": "execute_result"
    },
    {
     "data": {
      "image/png": "[encoded data removed]",
      "text/plain": [
       "<Figure size 640x480 with 1 Axes>"
      ]
     },
     "metadata": {},
     "output_type": "display_data"
    }
   ],
   "source": [
    "extra_values = losses_np.shape[0] - losses_without_spikes.shape[0]\n",
    "values_left = extra_values // 2\n",
    "values_right = extra_values - values_left\n",
    "assert losses_np[values_left:-values_right].shape == losses_without_spikes.shape\n",
    "deviations_from_the_median = losses_np[values_left:-values_right] - losses_without_spikes\n",
    "plt.plot(deviations_from_the_median)"
   ]
  },
  {
   "cell_type": "code",
   "execution_count": 67,
   "id": "871ee099-0ac2-4979-bcb3-b66e4eb64c4a",
   "metadata": {},
   "outputs": [
    {
     "data": {
      "text/plain": [
       "((408923,), (560916,))"
      ]
     },
     "execution_count": 67,
     "metadata": {},
     "output_type": "execute_result"
    }
   ],
   "source": [
    "(batch_staleness.shape, deviations_from_the_median.shape)"
   ]
  },
  {
   "cell_type": "code",
   "execution_count": 68,
   "id": "c8fdc0d9-3309-47f1-933c-3cfcb62731ec",
   "metadata": {},
   "outputs": [
    {
     "data": {
      "text/plain": [
       "127824.9"
      ]
     },
     "execution_count": 68,
     "metadata": {},
     "output_type": "execute_result"
    }
   ],
   "source": [
    "batch_staleness.max()"
   ]
  },
  {
   "cell_type": "code",
   "execution_count": 70,
   "id": "998fd358-d552-4cf4-b0d5-a894fc3f6b52",
   "metadata": {},
   "outputs": [
    {
     "name": "stderr",
     "output_type": "stream",
     "text": [
      "/tmp/ipykernel_135641/364746217.py:5: RuntimeWarning: divide by zero encountered in log\n",
      "  plt.scatter(np.log(xs), np.log(ys))\n",
      "/tmp/ipykernel_135641/364746217.py:5: RuntimeWarning: invalid value encountered in log\n",
      "  plt.scatter(np.log(xs), np.log(ys))\n"
     ]
    },
    {
     "data": {
      "text/plain": [
       "<matplotlib.collections.PathCollection at 0x7f8ff9a25030>"
      ]
     },
     "execution_count": 70,
     "metadata": {},
     "output_type": "execute_result"
    },
    {
     "data": {
      "image/png": "[encoded data removed]",
      "text/plain": [
       "<Figure size 640x480 with 1 Axes>"
      ]
     },
     "metadata": {},
     "output_type": "display_data"
    }
   ],
   "source": [
    "ys = batch_staleness\n",
    "offset = 0\n",
    "xs = deviations_from_the_median[values_left + offset : ys.shape[0] + values_left + offset]\n",
    "\n",
    "plt.scatter(np.log(xs), np.log(ys))"
   ]
  },
  {
   "cell_type": "code",
   "execution_count": 66,
   "id": "b9dfb417-0de1-4ece-a19c-871d49795d78",
   "metadata": {},
   "outputs": [
    {
     "name": "stderr",
     "output_type": "stream",
     "text": [
      "/tmp/ipykernel_135641/1060031173.py:10: RuntimeWarning: divide by zero encountered in log\n",
      "  plt.scatter(np.log(xs), ys)\n"
     ]
    },
    {
     "data": {
      "text/plain": [
       "<matplotlib.collections.PathCollection at 0x7f8ff8ff68f0>"
      ]
     },
     "execution_count": 66,
     "metadata": {},
     "output_type": "execute_result"
    },
    {
     "data": {
      "image/png": "[encoded data removed]",
      "text/plain": [
       "<Figure size 640x480 with 1 Axes>"
      ]
     },
     "metadata": {},
     "output_type": "display_data"
    }
   ],
   "source": [
    "# try it with grad norm instead\n",
    "\n",
    "ys = np.clip(grad_norms_np, 0, 2)\n",
    "xs = np.zeros_like(ys)\n",
    "for i, step in enumerate(grad_norms_steps):\n",
    "    if step > len(batch_staleness):\n",
    "        break\n",
    "    xs[i] = batch_staleness[step]\n",
    "\n",
    "plt.scatter(np.log(xs), ys)"
   ]
  }
 ],
 "metadata": {
  "kernelspec": {
   "display_name": "Python 3 (ipykernel)",
   "language": "python",
   "name": "python3"
  },
  "language_info": {
   "codemirror_mode": {
    "name": "ipython",
    "version": 3
   },
   "file_extension": ".py",
   "mimetype": "text/x-python",
   "name": "python",
   "nbconvert_exporter": "python",
   "pygments_lexer": "ipython3",
   "version": "3.10.14"
  }
 },
 "nbformat": 4,
 "nbformat_minor": 5
}
