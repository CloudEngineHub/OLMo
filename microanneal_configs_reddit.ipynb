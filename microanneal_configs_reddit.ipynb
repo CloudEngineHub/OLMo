{
 "cells": [
  {
   "cell_type": "code",
   "execution_count": 1,
   "id": "9c8218ed-38da-416f-ab77-bc90f89aa7f3",
   "metadata": {},
   "outputs": [
    {
     "name": "stderr",
     "output_type": "stream",
     "text": [
      "/Users/allysone/Desktop/research/venv-olmo/lib/python3.11/site-packages/tqdm/auto.py:21: TqdmWarning: IProgress not found. Please update jupyter and ipywidgets. See https://ipywidgets.readthedocs.io/en/stable/user_install.html\n",
      "  from .autonotebook import tqdm as notebook_tqdm\n"
     ]
    }
   ],
   "source": [
    "import scripts.microanneal_config_maker as mcm\n",
    "import boto3\n",
    "from urllib.parse import urlparse\n",
    "import os\n",
    "from tqdm.auto import tqdm\n",
    "from pprint import pprint"
   ]
  },
  {
   "cell_type": "code",
   "execution_count": 3,
   "id": "db6fd673-797b-450b-8a4c-347d0b58446e",
   "metadata": {},
   "outputs": [],
   "source": [
    "# bucket -> (preprocessed -> math_shadow_clones) -> og+cloneID\n",
    "def get_new_prefix(uri, clone_id, include_slash=False):\n",
    "    \n",
    "    new_uri = uri.replace('/preprocessed/', '/preprocessed/math_shadow_clones/')\n",
    "    _, prefix = parse_s3_uri(new_uri)\n",
    "    prefix = prefix.rstrip('/')\n",
    "    prefix = prefix + '_shadow%02d' % clone_id\n",
    "    if include_slash:\n",
    "        return prefix.rstrip('/') + '/'\n",
    "    else:\n",
    "        return prefix.rstrip('/')\n",
    "\n",
    "def parse_s3_uri(s3_uri):\n",
    "    parsed = urlparse(s3_uri)\n",
    "    bucket = parsed.netloc\n",
    "    # Remove leading slash from path\n",
    "    prefix = parsed.path.lstrip('/')\n",
    "    return bucket, prefix\n",
    "\n"
   ]
  },
  {
   "cell_type": "code",
   "execution_count": 2,
   "id": "2aa20d63-71b7-4adf-b5a0-688402d402b2",
   "metadata": {},
   "outputs": [],
   "source": [
    "# DCLM_SOURCE = 's3://ai2-llm/preprocessed/dclm/v0_rep32_ft7percentile_fw2'\n",
    "DCLM_SOURCE = 's3://ai2-llm/preprocessed/dclm/v0_rep32_ft7percentile_fw2/documents/allenai/dolma2-tokenizer/'\n"
   ]
  },
  {
   "cell_type": "code",
   "execution_count": 11,
   "id": "4f92e537",
   "metadata": {},
   "outputs": [
    {
     "name": "stdout",
     "output_type": "stream",
     "text": [
      "Getting tokens per input file...\n"
     ]
    },
    {
     "name": "stderr",
     "output_type": "stream",
     "text": [
      "100%|██████████| 196/196 [00:07<00:00, 26.73it/s]\n"
     ]
    },
    {
     "name": "stdout",
     "output_type": "stream",
     "text": [
      "Grouping output files into groups...\n",
      "Getting total group sizes...\n"
     ]
    },
    {
     "name": "stderr",
     "output_type": "stream",
     "text": [
      "100%|██████████| 2/2 [00:01<00:00,  1.49it/s]"
     ]
    },
    {
     "name": "stdout",
     "output_type": "stream",
     "text": [
      "TOTAL_TOKENS {'s3://ai2-llm/preprocessed/dclm/v0_rep32_ft7percentile_fw2': 752862224559, 's3://ai2-llm/pretraining-data/sources/reddit/dolma_raw/merged_versions/merged_qa/tokenized/dolma-merged-qa-mmlu-topics/': 1592437962}\n",
      "Put this in your spreadsheet!\n",
      "paths                                                                                                                      total_tokens    percentage taken    tokens taken\n",
      "-----------------------------------------------------------------------------------------------------------------------  --------------  ------------------  --------------\n",
      "s3://ai2-llm/preprocessed/dclm/v0_rep32_ft7percentile_fw2                                                                  752862224559               0.002      1531943240\n",
      "s3://ai2-llm/pretraining-data/sources/reddit/dolma_raw/merged_versions/merged_qa/tokenized/dolma-merged-qa-mmlu-topics/      1592437962               1          1592437962\n"
     ]
    },
    {
     "name": "stderr",
     "output_type": "stream",
     "text": [
      "\n"
     ]
    }
   ],
   "source": [
    "REDDIT = ['s3://ai2-llm/pretraining-data/sources/reddit/dolma_raw/merged_versions/merged_qa/tokenized/dolma-merged-qa-mmlu-topics/']\n",
    "REDDIT_YAML = 'configs/reddit_microannealing/peteish7-weka-microanneal-from928646_reddit-v1.yaml'\n",
    "mcm.add_paths(REDDIT + [(DCLM_SOURCE, 0.0016)], REDDIT_YAML)\n",
    "mcm.examine_config(REDDIT_YAML)"
   ]
  },
  {
   "cell_type": "code",
   "execution_count": 14,
   "id": "31b2dd6c",
   "metadata": {},
   "outputs": [
    {
     "name": "stdout",
     "output_type": "stream",
     "text": [
      "Getting tokens per input file...\n"
     ]
    },
    {
     "name": "stderr",
     "output_type": "stream",
     "text": [
      "100%|██████████| 209/209 [00:08<00:00, 25.86it/s]\n"
     ]
    },
    {
     "name": "stdout",
     "output_type": "stream",
     "text": [
      "Grouping output files into groups...\n",
      "Getting total group sizes...\n"
     ]
    },
    {
     "name": "stderr",
     "output_type": "stream",
     "text": [
      "100%|██████████| 2/2 [00:01<00:00,  1.60it/s]"
     ]
    },
    {
     "name": "stdout",
     "output_type": "stream",
     "text": [
      "TOTAL_TOKENS {'s3://ai2-llm/preprocessed/dclm/v0_rep32_ft7percentile_fw2': 752862224559, 's3://ai2-llm/pretraining-data/sources/reddit/dolma_raw/merged_versions/merged_qa_all/tokenized/dolma-merged-qa-all-mmlu-topics/': 6419309129}\n",
      "Put this in your spreadsheet!\n",
      "paths                                                                                                                              total_tokens    percentage taken    tokens taken\n",
      "-------------------------------------------------------------------------------------------------------------------------------  --------------  ------------------  --------------\n",
      "s3://ai2-llm/preprocessed/dclm/v0_rep32_ft7percentile_fw2                                                                          752862224559              0.0086      6442939669\n",
      "s3://ai2-llm/pretraining-data/sources/reddit/dolma_raw/merged_versions/merged_qa_all/tokenized/dolma-merged-qa-all-mmlu-topics/      6419309129              1           6419309129\n"
     ]
    },
    {
     "name": "stderr",
     "output_type": "stream",
     "text": [
      "\n"
     ]
    }
   ],
   "source": [
    "REDDIT_QA_ALL = ['s3://ai2-llm/pretraining-data/sources/reddit/dolma_raw/merged_versions/merged_qa_all/tokenized/dolma-merged-qa-all-mmlu-topics/']\n",
    "REDDIT_QA_ALL_YAML = 'configs/reddit_microannealing/peteish7-weka-microanneal-from928646_reddit-v2_merged_qa_all.yaml'\n",
    "mcm.add_paths(REDDIT_QA_ALL + [(DCLM_SOURCE, 0.0083)], REDDIT_QA_ALL_YAML)\n",
    "mcm.examine_config(REDDIT_QA_ALL_YAML)"
   ]
  },
  {
   "cell_type": "code",
   "execution_count": 29,
   "id": "97e3f435",
   "metadata": {},
   "outputs": [
    {
     "name": "stdout",
     "output_type": "stream",
     "text": [
      "Getting tokens per input file...\n"
     ]
    },
    {
     "name": "stderr",
     "output_type": "stream",
     "text": [
      "100%|██████████| 116/116 [00:04<00:00, 25.06it/s]\n"
     ]
    },
    {
     "name": "stdout",
     "output_type": "stream",
     "text": [
      "Grouping output files into groups...\n",
      "Getting total group sizes...\n"
     ]
    },
    {
     "name": "stderr",
     "output_type": "stream",
     "text": [
      "100%|██████████| 2/2 [00:01<00:00,  1.47it/s]"
     ]
    },
    {
     "name": "stdout",
     "output_type": "stream",
     "text": [
      "TOTAL_TOKENS {'s3://ai2-llm/pretraining-data/sources/reddit/dolma_raw/merged_versions/merged_qa_wsubreddit/merged_qa_prefilter/merged_qa_prefilter_densesubs/tokenized/': 21741829244, 's3://ai2-llm/preprocessed/dclm/v0_rep32_ft7percentile_fw2/documents/allenai/dolma2-tokenizer/': 752862224559}\n",
      "Put this in your spreadsheet!\n",
      "paths                                                                                                                                                       total_tokens    percentage taken    tokens taken\n",
      "--------------------------------------------------------------------------------------------------------------------------------------------------------  --------------  ------------------  --------------\n",
      "s3://ai2-llm/preprocessed/dclm/v0_rep32_ft7percentile_fw2/documents/allenai/dolma2-tokenizer/                                                               752862224559              0.0134     10106826830\n",
      "s3://ai2-llm/pretraining-data/sources/reddit/dolma_raw/merged_versions/merged_qa_wsubreddit/merged_qa_prefilter/merged_qa_prefilter_densesubs/tokenized/     21741829244              0.4616     10036160974\n"
     ]
    },
    {
     "name": "stderr",
     "output_type": "stream",
     "text": [
      "\n"
     ]
    }
   ],
   "source": [
    "REDDIT_DENSESUBS = [('s3://ai2-llm/pretraining-data/sources/reddit/dolma_raw/merged_versions/merged_qa_wsubreddit/merged_qa_prefilter/merged_qa_prefilter_densesubs/tokenized/',.455)]\n",
    "REDDIT_DENSESUBS_YAML = 'configs/reddit_microannealing/peteish7-weka-microanneal-from928646_reddit-merged_qa_prefilter_densesubs.yaml'\n",
    "mcm.add_paths(REDDIT_DENSESUBS + [(DCLM_SOURCE, 0.013)], REDDIT_DENSESUBS_YAML)\n",
    "mcm.examine_config(REDDIT_DENSESUBS_YAML)"
   ]
  },
  {
   "cell_type": "code",
   "execution_count": 11,
   "id": "b19c171e",
   "metadata": {},
   "outputs": [
    {
     "name": "stdout",
     "output_type": "stream",
     "text": [
      "Getting tokens per input file...\n"
     ]
    },
    {
     "name": "stderr",
     "output_type": "stream",
     "text": [
      "100%|██████████| 216/216 [00:09<00:00, 22.02it/s]\n"
     ]
    },
    {
     "name": "stdout",
     "output_type": "stream",
     "text": [
      "Grouping output files into groups...\n",
      "Getting total group sizes...\n"
     ]
    },
    {
     "name": "stderr",
     "output_type": "stream",
     "text": [
      "100%|██████████| 2/2 [00:01<00:00,  1.74it/s]"
     ]
    },
    {
     "name": "stdout",
     "output_type": "stream",
     "text": [
      "TOTAL_TOKENS {'s3://ai2-llm/pretraining-data/sources/reddit/dolma_raw/merged_versions/merged_qa_wsubreddit/merged_qa_prefilter/merged_qa_prefilter_densesubs_highthresh/tokenized/': 8988286305, 's3://ai2-llm/preprocessed/dclm/v0_rep32_ft7percentile_fw2/documents/allenai/dolma2-tokenizer/': 752862224559}\n",
      "Put this in your spreadsheet!\n",
      "paths                                                                                                                                                                  total_tokens    percentage taken    tokens taken\n",
      "-------------------------------------------------------------------------------------------------------------------------------------------------------------------  --------------  ------------------  --------------\n",
      "s3://ai2-llm/preprocessed/dclm/v0_rep32_ft7percentile_fw2/documents/allenai/dolma2-tokenizer/                                                                          752862224559              0.0119      8973516306\n",
      "s3://ai2-llm/pretraining-data/sources/reddit/dolma_raw/merged_versions/merged_qa_wsubreddit/merged_qa_prefilter/merged_qa_prefilter_densesubs_highthresh/tokenized/      8988286305              1           8988286305\n"
     ]
    },
    {
     "name": "stderr",
     "output_type": "stream",
     "text": [
      "\n"
     ]
    }
   ],
   "source": [
    "REDDIT_DENSESUBS_HT = ['s3://ai2-llm/pretraining-data/sources/reddit/dolma_raw/merged_versions/merged_qa_wsubreddit/merged_qa_prefilter/merged_qa_prefilter_densesubs_highthresh/tokenized/']\n",
    "REDDIT_DENSESUBS_HT_YAML = 'configs/reddit_microannealing/peteish7-weka-microanneal-from928646_reddit-merged_qa_prefilter_densesubs_highthresh.yaml'\n",
    "mcm.add_paths(REDDIT_DENSESUBS_HT + [(DCLM_SOURCE, 0.0115)], REDDIT_DENSESUBS_HT_YAML)\n",
    "mcm.examine_config(REDDIT_DENSESUBS_HT_YAML)"
   ]
  },
  {
   "cell_type": "code",
   "execution_count": 10,
   "id": "dfc84114",
   "metadata": {},
   "outputs": [
    {
     "name": "stdout",
     "output_type": "stream",
     "text": [
      "Getting tokens per input file...\n"
     ]
    },
    {
     "name": "stderr",
     "output_type": "stream",
     "text": [
      "100%|██████████| 186/186 [00:07<00:00, 24.56it/s]\n"
     ]
    },
    {
     "name": "stdout",
     "output_type": "stream",
     "text": [
      "Grouping output files into groups...\n",
      "Getting total group sizes...\n"
     ]
    },
    {
     "name": "stderr",
     "output_type": "stream",
     "text": [
      "100%|██████████| 2/2 [00:01<00:00,  1.49it/s]"
     ]
    },
    {
     "name": "stdout",
     "output_type": "stream",
     "text": [
      "TOTAL_TOKENS {'s3://ai2-llm/preprocessed/dclm/v0_rep32_ft7percentile_fw2/documents/allenai/dolma2-tokenizer/': 752862224559, 's3://ai2-llm/pretraining-data/sources/reddit/dolma_raw/format_rewriting/densesub_highthresh_microanneal_4omini_rewrite_tokenized/': 9860465975}\n",
      "Put this in your spreadsheet!\n",
      "paths                                                                                                                                total_tokens    percentage taken    tokens taken\n",
      "---------------------------------------------------------------------------------------------------------------------------------  --------------  ------------------  --------------\n",
      "s3://ai2-llm/preprocessed/dclm/v0_rep32_ft7percentile_fw2/documents/allenai/dolma2-tokenizer/                                        752862224559              0.0116      8737353996\n",
      "s3://ai2-llm/pretraining-data/sources/reddit/dolma_raw/format_rewriting/densesub_highthresh_microanneal_4omini_rewrite_tokenized/      9860465975              0.905       8923780609\n"
     ]
    },
    {
     "name": "stderr",
     "output_type": "stream",
     "text": [
      "\n"
     ]
    }
   ],
   "source": [
    "REDDIT_DENSESUBS_HT_RW = [('s3://ai2-llm/pretraining-data/sources/reddit/dolma_raw/format_rewriting/densesub_highthresh_microanneal_4omini_rewrite_tokenized/',.9)]\n",
    "REDDIT_DENSESUBS_HT_RW_YAML = 'configs/reddit_microannealing/peteish7-weka-microanneal-from928646_reddit-merged_qa_prefilter_densesubs_highthresh_rewrite.yaml'\n",
    "mcm.add_paths(REDDIT_DENSESUBS_HT_RW + [(DCLM_SOURCE, 0.0116)], REDDIT_DENSESUBS_HT_RW_YAML)\n",
    "mcm.examine_config(REDDIT_DENSESUBS_HT_RW_YAML)"
   ]
  },
  {
   "cell_type": "code",
   "execution_count": 13,
   "id": "f62ce505-0c29-49f0-971f-0642011dcc5c",
   "metadata": {},
   "outputs": [
    {
     "name": "stdout",
     "output_type": "stream",
     "text": [
      "['s3://ai2-llm/preprocessed/personahub_math_v2_79975/',\n",
      " 's3://ai2-llm/preprocessed/basic_math_mj/dolma2-tokenizer/',\n",
      " 's3://ai2-llm/preprocessed/gsm8k-synth/resample_v1_6x/dolma2-tokenizer/',\n",
      " 's3://ai2-llm/preprocessed/gsm_MIND/clean_stop/dolma2-tokenizer/',\n",
      " 's3://ai2-llm/preprocessed/gsm8k/v0_main_train/allenai/dolma2-tokenizer/',\n",
      " 's3://ai2-llm/preprocessed/gsm8k/v0_socratic_train/allenai/dolma2-tokenizer/',\n",
      " 's3://ai2-llm/preprocessed/owm-filtered-math/metamath/',\n",
      " 's3://ai2-llm/preprocessed/owm-filtered-math/codesearchnet/',\n",
      " 's3://ai2-llm/preprocessed/math_shadow_clones/personahub_math_v2_79975_shadow00/',\n",
      " 's3://ai2-llm/preprocessed/math_shadow_clones/basic_math_mj/dolma2-tokenizer_shadow00/',\n",
      " 's3://ai2-llm/preprocessed/math_shadow_clones/gsm8k-synth/resample_v1_6x/dolma2-tokenizer_shadow00/',\n",
      " 's3://ai2-llm/preprocessed/math_shadow_clones/gsm_MIND/clean_stop/dolma2-tokenizer_shadow00/',\n",
      " 's3://ai2-llm/preprocessed/math_shadow_clones/gsm8k/v0_main_train/allenai/dolma2-tokenizer_shadow00/',\n",
      " 's3://ai2-llm/preprocessed/math_shadow_clones/gsm8k/v0_socratic_train/allenai/dolma2-tokenizer_shadow00/',\n",
      " 's3://ai2-llm/preprocessed/math_shadow_clones/owm-filtered-math/metamath_shadow00/',\n",
      " 's3://ai2-llm/preprocessed/math_shadow_clones/owm-filtered-math/codesearchnet_shadow00/']\n"
     ]
    }
   ],
   "source": [
    "SS_BASE = ['s3://ai2-llm/preprocessed/personahub_math_v2_79975/', \n",
    "                 's3://ai2-llm/preprocessed/basic_math_mj/dolma2-tokenizer/',\n",
    "                 's3://ai2-llm/preprocessed/gsm8k-synth/resample_v1_6x/dolma2-tokenizer/',\n",
    "                 's3://ai2-llm/preprocessed/gsm_MIND/clean_stop/dolma2-tokenizer/',\n",
    "                 's3://ai2-llm/preprocessed/gsm8k/v0_main_train/allenai/dolma2-tokenizer/',\n",
    "                  's3://ai2-llm/preprocessed/gsm8k/v0_socratic_train/allenai/dolma2-tokenizer/',\n",
    "                 's3://ai2-llm/preprocessed/owm-filtered-math/metamath/',\n",
    "                 's3://ai2-llm/preprocessed/owm-filtered-math/codesearchnet/']\n",
    "\n",
    "\n",
    "SS_BASE_X2 = SS_BASE[:]\n",
    "for el in SS_BASE:\n",
    "    for clone_id in range(1):\n",
    "        SS_BASE_X2.append('s3://ai2-llm/' + get_new_prefix(el, clone_id, include_slash=True))\n",
    "\n",
    "pprint(SS_BASE_X2)"
   ]
  },
  {
   "cell_type": "code",
   "execution_count": 20,
   "id": "3519890c-3e0b-4482-91f0-51d8d5544b2d",
   "metadata": {},
   "outputs": [
    {
     "name": "stdout",
     "output_type": "stream",
     "text": [
      "Getting tokens per input file...\n"
     ]
    },
    {
     "name": "stderr",
     "output_type": "stream",
     "text": [
      "100%|██████████████████████████████████████████████████████████████████████████████████████████████████████████████████████████████████████████████████████████████████████████████████████████████████████████████| 313/313 [00:09<00:00, 32.00it/s]\n"
     ]
    },
    {
     "name": "stdout",
     "output_type": "stream",
     "text": [
      "Grouping output files into groups...\n",
      "Getting total group sizes...\n"
     ]
    },
    {
     "name": "stderr",
     "output_type": "stream",
     "text": [
      "100%|████████████████████████████████████████████████████████████████████████████████████████████████████████████████████████████████████████████████████████████████████████████████████████████████████████████████| 17/17 [00:07<00:00,  2.34it/s]"
     ]
    },
    {
     "name": "stdout",
     "output_type": "stream",
     "text": [
      "TOTAL_TOKENS {'s3://ai2-llm/preprocessed/gsm_MIND/clean_stop/dolma2-tokenizer/': 17059477, 's3://ai2-llm/preprocessed/math_shadow_clones/gsm8k-synth/resample_v1_6x/dolma2-tokenizer_shadow00/': 1077750, 's3://ai2-llm/preprocessed/gsm8k/v0_main_train/allenai/dolma2-tokenizer/': 1227776, 's3://ai2-llm/preprocessed/math_shadow_clones/owm-filtered-math/metamath_shadow00/': 84219596, 's3://ai2-llm/preprocessed/owm-filtered-math/metamath/': 84219596, 's3://ai2-llm/preprocessed/owm-filtered-math/codesearchnet/': 1778772, 's3://ai2-llm/preprocessed/math_shadow_clones/personahub_math_v2_79975_shadow00/': 84520483, 's3://ai2-llm/preprocessed/math_shadow_clones/gsm_MIND/clean_stop/dolma2-tokenizer_shadow00/': 17059477, 's3://ai2-llm/preprocessed/math_shadow_clones/gsm8k/v0_socratic_train/allenai/dolma2-tokenizer_shadow00/': 1514654, 's3://ai2-llm/preprocessed/dclm/v0_rep32_ft7percentile_fw2': 752862224559, 's3://ai2-llm/preprocessed/basic_math_mj/dolma2-tokenizer/': 9026573, 's3://ai2-llm/preprocessed/math_shadow_clones/owm-filtered-math/codesearchnet_shadow00/': 1778772, 's3://ai2-llm/preprocessed/gsm8k-synth/resample_v1_6x/dolma2-tokenizer/': 1077750, 's3://ai2-llm/preprocessed/gsm8k/v0_socratic_train/allenai/dolma2-tokenizer/': 1514654, 's3://ai2-llm/preprocessed/math_shadow_clones/gsm8k/v0_main_train/allenai/dolma2-tokenizer_shadow00/': 1227776, 's3://ai2-llm/preprocessed/math_shadow_clones/basic_math_mj/dolma2-tokenizer_shadow00/': 9026573, 's3://ai2-llm/preprocessed/personahub_math_v2_79975/': 84520483}\n",
      "Put this in your spreadsheet!\n",
      "paths                                                                                                      total_tokens    percentage taken    tokens taken\n",
      "-------------------------------------------------------------------------------------------------------  --------------  ------------------  --------------\n",
      "s3://ai2-llm/preprocessed/basic_math_mj/dolma2-tokenizer/                                                       9026573              1              9026573\n",
      "s3://ai2-llm/preprocessed/dclm/v0_rep32_ft7percentile_fw2                                                  752862224559              0.0005       393661136\n",
      "s3://ai2-llm/preprocessed/gsm8k-synth/resample_v1_6x/dolma2-tokenizer/                                          1077750              1              1077750\n",
      "s3://ai2-llm/preprocessed/gsm8k/v0_main_train/allenai/dolma2-tokenizer/                                         1227776              1              1227776\n",
      "s3://ai2-llm/preprocessed/gsm8k/v0_socratic_train/allenai/dolma2-tokenizer/                                     1514654              1              1514654\n",
      "s3://ai2-llm/preprocessed/gsm_MIND/clean_stop/dolma2-tokenizer/                                                17059477              1             17059477\n",
      "s3://ai2-llm/preprocessed/math_shadow_clones/basic_math_mj/dolma2-tokenizer_shadow00/                           9026573              1              9026573\n",
      "s3://ai2-llm/preprocessed/math_shadow_clones/gsm8k-synth/resample_v1_6x/dolma2-tokenizer_shadow00/              1077750              1              1077750\n",
      "s3://ai2-llm/preprocessed/math_shadow_clones/gsm8k/v0_main_train/allenai/dolma2-tokenizer_shadow00/             1227776              1              1227776\n",
      "s3://ai2-llm/preprocessed/math_shadow_clones/gsm8k/v0_socratic_train/allenai/dolma2-tokenizer_shadow00/         1514654              1              1514654\n",
      "s3://ai2-llm/preprocessed/math_shadow_clones/gsm_MIND/clean_stop/dolma2-tokenizer_shadow00/                    17059477              1             17059477\n",
      "s3://ai2-llm/preprocessed/math_shadow_clones/owm-filtered-math/codesearchnet_shadow00/                          1778772              1              1778772\n",
      "s3://ai2-llm/preprocessed/math_shadow_clones/owm-filtered-math/metamath_shadow00/                              84219596              1             84219596\n",
      "s3://ai2-llm/preprocessed/math_shadow_clones/personahub_math_v2_79975_shadow00/                                84520483              1             84520483\n",
      "s3://ai2-llm/preprocessed/owm-filtered-math/codesearchnet/                                                      1778772              1              1778772\n",
      "s3://ai2-llm/preprocessed/owm-filtered-math/metamath/                                                          84219596              1             84219596\n",
      "s3://ai2-llm/preprocessed/personahub_math_v2_79975/                                                            84520483              1             84520483\n"
     ]
    },
    {
     "name": "stderr",
     "output_type": "stream",
     "text": [
      "\n"
     ]
    }
   ],
   "source": [
    "SS_BASE_X2_YAML = 'configs/microannealing/peteish7-weka-microanneal-from928646_small-sources_x2.yaml'\n",
    "mcm.add_paths(SS_BASE_X2 + [(DCLM_SOURCE, 0.0005)], SS_BASE_X2_YAML)\n",
    "mcm.examine_config(SS_BASE_X2_YAML)\n"
   ]
  },
  {
   "cell_type": "code",
   "execution_count": 22,
   "id": "fb3e8c1d-60f7-4d7c-8146-746443d991a1",
   "metadata": {},
   "outputs": [
    {
     "name": "stdout",
     "output_type": "stream",
     "text": [
      "['s3://ai2-llm/preprocessed/personahub_math_v2_79975/',\n",
      " 's3://ai2-llm/preprocessed/basic_math_mj/dolma2-tokenizer/',\n",
      " 's3://ai2-llm/preprocessed/gsm8k-synth/resample_v1_6x/dolma2-tokenizer/',\n",
      " 's3://ai2-llm/preprocessed/gsm_MIND/clean_stop/dolma2-tokenizer/',\n",
      " 's3://ai2-llm/preprocessed/gsm8k/v0_main_train/allenai/dolma2-tokenizer/',\n",
      " 's3://ai2-llm/preprocessed/gsm8k/v0_socratic_train/allenai/dolma2-tokenizer/',\n",
      " 's3://ai2-llm/preprocessed/owm-filtered-math/metamath/',\n",
      " 's3://ai2-llm/preprocessed/owm-filtered-math/codesearchnet/',\n",
      " 's3://ai2-llm/preprocessed/math_shadow_clones/personahub_math_v2_79975_shadow00/',\n",
      " 's3://ai2-llm/preprocessed/math_shadow_clones/personahub_math_v2_79975_shadow01/',\n",
      " 's3://ai2-llm/preprocessed/math_shadow_clones/personahub_math_v2_79975_shadow02/',\n",
      " 's3://ai2-llm/preprocessed/math_shadow_clones/basic_math_mj/dolma2-tokenizer_shadow00/',\n",
      " 's3://ai2-llm/preprocessed/math_shadow_clones/basic_math_mj/dolma2-tokenizer_shadow01/',\n",
      " 's3://ai2-llm/preprocessed/math_shadow_clones/basic_math_mj/dolma2-tokenizer_shadow02/',\n",
      " 's3://ai2-llm/preprocessed/math_shadow_clones/gsm8k-synth/resample_v1_6x/dolma2-tokenizer_shadow00/',\n",
      " 's3://ai2-llm/preprocessed/math_shadow_clones/gsm8k-synth/resample_v1_6x/dolma2-tokenizer_shadow01/',\n",
      " 's3://ai2-llm/preprocessed/math_shadow_clones/gsm8k-synth/resample_v1_6x/dolma2-tokenizer_shadow02/',\n",
      " 's3://ai2-llm/preprocessed/math_shadow_clones/gsm_MIND/clean_stop/dolma2-tokenizer_shadow00/',\n",
      " 's3://ai2-llm/preprocessed/math_shadow_clones/gsm_MIND/clean_stop/dolma2-tokenizer_shadow01/',\n",
      " 's3://ai2-llm/preprocessed/math_shadow_clones/gsm_MIND/clean_stop/dolma2-tokenizer_shadow02/',\n",
      " 's3://ai2-llm/preprocessed/math_shadow_clones/gsm8k/v0_main_train/allenai/dolma2-tokenizer_shadow00/',\n",
      " 's3://ai2-llm/preprocessed/math_shadow_clones/gsm8k/v0_main_train/allenai/dolma2-tokenizer_shadow01/',\n",
      " 's3://ai2-llm/preprocessed/math_shadow_clones/gsm8k/v0_main_train/allenai/dolma2-tokenizer_shadow02/',\n",
      " 's3://ai2-llm/preprocessed/math_shadow_clones/gsm8k/v0_socratic_train/allenai/dolma2-tokenizer_shadow00/',\n",
      " 's3://ai2-llm/preprocessed/math_shadow_clones/gsm8k/v0_socratic_train/allenai/dolma2-tokenizer_shadow01/',\n",
      " 's3://ai2-llm/preprocessed/math_shadow_clones/gsm8k/v0_socratic_train/allenai/dolma2-tokenizer_shadow02/',\n",
      " 's3://ai2-llm/preprocessed/math_shadow_clones/owm-filtered-math/metamath_shadow00/',\n",
      " 's3://ai2-llm/preprocessed/math_shadow_clones/owm-filtered-math/metamath_shadow01/',\n",
      " 's3://ai2-llm/preprocessed/math_shadow_clones/owm-filtered-math/metamath_shadow02/',\n",
      " 's3://ai2-llm/preprocessed/math_shadow_clones/owm-filtered-math/codesearchnet_shadow00/',\n",
      " 's3://ai2-llm/preprocessed/math_shadow_clones/owm-filtered-math/codesearchnet_shadow01/',\n",
      " 's3://ai2-llm/preprocessed/math_shadow_clones/owm-filtered-math/codesearchnet_shadow02/']\n"
     ]
    }
   ],
   "source": [
    "SS_BASE = ['s3://ai2-llm/preprocessed/personahub_math_v2_79975/', \n",
    "                 's3://ai2-llm/preprocessed/basic_math_mj/dolma2-tokenizer/',\n",
    "                 's3://ai2-llm/preprocessed/gsm8k-synth/resample_v1_6x/dolma2-tokenizer/',\n",
    "                 's3://ai2-llm/preprocessed/gsm_MIND/clean_stop/dolma2-tokenizer/',\n",
    "                 's3://ai2-llm/preprocessed/gsm8k/v0_main_train/allenai/dolma2-tokenizer/',\n",
    "                  's3://ai2-llm/preprocessed/gsm8k/v0_socratic_train/allenai/dolma2-tokenizer/',\n",
    "                 's3://ai2-llm/preprocessed/owm-filtered-math/metamath/',\n",
    "                 's3://ai2-llm/preprocessed/owm-filtered-math/codesearchnet/']\n",
    "\n",
    "\n",
    "SS_BASE_X4 = SS_BASE[:]\n",
    "for el in SS_BASE:\n",
    "    for clone_id in range(3):\n",
    "        SS_BASE_X4.append('s3://ai2-llm/' + get_new_prefix(el, clone_id, include_slash=True))\n",
    "\n",
    "pprint(SS_BASE_X4)"
   ]
  },
  {
   "cell_type": "code",
   "execution_count": 23,
   "id": "daec1e63-f93d-4e9c-8524-707e7e3bdf9f",
   "metadata": {},
   "outputs": [
    {
     "name": "stdout",
     "output_type": "stream",
     "text": [
      "Getting tokens per input file...\n"
     ]
    },
    {
     "name": "stderr",
     "output_type": "stream",
     "text": [
      "100%|██████████████████████████████████████████████████████████████████████████████████████████████████████████████████████████████████████████████████████████████████████████████████████████████████████████████| 626/626 [00:16<00:00, 37.12it/s]\n"
     ]
    },
    {
     "name": "stdout",
     "output_type": "stream",
     "text": [
      "Grouping output files into groups...\n",
      "Getting total group sizes...\n"
     ]
    },
    {
     "name": "stderr",
     "output_type": "stream",
     "text": [
      "100%|████████████████████████████████████████████████████████████████████████████████████████████████████████████████████████████████████████████████████████████████████████████████████████████████████████████████| 33/33 [00:11<00:00,  2.76it/s]"
     ]
    },
    {
     "name": "stdout",
     "output_type": "stream",
     "text": [
      "TOTAL_TOKENS {'s3://ai2-llm/preprocessed/gsm_MIND/clean_stop/dolma2-tokenizer/': 17059477, 's3://ai2-llm/preprocessed/math_shadow_clones/gsm8k-synth/resample_v1_6x/dolma2-tokenizer_shadow00/': 1077750, 's3://ai2-llm/preprocessed/math_shadow_clones/gsm8k/v0_main_train/allenai/dolma2-tokenizer_shadow01/': 1227776, 's3://ai2-llm/preprocessed/math_shadow_clones/owm-filtered-math/metamath_shadow02/': 84219596, 's3://ai2-llm/preprocessed/owm-filtered-math/codesearchnet/': 1778772, 's3://ai2-llm/preprocessed/math_shadow_clones/gsm8k-synth/resample_v1_6x/dolma2-tokenizer_shadow01/': 1077750, 's3://ai2-llm/preprocessed/math_shadow_clones/basic_math_mj/dolma2-tokenizer_shadow02/': 9026573, 's3://ai2-llm/preprocessed/owm-filtered-math/metamath/': 84219596, 's3://ai2-llm/preprocessed/math_shadow_clones/gsm8k/v0_socratic_train/allenai/dolma2-tokenizer_shadow01/': 1514654, 's3://ai2-llm/preprocessed/math_shadow_clones/gsm_MIND/clean_stop/dolma2-tokenizer_shadow02/': 17059477, 's3://ai2-llm/preprocessed/math_shadow_clones/personahub_math_v2_79975_shadow01/': 84520483, 's3://ai2-llm/preprocessed/math_shadow_clones/gsm8k-synth/resample_v1_6x/dolma2-tokenizer_shadow02/': 1077750, 's3://ai2-llm/preprocessed/math_shadow_clones/owm-filtered-math/codesearchnet_shadow02/': 1778772, 's3://ai2-llm/preprocessed/math_shadow_clones/gsm_MIND/clean_stop/dolma2-tokenizer_shadow01/': 17059477, 's3://ai2-llm/preprocessed/math_shadow_clones/gsm8k/v0_main_train/allenai/dolma2-tokenizer_shadow00/': 1227776, 's3://ai2-llm/preprocessed/personahub_math_v2_79975/': 84520483, 's3://ai2-llm/preprocessed/math_shadow_clones/gsm8k/v0_main_train/allenai/dolma2-tokenizer_shadow02/': 1227776, 's3://ai2-llm/preprocessed/math_shadow_clones/gsm8k/v0_socratic_train/allenai/dolma2-tokenizer_shadow02/': 1514654, 's3://ai2-llm/preprocessed/math_shadow_clones/owm-filtered-math/metamath_shadow01/': 84219596, 's3://ai2-llm/preprocessed/math_shadow_clones/gsm8k/v0_socratic_train/allenai/dolma2-tokenizer_shadow00/': 1514654, 's3://ai2-llm/preprocessed/basic_math_mj/dolma2-tokenizer/': 9026573, 's3://ai2-llm/preprocessed/gsm8k-synth/resample_v1_6x/dolma2-tokenizer/': 1077750, 's3://ai2-llm/preprocessed/math_shadow_clones/gsm_MIND/clean_stop/dolma2-tokenizer_shadow00/': 17059477, 's3://ai2-llm/preprocessed/math_shadow_clones/basic_math_mj/dolma2-tokenizer_shadow00/': 9026573, 's3://ai2-llm/preprocessed/gsm8k/v0_main_train/allenai/dolma2-tokenizer/': 1227776, 's3://ai2-llm/preprocessed/math_shadow_clones/owm-filtered-math/codesearchnet_shadow01/': 1778772, 's3://ai2-llm/preprocessed/math_shadow_clones/personahub_math_v2_79975_shadow00/': 84520483, 's3://ai2-llm/preprocessed/math_shadow_clones/basic_math_mj/dolma2-tokenizer_shadow01/': 9026573, 's3://ai2-llm/preprocessed/dclm/v0_rep32_ft7percentile_fw2': 752862224559, 's3://ai2-llm/preprocessed/math_shadow_clones/owm-filtered-math/codesearchnet_shadow00/': 1778772, 's3://ai2-llm/preprocessed/gsm8k/v0_socratic_train/allenai/dolma2-tokenizer/': 1514654, 's3://ai2-llm/preprocessed/math_shadow_clones/owm-filtered-math/metamath_shadow00/': 84219596, 's3://ai2-llm/preprocessed/math_shadow_clones/personahub_math_v2_79975_shadow02/': 84520483}\n",
      "Put this in your spreadsheet!\n",
      "paths                                                                                                      total_tokens    percentage taken    tokens taken\n",
      "-------------------------------------------------------------------------------------------------------  --------------  ------------------  --------------\n",
      "s3://ai2-llm/preprocessed/basic_math_mj/dolma2-tokenizer/                                                       9026573               1             9026573\n",
      "s3://ai2-llm/preprocessed/dclm/v0_rep32_ft7percentile_fw2                                                  752862224559               0.001       764660067\n",
      "s3://ai2-llm/preprocessed/gsm8k-synth/resample_v1_6x/dolma2-tokenizer/                                          1077750               1             1077750\n",
      "s3://ai2-llm/preprocessed/gsm8k/v0_main_train/allenai/dolma2-tokenizer/                                         1227776               1             1227776\n",
      "s3://ai2-llm/preprocessed/gsm8k/v0_socratic_train/allenai/dolma2-tokenizer/                                     1514654               1             1514654\n",
      "s3://ai2-llm/preprocessed/gsm_MIND/clean_stop/dolma2-tokenizer/                                                17059477               1            17059477\n",
      "s3://ai2-llm/preprocessed/math_shadow_clones/basic_math_mj/dolma2-tokenizer_shadow00/                           9026573               1             9026573\n",
      "s3://ai2-llm/preprocessed/math_shadow_clones/basic_math_mj/dolma2-tokenizer_shadow01/                           9026573               1             9026573\n",
      "s3://ai2-llm/preprocessed/math_shadow_clones/basic_math_mj/dolma2-tokenizer_shadow02/                           9026573               1             9026573\n",
      "s3://ai2-llm/preprocessed/math_shadow_clones/gsm8k-synth/resample_v1_6x/dolma2-tokenizer_shadow00/              1077750               1             1077750\n",
      "s3://ai2-llm/preprocessed/math_shadow_clones/gsm8k-synth/resample_v1_6x/dolma2-tokenizer_shadow01/              1077750               1             1077750\n",
      "s3://ai2-llm/preprocessed/math_shadow_clones/gsm8k-synth/resample_v1_6x/dolma2-tokenizer_shadow02/              1077750               1             1077750\n",
      "s3://ai2-llm/preprocessed/math_shadow_clones/gsm8k/v0_main_train/allenai/dolma2-tokenizer_shadow00/             1227776               1             1227776\n",
      "s3://ai2-llm/preprocessed/math_shadow_clones/gsm8k/v0_main_train/allenai/dolma2-tokenizer_shadow01/             1227776               1             1227776\n",
      "s3://ai2-llm/preprocessed/math_shadow_clones/gsm8k/v0_main_train/allenai/dolma2-tokenizer_shadow02/             1227776               1             1227776\n",
      "s3://ai2-llm/preprocessed/math_shadow_clones/gsm8k/v0_socratic_train/allenai/dolma2-tokenizer_shadow00/         1514654               1             1514654\n",
      "s3://ai2-llm/preprocessed/math_shadow_clones/gsm8k/v0_socratic_train/allenai/dolma2-tokenizer_shadow01/         1514654               1             1514654\n",
      "s3://ai2-llm/preprocessed/math_shadow_clones/gsm8k/v0_socratic_train/allenai/dolma2-tokenizer_shadow02/         1514654               1             1514654\n",
      "s3://ai2-llm/preprocessed/math_shadow_clones/gsm_MIND/clean_stop/dolma2-tokenizer_shadow00/                    17059477               1            17059477\n",
      "s3://ai2-llm/preprocessed/math_shadow_clones/gsm_MIND/clean_stop/dolma2-tokenizer_shadow01/                    17059477               1            17059477\n",
      "s3://ai2-llm/preprocessed/math_shadow_clones/gsm_MIND/clean_stop/dolma2-tokenizer_shadow02/                    17059477               1            17059477\n",
      "s3://ai2-llm/preprocessed/math_shadow_clones/owm-filtered-math/codesearchnet_shadow00/                          1778772               1             1778772\n",
      "s3://ai2-llm/preprocessed/math_shadow_clones/owm-filtered-math/codesearchnet_shadow01/                          1778772               1             1778772\n",
      "s3://ai2-llm/preprocessed/math_shadow_clones/owm-filtered-math/codesearchnet_shadow02/                          1778772               1             1778772\n",
      "s3://ai2-llm/preprocessed/math_shadow_clones/owm-filtered-math/metamath_shadow00/                              84219596               1            84219596\n",
      "s3://ai2-llm/preprocessed/math_shadow_clones/owm-filtered-math/metamath_shadow01/                              84219596               1            84219596\n",
      "s3://ai2-llm/preprocessed/math_shadow_clones/owm-filtered-math/metamath_shadow02/                              84219596               1            84219596\n",
      "s3://ai2-llm/preprocessed/math_shadow_clones/personahub_math_v2_79975_shadow00/                                84520483               1            84520483\n",
      "s3://ai2-llm/preprocessed/math_shadow_clones/personahub_math_v2_79975_shadow01/                                84520483               1            84520483\n",
      "s3://ai2-llm/preprocessed/math_shadow_clones/personahub_math_v2_79975_shadow02/                                84520483               1            84520483\n",
      "s3://ai2-llm/preprocessed/owm-filtered-math/codesearchnet/                                                      1778772               1             1778772\n",
      "s3://ai2-llm/preprocessed/owm-filtered-math/metamath/                                                          84219596               1            84219596\n",
      "s3://ai2-llm/preprocessed/personahub_math_v2_79975/                                                            84520483               1            84520483\n"
     ]
    },
    {
     "name": "stderr",
     "output_type": "stream",
     "text": [
      "\n"
     ]
    }
   ],
   "source": [
    "SS_BASE_X4_YAML = 'configs/microannealing/peteish7-weka-microanneal-from928646_small-sources_x4.yaml'\n",
    "mcm.add_paths(SS_BASE_X4 + [(DCLM_SOURCE, 0.001)], SS_BASE_X4_YAML)\n",
    "mcm.examine_config(SS_BASE_X4_YAML)"
   ]
  },
  {
   "cell_type": "code",
   "execution_count": 25,
   "id": "78575961-b70c-46be-8130-94da3cb73d3b",
   "metadata": {},
   "outputs": [
    {
     "name": "stdout",
     "output_type": "stream",
     "text": [
      "['s3://ai2-llm/preprocessed/tinyGSM/mind/dolma2-tokenizer/', 's3://ai2-llm/preprocessed/math_shadow_clones/tinyGSM/mind/dolma2-tokenizer_shadow00/']\n"
     ]
    }
   ],
   "source": [
    "TINY_GSM_BASE = ['s3://ai2-llm/preprocessed/tinyGSM/mind/dolma2-tokenizer/']\n",
    "TINY_GSM_X2 = TINY_GSM_BASE[:]\n",
    "for el in TINY_GSM_BASE:\n",
    "    for clone_id in range(1):\n",
    "        TINY_GSM_X2.append('s3://ai2-llm/' + get_new_prefix(el, clone_id, include_slash=True))\n",
    "\n",
    "\n",
    "print(TINY_GSM_X2)"
   ]
  },
  {
   "cell_type": "code",
   "execution_count": 28,
   "id": "da6bedae-f8f1-45f8-abb3-c9368496a8c1",
   "metadata": {},
   "outputs": [
    {
     "name": "stdout",
     "output_type": "stream",
     "text": [
      "Getting tokens per input file...\n"
     ]
    },
    {
     "name": "stderr",
     "output_type": "stream",
     "text": [
      "100%|██████████████████████████████████████████████████████████████████████████████████████████████████████████████████████████████████████████████████████████████████████████████████████████████████████████████| 201/201 [00:05<00:00, 37.37it/s]\n"
     ]
    },
    {
     "name": "stdout",
     "output_type": "stream",
     "text": [
      "Grouping output files into groups...\n",
      "Getting total group sizes...\n"
     ]
    },
    {
     "name": "stderr",
     "output_type": "stream",
     "text": [
      "100%|██████████████████████████████████████████████████████████████████████████████████████████████████████████████████████████████████████████████████████████████████████████████████████████████████████████████████| 3/3 [00:02<00:00,  1.42it/s]"
     ]
    },
    {
     "name": "stdout",
     "output_type": "stream",
     "text": [
      "TOTAL_TOKENS {'s3://ai2-llm/preprocessed/tinyGSM/mind/dolma2-tokenizer/': 3064742156, 's3://ai2-llm/preprocessed/dclm/v0_rep32_ft7percentile_fw2': 752862224559, 's3://ai2-llm/preprocessed/math_shadow_clones/tinyGSM/mind/dolma2-tokenizer_shadow00/': 3064742156}\n",
      "Put this in your spreadsheet!\n",
      "paths                                                                                   total_tokens    percentage taken    tokens taken\n",
      "------------------------------------------------------------------------------------  --------------  ------------------  --------------\n",
      "s3://ai2-llm/preprocessed/dclm/v0_rep32_ft7percentile_fw2                               752862224559              0.0086      6464534696\n",
      "s3://ai2-llm/preprocessed/math_shadow_clones/tinyGSM/mind/dolma2-tokenizer_shadow00/      3064742156              1           3064742156\n",
      "s3://ai2-llm/preprocessed/tinyGSM/mind/dolma2-tokenizer/                                  3064742156              1           3064742156\n"
     ]
    },
    {
     "name": "stderr",
     "output_type": "stream",
     "text": [
      "\n"
     ]
    }
   ],
   "source": [
    "TINY_GSM_X2_YAML = 'configs/microannealing/peteish7-weka-microanneal-from928646_tiny-gsm-mind_x2.yaml'\n",
    "mcm.add_paths(TINY_GSM_X2 + [(DCLM_SOURCE, 0.0085)], TINY_GSM_X2_YAML)\n",
    "mcm.examine_config(TINY_GSM_X2_YAML)"
   ]
  },
  {
   "cell_type": "code",
   "execution_count": null,
   "id": "f631f6fd-deea-4918-8520-83c7037874d4",
   "metadata": {},
   "outputs": [],
   "source": []
  },
  {
   "cell_type": "code",
   "execution_count": null,
   "id": "3336ca9f-45fc-40ca-bddc-c4ba0dcecfe0",
   "metadata": {},
   "outputs": [],
   "source": []
  },
  {
   "cell_type": "code",
   "execution_count": null,
   "id": "e4f260b9-c043-4d8f-856d-065336c4a08e",
   "metadata": {},
   "outputs": [],
   "source": []
  },
  {
   "cell_type": "code",
   "execution_count": 3,
   "id": "951e5f84-764b-4e9a-a9aa-96b9da5e1841",
   "metadata": {},
   "outputs": [
    {
     "name": "stdout",
     "output_type": "stream",
     "text": [
      "Getting tokens per input file...\n"
     ]
    },
    {
     "name": "stderr",
     "output_type": "stream",
     "text": [
      "100%|██████████████████████████████████████████████████████████████████████████████████████████████████████████████████████████████████████████████████████████████████████████████████████████████████████████████| 157/157 [00:04<00:00, 32.81it/s]\n"
     ]
    },
    {
     "name": "stdout",
     "output_type": "stream",
     "text": [
      "Grouping output files into groups...\n",
      "Getting total group sizes...\n"
     ]
    },
    {
     "name": "stderr",
     "output_type": "stream",
     "text": [
      "100%|██████████████████████████████████████████████████████████████████████████████████████████████████████████████████████████████████████████████████████████████████████████████████████████████████████████████████| 9/9 [00:03<00:00,  2.28it/s]"
     ]
    },
    {
     "name": "stdout",
     "output_type": "stream",
     "text": [
      "TOTAL_TOKENS {'s3://ai2-llm/preprocessed/personahub_math_v2_79975/': 84520483, 's3://ai2-llm/preprocessed/gsm8k-synth/resample_v1_6x/dolma2-tokenizer/': 1077750, 's3://ai2-llm/preprocessed/basic_math_mj/dolma2-tokenizer/': 9026573, 's3://ai2-llm/preprocessed/owm-filtered-math/codesearchnet/': 1778772, 's3://ai2-llm/preprocessed/dclm/v0_rep32_ft7percentile_fw2': 752862224559, 's3://ai2-llm/preprocessed/gsm_MIND/clean_stop/dolma2-tokenizer/': 17059477, 's3://ai2-llm/preprocessed/owm-filtered-math/metamath/': 84219596, 's3://ai2-llm/preprocessed/gsm8k/v0_main_train/allenai/dolma2-tokenizer/': 1227776, 's3://ai2-llm/preprocessed/gsm8k/v0_socratic_train/allenai/dolma2-tokenizer/': 1514654}\n",
      "Put this in your spreadsheet!\n",
      "paths                                                                          total_tokens    percentage taken    tokens taken\n",
      "---------------------------------------------------------------------------  --------------  ------------------  --------------\n",
      "s3://ai2-llm/preprocessed/basic_math_mj/dolma2-tokenizer/                           9026573              1              9026573\n",
      "s3://ai2-llm/preprocessed/dclm/v0_rep32_ft7percentile_fw2                      752862224559              0.0005       364022020\n",
      "s3://ai2-llm/preprocessed/gsm8k-synth/resample_v1_6x/dolma2-tokenizer/              1077750              1              1077750\n",
      "s3://ai2-llm/preprocessed/gsm8k/v0_main_train/allenai/dolma2-tokenizer/             1227776              1              1227776\n",
      "s3://ai2-llm/preprocessed/gsm8k/v0_socratic_train/allenai/dolma2-tokenizer/         1514654              1              1514654\n",
      "s3://ai2-llm/preprocessed/gsm_MIND/clean_stop/dolma2-tokenizer/                    17059477              1             17059477\n",
      "s3://ai2-llm/preprocessed/owm-filtered-math/codesearchnet/                          1778772              1              1778772\n",
      "s3://ai2-llm/preprocessed/owm-filtered-math/metamath/                              84219596              1             84219596\n",
      "s3://ai2-llm/preprocessed/personahub_math_v2_79975/                                84520483              1             84520483\n"
     ]
    },
    {
     "name": "stderr",
     "output_type": "stream",
     "text": [
      "\n"
     ]
    }
   ],
   "source": [
    "SMALL_SOURCES = ['s3://ai2-llm/preprocessed/personahub_math_v2_79975/', \n",
    "                 's3://ai2-llm/preprocessed/basic_math_mj/dolma2-tokenizer/',\n",
    "                 's3://ai2-llm/preprocessed/gsm8k-synth/resample_v1_6x/dolma2-tokenizer/',\n",
    "                 's3://ai2-llm/preprocessed/gsm_MIND/clean_stop/dolma2-tokenizer/',\n",
    "                 's3://ai2-llm/preprocessed/gsm8k/v0_main_train/allenai/dolma2-tokenizer/',\n",
    "                  's3://ai2-llm/preprocessed/gsm8k/v0_socratic_train/allenai/dolma2-tokenizer/',\n",
    "                 's3://ai2-llm/preprocessed/owm-filtered-math/metamath/',\n",
    "                 's3://ai2-llm/preprocessed/owm-filtered-math/codesearchnet/']\n",
    "\n",
    "SMALL_YAML = 'configs/microannealing/peteish7-weka-microanneal-from928646_small-sources_.yaml'\n",
    "mcm.add_paths(SMALL_SOURCES + [(DCLM_SOURCE, 0.000266)], SMALL_YAML)\n",
    "mcm.examine_config(SMALL_YAML)\n"
   ]
  },
  {
   "cell_type": "code",
   "execution_count": 4,
   "id": "b6998d5b-f2e9-4fae-acc0-e85fe49ef2b0",
   "metadata": {},
   "outputs": [
    {
     "name": "stdout",
     "output_type": "stream",
     "text": [
      "Getting tokens per input file...\n"
     ]
    },
    {
     "name": "stderr",
     "output_type": "stream",
     "text": [
      "100%|██████████████████████████████████████████████████████████████████████████████████████████████████████████████████████████████████████████████████████████████████████████████████████████████████████████████| 101/101 [00:03<00:00, 33.37it/s]\n"
     ]
    },
    {
     "name": "stdout",
     "output_type": "stream",
     "text": [
      "Grouping output files into groups...\n",
      "Getting total group sizes...\n"
     ]
    },
    {
     "name": "stderr",
     "output_type": "stream",
     "text": [
      "100%|██████████████████████████████████████████████████████████████████████████████████████████████████████████████████████████████████████████████████████████████████████████████████████████████████████████████████| 2/2 [00:01<00:00,  1.15it/s]"
     ]
    },
    {
     "name": "stdout",
     "output_type": "stream",
     "text": [
      "TOTAL_TOKENS {'s3://ai2-llm/preprocessed/dclm/v0_rep32_ft7percentile_fw2': 752862224559, 's3://ai2-llm/preprocessed/tinyGSM/mind/dolma2-tokenizer/': 3064742156}\n",
      "Put this in your spreadsheet!\n",
      "paths                                                        total_tokens    percentage taken    tokens taken\n",
      "---------------------------------------------------------  --------------  ------------------  --------------\n",
      "s3://ai2-llm/preprocessed/dclm/v0_rep32_ft7percentile_fw2    752862224559              0.0044      3335361012\n",
      "s3://ai2-llm/preprocessed/tinyGSM/mind/dolma2-tokenizer/       3064742156              1           3064742156\n"
     ]
    },
    {
     "name": "stderr",
     "output_type": "stream",
     "text": [
      "\n"
     ]
    }
   ],
   "source": [
    "TINY_GSM_MIND = ['s3://ai2-llm/preprocessed/tinyGSM/mind/dolma2-tokenizer/']\n",
    "TINY_GSM_MIND_YAML = 'configs/microannealing/peteish7-weka-microanneal-from928646_tiny-gsm-mind.yaml'\n",
    "mcm.add_paths(TINY_GSM_MIND + [(DCLM_SOURCE, 0.004153308708)], TINY_GSM_MIND_YAML)\n",
    "mcm.examine_config(TINY_GSM_MIND_YAML)"
   ]
  },
  {
   "cell_type": "code",
   "execution_count": 5,
   "id": "2a54b632-ba8e-4eec-b19f-d3a668f516b3",
   "metadata": {},
   "outputs": [
    {
     "name": "stdout",
     "output_type": "stream",
     "text": [
      "Getting tokens per input file...\n"
     ]
    },
    {
     "name": "stderr",
     "output_type": "stream",
     "text": [
      "100%|██████████████████████████████████████████████████████████████████████████████████████████████████████████████████████████████████████████████████████████████████████████████████████████████████████████████| 111/111 [00:03<00:00, 33.21it/s]\n"
     ]
    },
    {
     "name": "stdout",
     "output_type": "stream",
     "text": [
      "Grouping output files into groups...\n",
      "Getting total group sizes...\n"
     ]
    },
    {
     "name": "stderr",
     "output_type": "stream",
     "text": [
      "100%|██████████████████████████████████████████████████████████████████████████████████████████████████████████████████████████████████████████████████████████████████████████████████████████████████████████████████| 3/3 [00:02<00:00,  1.43it/s]"
     ]
    },
    {
     "name": "stdout",
     "output_type": "stream",
     "text": [
      "TOTAL_TOKENS {'s3://ai2-llm/preprocessed/mathcoder2-synthmath/mathcoder2-synthmath/filtered-math/dolma2-tokenizer/': 3087662497, 's3://ai2-llm/preprocessed/dclm/v0_rep32_ft7percentile_fw2': 752862224559, 's3://ai2-llm/preprocessed/mathcoder2-synthmath/ajibawa-2023/dolma2-tokenizer/': 782584798}\n",
      "Put this in your spreadsheet!\n",
      "paths                                                                                                  total_tokens    percentage taken    tokens taken\n",
      "---------------------------------------------------------------------------------------------------  --------------  ------------------  --------------\n",
      "s3://ai2-llm/preprocessed/dclm/v0_rep32_ft7percentile_fw2                                              752862224559              0.0046      3455192202\n",
      "s3://ai2-llm/preprocessed/mathcoder2-synthmath/ajibawa-2023/dolma2-tokenizer/                             782584798              1            782584798\n",
      "s3://ai2-llm/preprocessed/mathcoder2-synthmath/mathcoder2-synthmath/filtered-math/dolma2-tokenizer/      3087662497              1           3087662497\n"
     ]
    },
    {
     "name": "stderr",
     "output_type": "stream",
     "text": [
      "\n"
     ]
    }
   ],
   "source": [
    "MATHCODER_SYNTHETIC = ['s3://ai2-llm/preprocessed/mathcoder2-synthmath/ajibawa-2023/dolma2-tokenizer/', 's3://ai2-llm/preprocessed/mathcoder2-synthmath/mathcoder2-synthmath/filtered-math/dolma2-tokenizer/']\n",
    "MATHCODER_SYNTHETIC_YAML = 'configs/microannealing/peteish7-weka-microanneal-from928646_mathcoder-synthetic.yaml'\n",
    "mcm.add_paths(MATHCODER_SYNTHETIC + [(DCLM_SOURCE, 0.004153308708)], MATHCODER_SYNTHETIC_YAML)\n",
    "mcm.examine_config(MATHCODER_SYNTHETIC_YAML)\n"
   ]
  },
  {
   "cell_type": "code",
   "execution_count": 6,
   "id": "13e8cda3-c6fb-47a2-87aa-40b19337abd7",
   "metadata": {},
   "outputs": [
    {
     "name": "stdout",
     "output_type": "stream",
     "text": [
      "Getting tokens per input file...\n"
     ]
    },
    {
     "name": "stderr",
     "output_type": "stream",
     "text": [
      "100%|████████████████████████████████████████████████████████████████████████████████████████████████████████████████████████████████████████████████████████████████████████████████████████████████████████████████| 48/48 [00:01<00:00, 34.50it/s]\n"
     ]
    },
    {
     "name": "stdout",
     "output_type": "stream",
     "text": [
      "Grouping output files into groups...\n",
      "Getting total group sizes...\n"
     ]
    },
    {
     "name": "stderr",
     "output_type": "stream",
     "text": [
      "100%|██████████████████████████████████████████████████████████████████████████████████████████████████████████████████████████████████████████████████████████████████████████████████████████████████████████████████| 2/2 [00:01<00:00,  1.07it/s]"
     ]
    },
    {
     "name": "stdout",
     "output_type": "stream",
     "text": [
      "TOTAL_TOKENS {'s3://ai2-llm/preprocessed/dclm/v0_rep32_ft7percentile_fw2': 752862224559, 's3://ai2-llm/preprocessed/owm-filtered-math/automathtext/': 19855844155}\n",
      "Put this in your spreadsheet!\n",
      "paths                                                        total_tokens    percentage taken    tokens taken\n",
      "---------------------------------------------------------  --------------  ------------------  --------------\n",
      "s3://ai2-llm/preprocessed/dclm/v0_rep32_ft7percentile_fw2    752862224559              0.0081      6074107730\n",
      "s3://ai2-llm/preprocessed/owm-filtered-math/automathtext/     19855844155              0.2632      5225345480\n"
     ]
    },
    {
     "name": "stderr",
     "output_type": "stream",
     "text": [
      "\n"
     ]
    }
   ],
   "source": [
    "AUTOMATHTEXT = [('s3://ai2-llm/preprocessed/owm-filtered-math/automathtext/', .2518)]\n",
    "AUTOMATHTEXT_YAML = 'configs/microannealing/peteish7-weka-microanneal-from928646_automathtext.yaml'\n",
    "mcm.add_paths(AUTOMATHTEXT + [(DCLM_SOURCE, 0.008)], AUTOMATHTEXT_YAML)\n",
    "mcm.examine_config(AUTOMATHTEXT_YAML)\n"
   ]
  },
  {
   "cell_type": "code",
   "execution_count": 7,
   "id": "a45b7fc0-9db8-4199-b16d-eecd486ecd48",
   "metadata": {},
   "outputs": [
    {
     "name": "stdout",
     "output_type": "stream",
     "text": [
      "Getting tokens per input file...\n"
     ]
    },
    {
     "name": "stderr",
     "output_type": "stream",
     "text": [
      "100%|████████████████████████████████████████████████████████████████████████████████████████████████████████████████████████████████████████████████████████████████████████████████████████████████████████████████| 25/25 [00:00<00:00, 28.73it/s]\n"
     ]
    },
    {
     "name": "stdout",
     "output_type": "stream",
     "text": [
      "Grouping output files into groups...\n",
      "Getting total group sizes...\n"
     ]
    },
    {
     "name": "stderr",
     "output_type": "stream",
     "text": [
      "100%|██████████████████████████████████████████████████████████████████████████████████████████████████████████████████████████████████████████████████████████████████████████████████████████████████████████████████| 2/2 [00:01<00:00,  1.16it/s]"
     ]
    },
    {
     "name": "stdout",
     "output_type": "stream",
     "text": [
      "TOTAL_TOKENS {'s3://ai2-llm/preprocessed/dclm/v0_rep32_ft7percentile_fw2': 752862224559, 's3://ai2-llm/preprocessed/owm-filtered-math/open-web-math/': 4795776628}\n",
      "Put this in your spreadsheet!\n",
      "paths                                                         total_tokens    percentage taken    tokens taken\n",
      "----------------------------------------------------------  --------------  ------------------  --------------\n",
      "s3://ai2-llm/preprocessed/dclm/v0_rep32_ft7percentile_fw2     752862224559              0.0061      4583180504\n",
      "s3://ai2-llm/preprocessed/owm-filtered-math/open-web-math/      4795776628              1           4795776628\n"
     ]
    },
    {
     "name": "stderr",
     "output_type": "stream",
     "text": [
      "\n"
     ]
    }
   ],
   "source": [
    "OWM = ['s3://ai2-llm/preprocessed/owm-filtered-math/open-web-math/']\n",
    "OWM_YAML = 'configs/microannealing/peteish7-weka-microanneal-from928646_owm.yaml'\n",
    "mcm.add_paths(OWM + [(DCLM_SOURCE, 0.006)], OWM_YAML)\n",
    "mcm.examine_config(OWM_YAML)\n"
   ]
  },
  {
   "cell_type": "code",
   "execution_count": 8,
   "id": "c4b54bc3-faa7-4b63-85ce-acc4a1ce3116",
   "metadata": {},
   "outputs": [
    {
     "name": "stdout",
     "output_type": "stream",
     "text": [
      "Getting tokens per input file...\n"
     ]
    },
    {
     "name": "stderr",
     "output_type": "stream",
     "text": [
      "100%|████████████████████████████████████████████████████████████████████████████████████████████████████████████████████████████████████████████████████████████████████████████████████████████████████████████████| 63/63 [00:01<00:00, 33.47it/s]\n"
     ]
    },
    {
     "name": "stdout",
     "output_type": "stream",
     "text": [
      "Grouping output files into groups...\n",
      "Getting total group sizes...\n"
     ]
    },
    {
     "name": "stderr",
     "output_type": "stream",
     "text": [
      "100%|██████████████████████████████████████████████████████████████████████████████████████████████████████████████████████████████████████████████████████████████████████████████████████████████████████████████████| 2/2 [00:01<00:00,  1.13it/s]"
     ]
    },
    {
     "name": "stdout",
     "output_type": "stream",
     "text": [
      "TOTAL_TOKENS {'s3://ai2-llm/preprocessed/owm-filtered-math/mathpile-commercial/': 7503864507, 's3://ai2-llm/preprocessed/dclm/v0_rep32_ft7percentile_fw2': 752862224559}\n",
      "Put this in your spreadsheet!\n",
      "paths                                                               total_tokens    percentage taken    tokens taken\n",
      "----------------------------------------------------------------  --------------  ------------------  --------------\n",
      "s3://ai2-llm/preprocessed/dclm/v0_rep32_ft7percentile_fw2           752862224559              0.006       4518818784\n",
      "s3://ai2-llm/preprocessed/owm-filtered-math/mathpile-commercial/      7503864507              0.6922      5194449810\n"
     ]
    },
    {
     "name": "stderr",
     "output_type": "stream",
     "text": [
      "\n"
     ]
    }
   ],
   "source": [
    "MATHPILE = [('s3://ai2-llm/preprocessed/owm-filtered-math/mathpile-commercial/', 0.66)]\n",
    "MATHPILE_YAML = 'configs/microannealing/peteish7-weka-microanneal-from928646_mathpile.yaml'\n",
    "mcm.add_paths(MATHPILE + [(DCLM_SOURCE, 0.006)], MATHPILE_YAML)\n",
    "mcm.examine_config(MATHPILE_YAML)\n"
   ]
  },
  {
   "cell_type": "code",
   "execution_count": 12,
   "id": "434bed23-393d-46e2-8291-9cd37e8cbae9",
   "metadata": {},
   "outputs": [
    {
     "name": "stdout",
     "output_type": "stream",
     "text": [
      "Getting tokens per input file...\n"
     ]
    },
    {
     "name": "stderr",
     "output_type": "stream",
     "text": [
      "100%|████████████████████████████████████████████████████████████████████████████████████████████████████████████████████████████████████████████████████████████████████████████████████████████████████████████████| 14/14 [00:00<00:00, 25.46it/s]\n"
     ]
    },
    {
     "name": "stdout",
     "output_type": "stream",
     "text": [
      "Grouping output files into groups...\n",
      "Getting total group sizes...\n"
     ]
    },
    {
     "name": "stderr",
     "output_type": "stream",
     "text": [
      "100%|██████████████████████████████████████████████████████████████████████████████████████████████████████████████████████████████████████████████████████████████████████████████████████████████████████████████████| 1/1 [00:01<00:00,  1.48s/it]"
     ]
    },
    {
     "name": "stdout",
     "output_type": "stream",
     "text": [
      "TOTAL_TOKENS {'s3://ai2-llm/preprocessed/dclm/v0_rep32_ft7percentile_fw2': 752862224559}\n",
      "Put this in your spreadsheet!\n",
      "paths                                                        total_tokens    percentage taken    tokens taken\n",
      "---------------------------------------------------------  --------------  ------------------  --------------\n",
      "s3://ai2-llm/preprocessed/dclm/v0_rep32_ft7percentile_fw2    752862224559              0.0071      5316421402\n"
     ]
    },
    {
     "name": "stderr",
     "output_type": "stream",
     "text": [
      "\n"
     ]
    }
   ],
   "source": [
    "#NONMATH FORGETTING\n",
    "NONMATH_YAML =  'configs/microannealing/peteish7-weka-microanneal-fromMegaMath1.1-5000_nonmath.yaml'\n",
    "mcm.add_paths([(DCLM_SOURCE, 0.007)], NONMATH_YAML, 'megamath5000')\n",
    "mcm.examine_config(NONMATH_YAML)"
   ]
  },
  {
   "cell_type": "code",
   "execution_count": 17,
   "id": "a6627b9e-c539-4351-9e63-922bb13e78f4",
   "metadata": {},
   "outputs": [
    {
     "name": "stdout",
     "output_type": "stream",
     "text": [
      "Getting tokens per input file...\n"
     ]
    },
    {
     "name": "stderr",
     "output_type": "stream",
     "text": [
      "100%|████████████████████████████████████████████████████████████████████████████████████████████████████████████████████████████████████████████████████████████████████████████████████████████████████████████████| 96/96 [00:02<00:00, 32.08it/s]\n"
     ]
    },
    {
     "name": "stdout",
     "output_type": "stream",
     "text": [
      "Grouping output files into groups...\n",
      "Getting total group sizes...\n"
     ]
    },
    {
     "name": "stderr",
     "output_type": "stream",
     "text": [
      "100%|██████████████████████████████████████████████████████████████████████████████████████████████████████████████████████████████████████████████████████████████████████████████████████████████████████████████████| 2/2 [00:02<00:00,  1.02s/it]"
     ]
    },
    {
     "name": "stdout",
     "output_type": "stream",
     "text": [
      "TOTAL_TOKENS {'s3://ai2-llm/preprocessed/dclm/v0_rep32_ft7percentile_fw2': 752862224559, 's3://ai2-llm/preprocessed/tinyGSM/inline_comments/dolma2-tokenizer/': 1652007201}\n",
      "Put this in your spreadsheet!\n",
      "paths                                                                  total_tokens    percentage taken    tokens taken\n",
      "-------------------------------------------------------------------  --------------  ------------------  --------------\n",
      "s3://ai2-llm/preprocessed/dclm/v0_rep32_ft7percentile_fw2              752862224559               0.002      1515901039\n",
      "s3://ai2-llm/preprocessed/tinyGSM/inline_comments/dolma2-tokenizer/      1652007201               1          1652007201\n"
     ]
    },
    {
     "name": "stderr",
     "output_type": "stream",
     "text": [
      "\n"
     ]
    }
   ],
   "source": [
    "# TinyGSM INLINE COMMENTS\n",
    "INLINE = ['s3://ai2-llm/preprocessed/tinyGSM/inline_comments/dolma2-tokenizer/']\n",
    "INLINE_YAML = 'configs/microannealing/peteish7-weka-microanneal-from928646_tiny-gsm-inline.yaml'\n",
    "mcm.add_paths(INLINE + [(DCLM_SOURCE, 0.002)], INLINE_YAML)\n",
    "mcm.examine_config(INLINE_YAML)"
   ]
  },
  {
   "cell_type": "code",
   "execution_count": 18,
   "id": "fc44665b-650f-4637-b528-b9f15cc91d61",
   "metadata": {},
   "outputs": [
    {
     "name": "stdout",
     "output_type": "stream",
     "text": [
      "Getting tokens per input file...\n"
     ]
    },
    {
     "name": "stderr",
     "output_type": "stream",
     "text": [
      "100%|████████████████████████████████████████████████████████████████████████████████████████████████████████████████████████████████████████████████████████████████████████████████████████████████████████████████| 20/20 [00:00<00:00, 33.99it/s]\n"
     ]
    },
    {
     "name": "stdout",
     "output_type": "stream",
     "text": [
      "Grouping output files into groups...\n",
      "Getting total group sizes...\n"
     ]
    },
    {
     "name": "stderr",
     "output_type": "stream",
     "text": [
      "100%|██████████████████████████████████████████████████████████████████████████████████████████████████████████████████████████████████████████████████████████████████████████████████████████████████████████████████| 2/2 [00:01<00:00,  1.10it/s]"
     ]
    },
    {
     "name": "stdout",
     "output_type": "stream",
     "text": [
      "TOTAL_TOKENS {'s3://ai2-llm/preprocessed/stackexchange/v1_dedupe/allenai/dolma2-tokenizer/': 1263945550, 's3://ai2-llm/preprocessed/dclm/v0_rep32_ft7percentile_fw2': 752862224559}\n",
      "Put this in your spreadsheet!\n",
      "paths                                                                          total_tokens    percentage taken    tokens taken\n",
      "---------------------------------------------------------------------------  --------------  ------------------  --------------\n",
      "s3://ai2-llm/preprocessed/dclm/v0_rep32_ft7percentile_fw2                      752862224559               0.002      1483745895\n",
      "s3://ai2-llm/preprocessed/stackexchange/v1_dedupe/allenai/dolma2-tokenizer/      1263945550               1          1263945550\n"
     ]
    },
    {
     "name": "stderr",
     "output_type": "stream",
     "text": [
      "\n"
     ]
    }
   ],
   "source": [
    "# StackOverflow\n",
    "SE = ['s3://ai2-llm/preprocessed/stackexchange/v1_dedupe/allenai/dolma2-tokenizer/']\n",
    "SE_YAML = 'configs/microannealing/peteish7-weka-microanneal-from928646_se.yaml'\n",
    "mcm.add_paths(SE + [(DCLM_SOURCE, 0.0015)], SE_YAML)\n",
    "mcm.examine_config(SE_YAML)"
   ]
  },
  {
   "cell_type": "code",
   "execution_count": 21,
   "id": "93d39e4a-7716-418a-b5a4-6a1ec1bd53ee",
   "metadata": {},
   "outputs": [
    {
     "name": "stdout",
     "output_type": "stream",
     "text": [
      "Getting tokens per input file...\n"
     ]
    },
    {
     "name": "stderr",
     "output_type": "stream",
     "text": [
      "100%|████████████████████████████████████████████████████████████████████████████████████████████████████████████████████████████████████████████████████████████████████████████████████████████████████████████████| 17/17 [00:00<00:00, 25.57it/s]\n"
     ]
    },
    {
     "name": "stdout",
     "output_type": "stream",
     "text": [
      "Grouping output files into groups...\n",
      "Getting total group sizes...\n"
     ]
    },
    {
     "name": "stderr",
     "output_type": "stream",
     "text": [
      "100%|██████████████████████████████████████████████████████████████████████████████████████████████████████████████████████████████████████████████████████████████████████████████████████████████████████████████████| 2/2 [00:01<00:00,  1.17it/s]"
     ]
    },
    {
     "name": "stdout",
     "output_type": "stream",
     "text": [
      "TOTAL_TOKENS {'s3://ai2-llm/preprocessed/dclm/v0_rep32_ft7percentile_fw2': 752862224559, 's3://ai2-llm/preprocessed/pes2o/allenai/dolma2-tokenizer/': 58552461187}\n",
      "Put this in your spreadsheet!\n",
      "paths                                                        total_tokens    percentage taken    tokens taken\n",
      "---------------------------------------------------------  --------------  ------------------  --------------\n",
      "s3://ai2-llm/preprocessed/dclm/v0_rep32_ft7percentile_fw2    752862224559              0.0075      5679588787\n",
      "s3://ai2-llm/preprocessed/pes2o/allenai/dolma2-tokenizer/     58552461187              0.1027      6014087341\n"
     ]
    },
    {
     "name": "stderr",
     "output_type": "stream",
     "text": [
      "\n"
     ]
    }
   ],
   "source": [
    "# StackOverflow\n",
    "PESTO = [('s3://ai2-llm/preprocessed/pes2o/allenai/dolma2-tokenizer/', 0.085)]\n",
    "PESTO_YAML = 'configs/microannealing/peteish7-weka-microanneal-from928646_pes2o.yaml'\n",
    "mcm.add_paths(PESTO + [(DCLM_SOURCE, 0.007)], PESTO_YAML)\n",
    "mcm.examine_config(PESTO_YAML)"
   ]
  },
  {
   "cell_type": "code",
   "execution_count": 27,
   "id": "5412d3f2-c0a4-40d6-85a9-7101021c2207",
   "metadata": {},
   "outputs": [
    {
     "name": "stdout",
     "output_type": "stream",
     "text": [
      "Getting tokens per input file...\n"
     ]
    },
    {
     "name": "stderr",
     "output_type": "stream",
     "text": [
      "100%|██████████████████████████████████████████████████████████████████████████████████████████████████████████████████████████████████████████████████████████████████████████████████████████████████████████████| 163/163 [00:04<00:00, 37.08it/s]\n"
     ]
    },
    {
     "name": "stdout",
     "output_type": "stream",
     "text": [
      "Grouping output files into groups...\n",
      "Getting total group sizes...\n"
     ]
    },
    {
     "name": "stderr",
     "output_type": "stream",
     "text": [
      "100%|████████████████████████████████████████████████████████████████████████████████████████████████████████████████████████████████████████████████████████████████████████████████████████████████████████████████| 10/10 [00:04<00:00,  2.45it/s]"
     ]
    },
    {
     "name": "stdout",
     "output_type": "stream",
     "text": [
      "TOTAL_TOKENS {'s3://ai2-llm/preprocessed/personahub_math_v2_79975/': 84520483, 's3://ai2-llm/preprocessed/gsm8k-synth/resample_v1_6x/dolma2-tokenizer/': 1077750, 's3://ai2-llm/preprocessed/basic_math_mj/multiadd/dolma2-tokenizer/': 2207217, 's3://ai2-llm/preprocessed/basic_math_mj/dolma2-tokenizer/': 9026573, 's3://ai2-llm/preprocessed/owm-filtered-math/codesearchnet/': 1778772, 's3://ai2-llm/preprocessed/dclm/v0_rep32_ft7percentile_fw2': 752862224559, 's3://ai2-llm/preprocessed/gsm_MIND/clean_stop/dolma2-tokenizer/': 17059477, 's3://ai2-llm/preprocessed/owm-filtered-math/metamath/': 84219596, 's3://ai2-llm/preprocessed/gsm8k/v0_main_train/allenai/dolma2-tokenizer/': 1227776, 's3://ai2-llm/preprocessed/gsm8k/v0_socratic_train/allenai/dolma2-tokenizer/': 1514654}\n",
      "Put this in your spreadsheet!\n",
      "paths                                                                          total_tokens    percentage taken    tokens taken\n",
      "---------------------------------------------------------------------------  --------------  ------------------  --------------\n",
      "s3://ai2-llm/preprocessed/basic_math_mj/dolma2-tokenizer/                           9026573              1              9026573\n",
      "s3://ai2-llm/preprocessed/basic_math_mj/multiadd/dolma2-tokenizer/                  2207217              1              2207217\n",
      "s3://ai2-llm/preprocessed/dclm/v0_rep32_ft7percentile_fw2                      752862224559              0.0005       374427447\n",
      "s3://ai2-llm/preprocessed/gsm8k-synth/resample_v1_6x/dolma2-tokenizer/              1077750              1              1077750\n",
      "s3://ai2-llm/preprocessed/gsm8k/v0_main_train/allenai/dolma2-tokenizer/             1227776              1              1227776\n",
      "s3://ai2-llm/preprocessed/gsm8k/v0_socratic_train/allenai/dolma2-tokenizer/         1514654              1              1514654\n",
      "s3://ai2-llm/preprocessed/gsm_MIND/clean_stop/dolma2-tokenizer/                    17059477              1             17059477\n",
      "s3://ai2-llm/preprocessed/owm-filtered-math/codesearchnet/                          1778772              1              1778772\n",
      "s3://ai2-llm/preprocessed/owm-filtered-math/metamath/                              84219596              1             84219596\n",
      "s3://ai2-llm/preprocessed/personahub_math_v2_79975/                                84520483              1             84520483\n"
     ]
    },
    {
     "name": "stderr",
     "output_type": "stream",
     "text": [
      "\n"
     ]
    }
   ],
   "source": [
    "SMALL_MULTIADD_SOURCES = ['s3://ai2-llm/preprocessed/personahub_math_v2_79975/', \n",
    "                 's3://ai2-llm/preprocessed/basic_math_mj/dolma2-tokenizer/',\n",
    "                 's3://ai2-llm/preprocessed/gsm8k-synth/resample_v1_6x/dolma2-tokenizer/',\n",
    "                 's3://ai2-llm/preprocessed/gsm_MIND/clean_stop/dolma2-tokenizer/',\n",
    "                 's3://ai2-llm/preprocessed/gsm8k/v0_main_train/allenai/dolma2-tokenizer/',\n",
    "                  's3://ai2-llm/preprocessed/gsm8k/v0_socratic_train/allenai/dolma2-tokenizer/',\n",
    "                 's3://ai2-llm/preprocessed/owm-filtered-math/metamath/',\n",
    "                 's3://ai2-llm/preprocessed/owm-filtered-math/codesearchnet/',\n",
    "                 's3://ai2-llm/preprocessed/basic_math_mj/multiadd/dolma2-tokenizer/']\n",
    "\n",
    "SMALL_MULTIADD_YAML = 'configs/microannealing/peteish7-weka-microanneal-from928646_small-sources-multiadd.yaml'\n",
    "mcm.add_paths(SMALL_MULTIADD_SOURCES + [(DCLM_SOURCE, 0.000266)], SMALL_MULTIADD_YAML)\n",
    "mcm.examine_config(SMALL_MULTIADD_YAML)\n"
   ]
  },
  {
   "cell_type": "code",
   "execution_count": 26,
   "id": "8aa26adc-6be1-41a1-8956-b7fb974b5ab9",
   "metadata": {},
   "outputs": [
    {
     "name": "stdout",
     "output_type": "stream",
     "text": [
      "Getting tokens per input file...\n"
     ]
    },
    {
     "name": "stderr",
     "output_type": "stream",
     "text": [
      "100%|██████████████████████████████████████████████████████████████████████████████████████████████████████████████████████████████████████████████████████████████████████████████████████████████████████████████| 375/375 [00:10<00:00, 37.19it/s]\n"
     ]
    },
    {
     "name": "stdout",
     "output_type": "stream",
     "text": [
      "Grouping output files into groups...\n",
      "Getting total group sizes...\n"
     ]
    },
    {
     "name": "stderr",
     "output_type": "stream",
     "text": [
      "100%|████████████████████████████████████████████████████████████████████████████████████████████████████████████████████████████████████████████████████████████████████████████████████████████████████████████████| 13/13 [00:05<00:00,  2.45it/s]"
     ]
    },
    {
     "name": "stdout",
     "output_type": "stream",
     "text": [
      "TOTAL_TOKENS {'s3://ai2-llm/preprocessed/mathcoder2-synthmath/mathcoder2-synthmath/filtered-math/dolma2-tokenizer/': 3087662497, 's3://ai2-llm/preprocessed/personahub_math_v2_79975/': 84520483, 's3://ai2-llm/preprocessed/gsm8k-synth/resample_v1_6x/dolma2-tokenizer/': 1077750, 's3://ai2-llm/preprocessed/basic_math_mj/multiadd/dolma2-tokenizer/': 2207217, 's3://ai2-llm/preprocessed/mathcoder2-synthmath/ajibawa-2023/dolma2-tokenizer/': 782584798, 's3://ai2-llm/preprocessed/tinyGSM/mind/dolma2-tokenizer/': 3064742156, 's3://ai2-llm/preprocessed/basic_math_mj/dolma2-tokenizer/': 9026573, 's3://ai2-llm/preprocessed/owm-filtered-math/codesearchnet/': 1778772, 's3://ai2-llm/preprocessed/dclm/v0_rep32_ft7percentile_fw2': 752862224559, 's3://ai2-llm/preprocessed/gsm_MIND/clean_stop/dolma2-tokenizer/': 17059477, 's3://ai2-llm/preprocessed/owm-filtered-math/metamath/': 84219596, 's3://ai2-llm/preprocessed/gsm8k/v0_main_train/allenai/dolma2-tokenizer/': 1227776, 's3://ai2-llm/preprocessed/gsm8k/v0_socratic_train/allenai/dolma2-tokenizer/': 1514654}\n",
      "Put this in your spreadsheet!\n",
      "paths                                                                                                  total_tokens    percentage taken    tokens taken\n",
      "---------------------------------------------------------------------------------------------------  --------------  ------------------  --------------\n",
      "s3://ai2-llm/preprocessed/basic_math_mj/dolma2-tokenizer/                                                   9026573              1              9026573\n",
      "s3://ai2-llm/preprocessed/basic_math_mj/multiadd/dolma2-tokenizer/                                          2207217              1              2207217\n",
      "s3://ai2-llm/preprocessed/dclm/v0_rep32_ft7percentile_fw2                                              752862224559              0.0096      7248206933\n",
      "s3://ai2-llm/preprocessed/gsm8k-synth/resample_v1_6x/dolma2-tokenizer/                                      1077750              1              1077750\n",
      "s3://ai2-llm/preprocessed/gsm8k/v0_main_train/allenai/dolma2-tokenizer/                                     1227776              1              1227776\n",
      "s3://ai2-llm/preprocessed/gsm8k/v0_socratic_train/allenai/dolma2-tokenizer/                                 1514654              1              1514654\n",
      "s3://ai2-llm/preprocessed/gsm_MIND/clean_stop/dolma2-tokenizer/                                            17059477              1             17059477\n",
      "s3://ai2-llm/preprocessed/mathcoder2-synthmath/ajibawa-2023/dolma2-tokenizer/                             782584798              1            782584798\n",
      "s3://ai2-llm/preprocessed/mathcoder2-synthmath/mathcoder2-synthmath/filtered-math/dolma2-tokenizer/      3087662497              1           3087662497\n",
      "s3://ai2-llm/preprocessed/owm-filtered-math/codesearchnet/                                                  1778772              1              1778772\n",
      "s3://ai2-llm/preprocessed/owm-filtered-math/metamath/                                                      84219596              1             84219596\n",
      "s3://ai2-llm/preprocessed/personahub_math_v2_79975/                                                        84520483              1             84520483\n",
      "s3://ai2-llm/preprocessed/tinyGSM/mind/dolma2-tokenizer/                                                 3064742156              1           3064742156\n"
     ]
    },
    {
     "name": "stderr",
     "output_type": "stream",
     "text": [
      "\n"
     ]
    }
   ],
   "source": [
    "BESTOF_V1_SOURCES = ['s3://ai2-llm/preprocessed/personahub_math_v2_79975/', \n",
    "                     's3://ai2-llm/preprocessed/basic_math_mj/dolma2-tokenizer/',\n",
    "                     's3://ai2-llm/preprocessed/gsm8k-synth/resample_v1_6x/dolma2-tokenizer/',\n",
    "                     's3://ai2-llm/preprocessed/gsm_MIND/clean_stop/dolma2-tokenizer/',\n",
    "                     's3://ai2-llm/preprocessed/gsm8k/v0_main_train/allenai/dolma2-tokenizer/',\n",
    "                     's3://ai2-llm/preprocessed/gsm8k/v0_socratic_train/allenai/dolma2-tokenizer/',\n",
    "                     's3://ai2-llm/preprocessed/owm-filtered-math/metamath/',\n",
    "                     's3://ai2-llm/preprocessed/owm-filtered-math/codesearchnet/',\n",
    "                     's3://ai2-llm/preprocessed/basic_math_mj/multiadd/dolma2-tokenizer/',\n",
    "                     's3://ai2-llm/preprocessed/mathcoder2-synthmath/ajibawa-2023/dolma2-tokenizer/', \n",
    "                     's3://ai2-llm/preprocessed/mathcoder2-synthmath/mathcoder2-synthmath/filtered-math/dolma2-tokenizer/',\n",
    "                     's3://ai2-llm/preprocessed/tinyGSM/mind/dolma2-tokenizer/']\n",
    "BESTOF_V1_YAML = 'configs/microannealing/peteish7-weka-microanneal-from928646_bestof-v1.yaml'\n",
    "mcm.add_paths(BESTOF_V1_SOURCES + [(DCLM_SOURCE, 0.0094)], BESTOF_V1_YAML)\n",
    "mcm.examine_config(BESTOF_V1_YAML)"
   ]
  },
  {
   "cell_type": "code",
   "execution_count": null,
   "id": "0e9907f4-de3d-4235-a3d9-4f681d791d55",
   "metadata": {},
   "outputs": [],
   "source": []
  },
  {
   "cell_type": "code",
   "execution_count": 39,
   "id": "7177aee1-3cdb-49b4-82c0-736505f90b8f",
   "metadata": {},
   "outputs": [
    {
     "name": "stdout",
     "output_type": "stream",
     "text": [
      "Getting tokens per input file...\n"
     ]
    },
    {
     "name": "stderr",
     "output_type": "stream",
     "text": [
      "100%|██████████████████████████████████████████████████████████████████████████████████████████████████████████████████████████████████████████████████████████████████████████████████████████████████████████████| 166/166 [00:04<00:00, 36.55it/s]\n"
     ]
    },
    {
     "name": "stdout",
     "output_type": "stream",
     "text": [
      "Grouping output files into groups...\n",
      "Getting total group sizes...\n"
     ]
    },
    {
     "name": "stderr",
     "output_type": "stream",
     "text": [
      "100%|████████████████████████████████████████████████████████████████████████████████████████████████████████████████████████████████████████████████████████████████████████████████████████████████████████████████| 10/10 [00:03<00:00,  2.57it/s]"
     ]
    },
    {
     "name": "stdout",
     "output_type": "stream",
     "text": [
      "TOTAL_TOKENS {'s3://ai2-llm/preprocessed/basic_math_mj/multiadd2/dolma2-tokenizer/': 2105381, 's3://ai2-llm/preprocessed/personahub_math_v2_79975/': 84520483, 's3://ai2-llm/preprocessed/gsm8k-synth/resample_v1_6x/dolma2-tokenizer/': 1077750, 's3://ai2-llm/preprocessed/basic_math_mj/dolma2-tokenizer/': 9026573, 's3://ai2-llm/preprocessed/owm-filtered-math/codesearchnet/': 1778772, 's3://ai2-llm/preprocessed/dclm/v0_rep32_ft7percentile_fw2': 752862224559, 's3://ai2-llm/preprocessed/gsm_MIND/clean_stop/dolma2-tokenizer/': 17059477, 's3://ai2-llm/preprocessed/owm-filtered-math/metamath/': 84219596, 's3://ai2-llm/preprocessed/gsm8k/v0_main_train/allenai/dolma2-tokenizer/': 1227776, 's3://ai2-llm/preprocessed/gsm8k/v0_socratic_train/allenai/dolma2-tokenizer/': 1514654}\n",
      "Put this in your spreadsheet!\n",
      "paths                                                                          total_tokens    percentage taken    tokens taken\n",
      "---------------------------------------------------------------------------  --------------  ------------------  --------------\n",
      "s3://ai2-llm/preprocessed/basic_math_mj/dolma2-tokenizer/                           9026573               1             9026573\n",
      "s3://ai2-llm/preprocessed/basic_math_mj/multiadd2/dolma2-tokenizer/                 2105381               1             2105381\n",
      "s3://ai2-llm/preprocessed/dclm/v0_rep32_ft7percentile_fw2                      752862224559               0.002      1522210686\n",
      "s3://ai2-llm/preprocessed/gsm8k-synth/resample_v1_6x/dolma2-tokenizer/              1077750               1             1077750\n",
      "s3://ai2-llm/preprocessed/gsm8k/v0_main_train/allenai/dolma2-tokenizer/             1227776               1             1227776\n",
      "s3://ai2-llm/preprocessed/gsm8k/v0_socratic_train/allenai/dolma2-tokenizer/         1514654               1             1514654\n",
      "s3://ai2-llm/preprocessed/gsm_MIND/clean_stop/dolma2-tokenizer/                    17059477               1            17059477\n",
      "s3://ai2-llm/preprocessed/owm-filtered-math/codesearchnet/                          1778772               1             1778772\n",
      "s3://ai2-llm/preprocessed/owm-filtered-math/metamath/                              84219596               1            84219596\n",
      "s3://ai2-llm/preprocessed/personahub_math_v2_79975/                                84520483               1            84520483\n"
     ]
    },
    {
     "name": "stderr",
     "output_type": "stream",
     "text": [
      "\n"
     ]
    }
   ],
   "source": [
    "SMALL_MULTIADD_SOURCES = ['s3://ai2-llm/preprocessed/personahub_math_v2_79975/', \n",
    "                 's3://ai2-llm/preprocessed/basic_math_mj/dolma2-tokenizer/',\n",
    "                 's3://ai2-llm/preprocessed/gsm8k-synth/resample_v1_6x/dolma2-tokenizer/',\n",
    "                 's3://ai2-llm/preprocessed/gsm_MIND/clean_stop/dolma2-tokenizer/',\n",
    "                 's3://ai2-llm/preprocessed/gsm8k/v0_main_train/allenai/dolma2-tokenizer/',\n",
    "                  's3://ai2-llm/preprocessed/gsm8k/v0_socratic_train/allenai/dolma2-tokenizer/',\n",
    "                 's3://ai2-llm/preprocessed/owm-filtered-math/metamath/',\n",
    "                 's3://ai2-llm/preprocessed/owm-filtered-math/codesearchnet/',\n",
    "                 's3://ai2-llm/preprocessed/basic_math_mj/multiadd2/dolma2-tokenizer/']\n",
    "\n",
    "SMALL_BIGDCLM_YAML = 'configs/microannealing/peteish7-weka-microanneal-from928646_small-sources-big-dclm.yaml'\n",
    "mcm.add_paths(SMALL_MULTIADD_SOURCES + [(DCLM_SOURCE, 0.0016)], SMALL_BIGDCLM_YAML)\n",
    "mcm.examine_config(SMALL_BIGDCLM_YAML)"
   ]
  },
  {
   "cell_type": "code",
   "execution_count": 38,
   "id": "a09d9fe6-58b9-46f9-bcba-60ad5d58a6b9",
   "metadata": {},
   "outputs": [
    {
     "data": {
      "text/plain": [
       "0.0011400000000000002"
      ]
     },
     "execution_count": 38,
     "metadata": {},
     "output_type": "execute_result"
    }
   ],
   "source": [
    "0.000266 * 4 / .84 * .90\n"
   ]
  },
  {
   "cell_type": "code",
   "execution_count": null,
   "id": "971d8bc6-9032-4578-8cce-dfd9dd77c644",
   "metadata": {},
   "outputs": [],
   "source": []
  },
  {
   "cell_type": "code",
   "execution_count": null,
   "id": "143bf91e",
   "metadata": {},
   "outputs": [],
   "source": [
    "REDDIT = ['s3://ai2-llm/preprocessed/reddit/dolma_raw/merged_versions/merged_qa/thread-mix-mmlu-topics/dolma2-tokenizer/']\n",
    "REDDIT_YAML = 'configs/microannealing/peteish7-weka-microanneal-from928646_reddit-v1.yaml'\n",
    "mcm.add_paths(REDDIT + [(DCLM_SOURCE, 0.0016)], REDDIT_YAML)\n",
    "mcm.examine_config(REDDIT_YAML)"
   ]
  }
 ],
 "metadata": {
  "kernelspec": {
   "display_name": "venv-olmo",
   "language": "python",
   "name": "python3"
  },
  "language_info": {
   "codemirror_mode": {
    "name": "ipython",
    "version": 3
   },
   "file_extension": ".py",
   "mimetype": "text/x-python",
   "name": "python",
   "nbconvert_exporter": "python",
   "pygments_lexer": "ipython3",
   "version": "3.11.5"
  }
 },
 "nbformat": 4,
 "nbformat_minor": 5
}
