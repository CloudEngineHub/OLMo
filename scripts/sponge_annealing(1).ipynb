{
 "cells": [
  {
   "cell_type": "code",
   "execution_count": 2,
   "id": "599ad01c-b005-4dc7-becd-2fe6b6248081",
   "metadata": {},
   "outputs": [],
   "source": [
    "import peteish7_config_maker as pcm\n",
    "import boto3\n",
    "from urllib.parse import urlparse\n",
    "import os\n",
    "from tqdm.auto import tqdm\n",
    "from pprint import pprint"
   ]
  },
  {
   "cell_type": "code",
   "execution_count": 4,
   "id": "8529dbf1-145e-4cea-82e9-367418aed2fd",
   "metadata": {},
   "outputs": [],
   "source": [
    "SPONGE_SOURCE = 's3://ai2-llm/preprocessed/learn2code/sponge-codeprose_424/allenai/dolma2-tokenizer'\n",
    "DCLM_SOURCE = 's3://ai2-llm/preprocessed/dclm/v0_rep32_ft7percentile_fw2/documents/allenai/dolma2-tokenizer/'"
   ]
  },
  {
   "cell_type": "code",
   "execution_count": 5,
   "id": "c948ec53-0e77-4573-a104-a00bbc5c4451",
   "metadata": {},
   "outputs": [
    {
     "name": "stdout",
     "output_type": "stream",
     "text": [
      "Getting tokens per input file...\n"
     ]
    },
    {
     "data": {
      "application/vnd.jupyter.widget-view+json": {
       "model_id": "4d09f92c375f4787b67732b648209a61",
       "version_major": 2,
       "version_minor": 0
      },
      "text/plain": [
       "  0%|          | 0/4925 [00:00<?, ?it/s]"
      ]
     },
     "metadata": {},
     "output_type": "display_data"
    },
    {
     "name": "stdout",
     "output_type": "stream",
     "text": [
      "Grouping output files into groups...\n",
      "Getting total group sizes...\n"
     ]
    },
    {
     "data": {
      "application/vnd.jupyter.widget-view+json": {
       "model_id": "4fdde6db012349efbe2b6f292a926ad4",
       "version_major": 2,
       "version_minor": 0
      },
      "text/plain": [
       "  0%|          | 0/1 [00:00<?, ?it/s]"
      ]
     },
     "metadata": {},
     "output_type": "display_data"
    },
    {
     "name": "stdout",
     "output_type": "stream",
     "text": [
      "Put this in your spreadsheet!\n",
      "paths                                                                                 total_tokens    percentage taken    tokens taken\n",
      "----------------------------------------------------------------------------------  --------------  ------------------  --------------\n",
      "s3://ai2-llm/preprocessed/learn2code/sponge-codeprose_424/allenai/dolma2-tokenizer     32026900163                   1     32026900163\n"
     ]
    }
   ],
   "source": [
    "# 1. SPONGE only experiment (14B tokens)\n",
    "sponge_file = 'peteish7-weka-anneal-from-928646-50B-sponge-27B.yaml'\n",
    "pcm.add_paths([SPONGE_SOURCE], sponge_file)\n",
    "pcm.examine_config(sponge_file)"
   ]
  },
  {
   "cell_type": "code",
   "execution_count": 10,
   "id": "dfc77bb2-b006-4626-82a3-4728fbb78c2e",
   "metadata": {},
   "outputs": [
    {
     "name": "stdout",
     "output_type": "stream",
     "text": [
      "Getting tokens per input file...\n"
     ]
    },
    {
     "data": {
      "application/vnd.jupyter.widget-view+json": {
       "model_id": "90d9e19655c943d6aca51337a7023b3f",
       "version_major": 2,
       "version_minor": 0
      },
      "text/plain": [
       "  0%|          | 0/86 [00:00<?, ?it/s]"
      ]
     },
     "metadata": {},
     "output_type": "display_data"
    },
    {
     "name": "stdout",
     "output_type": "stream",
     "text": [
      "Grouping output files into groups...\n",
      "Getting total group sizes...\n"
     ]
    },
    {
     "data": {
      "application/vnd.jupyter.widget-view+json": {
       "model_id": "c4d66b1f0a7745b29a1b332a17c2ce2e",
       "version_major": 2,
       "version_minor": 0
      },
      "text/plain": [
       "  0%|          | 0/1 [00:00<?, ?it/s]"
      ]
     },
     "metadata": {},
     "output_type": "display_data"
    },
    {
     "name": "stdout",
     "output_type": "stream",
     "text": [
      "Put this in your spreadsheet!\n",
      "paths                                                                                            total_tokens    percentage taken    tokens taken\n",
      "---------------------------------------------------------------------------------------------  --------------  ------------------  --------------\n",
      "s3://ai2-llm/preprocessed/dclm/v0_rep32_ft7percentile_fw2/documents/allenai/dolma2-tokenizer/    752862224559               0.043     32384187431\n"
     ]
    }
   ],
   "source": [
    "#DCLM only experiment\n",
    "sponge_file = 'peteish7-weka-anneal-from-928646-50B-DCLM-highqual-27B.yaml'\n",
    "pcm.add_paths([(DCLM_SOURCE,0.0425)], sponge_file)\n",
    "pcm.examine_config(sponge_file)"
   ]
  },
  {
   "cell_type": "code",
   "execution_count": 11,
   "id": "b3dca91b-78f6-4304-b6a2-5332377c8d6e",
   "metadata": {},
   "outputs": [
    {
     "name": "stdout",
     "output_type": "stream",
     "text": [
      "Getting tokens per input file...\n"
     ]
    },
    {
     "data": {
      "application/vnd.jupyter.widget-view+json": {
       "model_id": "380602dc98d844d29146322edd764f2f",
       "version_major": 2,
       "version_minor": 0
      },
      "text/plain": [
       "  0%|          | 0/2494 [00:00<?, ?it/s]"
      ]
     },
     "metadata": {},
     "output_type": "display_data"
    },
    {
     "name": "stdout",
     "output_type": "stream",
     "text": [
      "Grouping output files into groups...\n",
      "Getting total group sizes...\n"
     ]
    },
    {
     "data": {
      "application/vnd.jupyter.widget-view+json": {
       "model_id": "62f3b6445dc14b13a2e2bf22b0bb4111",
       "version_major": 2,
       "version_minor": 0
      },
      "text/plain": [
       "  0%|          | 0/2 [00:00<?, ?it/s]"
      ]
     },
     "metadata": {},
     "output_type": "display_data"
    },
    {
     "name": "stdout",
     "output_type": "stream",
     "text": [
      "Put this in your spreadsheet!\n",
      "paths                                                                                            total_tokens    percentage taken    tokens taken\n",
      "---------------------------------------------------------------------------------------------  --------------  ------------------  --------------\n",
      "s3://ai2-llm/preprocessed/dclm/v0_rep32_ft7percentile_fw2/documents/allenai/dolma2-tokenizer/    752862224559              0.0214     16102944238\n",
      "s3://ai2-llm/preprocessed/learn2code/sponge-codeprose_424/allenai/dolma2-tokenizer                32026900163              0.5        16013988515\n"
     ]
    }
   ],
   "source": [
    "sponge_file = 'peteish7-weka-anneal-from-928646-50B-sponge-dclm-50-50-27B.yaml'\n",
    "pcm.add_paths([(SPONGE_SOURCE, 0.5)] + [(DCLM_SOURCE,0.02125)], sponge_file)\n",
    "# pcm.add_paths([SPONGE_SOURCE], sponge_file)\n",
    "pcm.examine_config(sponge_file)"
   ]
  },
  {
   "cell_type": "code",
   "execution_count": 12,
   "id": "e2ce1baf-30d2-4daa-8faf-73bd745c6fe9",
   "metadata": {},
   "outputs": [
    {
     "name": "stdout",
     "output_type": "stream",
     "text": [
      "/Users/davidg/Workspace/OLMo/scripts\n",
      "peteish7-weka-anneal-from-928646-50B-DCLM-highqual-27B.yaml\n",
      "peteish7-weka-anneal-from-928646-50B-sponge-27B.yaml\n",
      "peteish7-weka-anneal-from-928646-50B-sponge-dclm-50-50-27B.yaml\n"
     ]
    }
   ],
   "source": [
    "!pwd  # See current directory\n",
    "!ls *.yaml  # List the yaml files"
   ]
  },
  {
   "cell_type": "code",
   "execution_count": null,
   "id": "3dd7d624-80a3-4c16-91b1-688ff8edd962",
   "metadata": {},
   "outputs": [],
   "source": []
  }
 ],
 "metadata": {
  "kernelspec": {
   "display_name": "Python 3 (ipykernel)",
   "language": "python",
   "name": "python3"
  },
  "language_info": {
   "codemirror_mode": {
    "name": "ipython",
    "version": 3
   },
   "file_extension": ".py",
   "mimetype": "text/x-python",
   "name": "python",
   "nbconvert_exporter": "python",
   "pygments_lexer": "ipython3",
   "version": "3.9.13"
  }
 },
 "nbformat": 4,
 "nbformat_minor": 5
}
