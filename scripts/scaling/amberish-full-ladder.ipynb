{
 "cells": [
  {
   "cell_type": "markdown",
   "id": "e9f36dd4-c4a0-4f6f-b0c6-66db671bec5b",
   "metadata": {},
   "source": [
    "### 1. Download W&B results "
   ]
  },
  {
   "cell_type": "code",
   "execution_count": 1,
   "id": "cffa4c7a-d2c0-40ff-9ca2-bedcfae0b5fc",
   "metadata": {},
   "outputs": [
    {
     "name": "stderr",
     "output_type": "stream",
     "text": [
      "/Users/akshitab/virtuals/olmo/lib/python3.10/site-packages/tqdm/auto.py:21: TqdmWarning: IProgress not found. Please update jupyter and ipywidgets. See https://ipywidgets.readthedocs.io/en/stable/user_install.html\n",
      "  from .autonotebook import tqdm as notebook_tqdm\n"
     ]
    }
   ],
   "source": [
    "from olmo.scaling.scaling_laws.download_wandb_logs import main as download_wb\n",
    "from olmo.scaling.scaling_laws.utils import downstream_bpb\n",
    "from argparse import Namespace\n",
    "import os"
   ]
  },
  {
   "cell_type": "code",
   "execution_count": 2,
   "id": "7cdb9a06-2745-4f2f-aee1-873286a65772",
   "metadata": {},
   "outputs": [],
   "source": [
    "WANDB_RESULTS = \"../../wandb\"\n",
    "FIGURES = \"../../figures\""
   ]
  },
  {
   "cell_type": "code",
   "execution_count": 4,
   "id": "30f792c6-18bb-4712-8b2a-fa54916a8373",
   "metadata": {},
   "outputs": [
    {
     "name": "stdout",
     "output_type": "stream",
     "text": [
      "Found 4 matching runs in ai2-llm/olmo-ladder\n",
      "Downloading the data from the following wandb runs:\n",
      " <Run ai2-llm/olmo-ladder/a8le2o3r (finished)>\n",
      "<Run ai2-llm/olmo-ladder/0lzclg67 (crashed)>\n",
      "<Run ai2-llm/olmo-ladder/ctl2f4yq (crashed)>\n",
      "<Run ai2-llm/olmo-ladder/h1spyebp (crashed)>\n"
     ]
    },
    {
     "name": "stderr",
     "output_type": "stream",
     "text": [
      "  0%|                                                                                                                                                 | 0/4 [00:00<?, ?it/s]"
     ]
    },
    {
     "name": "stdout",
     "output_type": "stream",
     "text": [
      "Processing amberish-bpb-150M-1xC\n"
     ]
    },
    {
     "name": "stderr",
     "output_type": "stream",
     "text": [
      " 25%|██████████████████████████████████▎                                                                                                      | 1/4 [00:00<00:01,  2.95it/s]"
     ]
    },
    {
     "name": "stdout",
     "output_type": "stream",
     "text": [
      "Processing amberish-bpb-150M-1xC\n"
     ]
    },
    {
     "name": "stderr",
     "output_type": "stream",
     "text": [
      " 50%|████████████████████████████████████████████████████████████████████▌                                                                    | 2/4 [00:00<00:00,  2.95it/s]"
     ]
    },
    {
     "name": "stdout",
     "output_type": "stream",
     "text": [
      "Processing amberish-bpb-150M-1xC\n"
     ]
    },
    {
     "name": "stderr",
     "output_type": "stream",
     "text": [
      " 75%|██████████████████████████████████████████████████████████████████████████████████████████████████████▊                                  | 3/4 [00:01<00:00,  2.80it/s]"
     ]
    },
    {
     "name": "stdout",
     "output_type": "stream",
     "text": [
      "Processing amberish-bpb-150M-1xC\n"
     ]
    },
    {
     "name": "stderr",
     "output_type": "stream",
     "text": [
      "100%|█████████████████████████████████████████████████████████████████████████████████████████████████████████████████████████████████████████| 4/4 [00:01<00:00,  2.78it/s]\n"
     ]
    },
    {
     "name": "stdout",
     "output_type": "stream",
     "text": [
      "Found 13 matching runs in ai2-llm/olmo-ladder\n",
      "Downloading the data from the following wandb runs:\n",
      " <Run ai2-llm/olmo-ladder/1yn84flw (finished)>\n",
      "<Run ai2-llm/olmo-ladder/pppxip0w (crashed)>\n",
      "<Run ai2-llm/olmo-ladder/xzs9o1zz (crashed)>\n",
      "<Run ai2-llm/olmo-ladder/yxvtfniw (crashed)>\n",
      "<Run ai2-llm/olmo-ladder/al7n26ek (crashed)>\n",
      "<Run ai2-llm/olmo-ladder/n85m06jj (crashed)>\n",
      "<Run ai2-llm/olmo-ladder/vwq8hmb5 (crashed)>\n",
      "<Run ai2-llm/olmo-ladder/7qmza2we (crashed)>\n",
      "<Run ai2-llm/olmo-ladder/nzhn7p0r (crashed)>\n",
      "<Run ai2-llm/olmo-ladder/qtbp5o4r (crashed)>\n",
      "<Run ai2-llm/olmo-ladder/blveakwp (crashed)>\n",
      "<Run ai2-llm/olmo-ladder/clnc0a5y (crashed)>\n",
      "<Run ai2-llm/olmo-ladder/msk8g6v6 (crashed)>\n"
     ]
    },
    {
     "name": "stderr",
     "output_type": "stream",
     "text": [
      "  0%|                                                                                                                                                | 0/13 [00:00<?, ?it/s]"
     ]
    },
    {
     "name": "stdout",
     "output_type": "stream",
     "text": [
      "Processing amberish-bpb-300M-1xC\n"
     ]
    },
    {
     "name": "stderr",
     "output_type": "stream",
     "text": [
      "  8%|██████████▍                                                                                                                             | 1/13 [00:00<00:05,  2.24it/s]"
     ]
    },
    {
     "name": "stdout",
     "output_type": "stream",
     "text": [
      "Processing amberish-bpb-300M-1xC\n"
     ]
    },
    {
     "name": "stderr",
     "output_type": "stream",
     "text": [
      " 15%|████████████████████▉                                                                                                                   | 2/13 [00:00<00:04,  2.28it/s]"
     ]
    },
    {
     "name": "stdout",
     "output_type": "stream",
     "text": [
      "Processing amberish-bpb-300M-1xC\n"
     ]
    },
    {
     "name": "stderr",
     "output_type": "stream",
     "text": [
      " 23%|███████████████████████████████▍                                                                                                        | 3/13 [00:01<00:04,  2.26it/s]"
     ]
    },
    {
     "name": "stdout",
     "output_type": "stream",
     "text": [
      "Processing amberish-bpb-300M-1xC\n"
     ]
    },
    {
     "name": "stderr",
     "output_type": "stream",
     "text": [
      " 31%|█████████████████████████████████████████▊                                                                                              | 4/13 [00:01<00:03,  2.42it/s]"
     ]
    },
    {
     "name": "stdout",
     "output_type": "stream",
     "text": [
      "Processing amberish-bpb-300M-1xC\n"
     ]
    },
    {
     "name": "stderr",
     "output_type": "stream",
     "text": [
      " 38%|████████████████████████████████████████████████████▎                                                                                   | 5/13 [00:01<00:02,  2.91it/s]"
     ]
    },
    {
     "name": "stdout",
     "output_type": "stream",
     "text": [
      "Processing amberish-bpb-300M-1xC\n"
     ]
    },
    {
     "name": "stderr",
     "output_type": "stream",
     "text": [
      " 46%|██████████████████████████████████████████████████████████████▊                                                                         | 6/13 [00:02<00:02,  2.86it/s]"
     ]
    },
    {
     "name": "stdout",
     "output_type": "stream",
     "text": [
      "Processing amberish-bpb-300M-1xC\n"
     ]
    },
    {
     "name": "stderr",
     "output_type": "stream",
     "text": [
      " 62%|███████████████████████████████████████████████████████████████████████████████████▋                                                    | 8/13 [00:02<00:01,  3.41it/s]"
     ]
    },
    {
     "name": "stdout",
     "output_type": "stream",
     "text": [
      "Processing amberish-bpb-300M-1xC\n",
      "Processing amberish-bpb-300M-1xC\n"
     ]
    },
    {
     "name": "stderr",
     "output_type": "stream",
     "text": [
      " 77%|███████████████████████████████████████████████████████████████████████████████████████████████████████▊                               | 10/13 [00:03<00:00,  3.51it/s]"
     ]
    },
    {
     "name": "stdout",
     "output_type": "stream",
     "text": [
      "Processing amberish-bpb-300M-1xC\n"
     ]
    },
    {
     "name": "stderr",
     "output_type": "stream",
     "text": [
      " 85%|██████████████████████████████████████████████████████████████████████████████████████████████████████████████████▏                    | 11/13 [00:03<00:00,  3.95it/s]"
     ]
    },
    {
     "name": "stdout",
     "output_type": "stream",
     "text": [
      "Processing amberish-bpb-300M-1xC\n",
      "Processing amberish-bpb-300M-1xC\n"
     ]
    },
    {
     "name": "stderr",
     "output_type": "stream",
     "text": [
      " 92%|████████████████████████████████████████████████████████████████████████████████████████████████████████████████████████████▌          | 12/13 [00:04<00:00,  3.25it/s]"
     ]
    },
    {
     "name": "stdout",
     "output_type": "stream",
     "text": [
      "Processing amberish-bpb-300M-1xC\n"
     ]
    },
    {
     "name": "stderr",
     "output_type": "stream",
     "text": [
      "100%|███████████████████████████████████████████████████████████████████████████████████████████████████████████████████████████████████████| 13/13 [00:04<00:00,  2.94it/s]\n"
     ]
    },
    {
     "name": "stdout",
     "output_type": "stream",
     "text": [
      "Found 1 matching runs in ai2-llm/olmo-ladder\n",
      "Downloading the data from the following wandb runs:\n",
      " <Run ai2-llm/olmo-ladder/crexpsxa (finished)>\n"
     ]
    },
    {
     "name": "stderr",
     "output_type": "stream",
     "text": [
      "  0%|                                                                                                                                                 | 0/1 [00:00<?, ?it/s]"
     ]
    },
    {
     "name": "stdout",
     "output_type": "stream",
     "text": [
      "Processing amberish-bpb-750M-1xC\n"
     ]
    },
    {
     "name": "stderr",
     "output_type": "stream",
     "text": [
      "100%|█████████████████████████████████████████████████████████████████████████████████████████████████████████████████████████████████████████| 1/1 [00:00<00:00,  1.49it/s]\n"
     ]
    },
    {
     "name": "stdout",
     "output_type": "stream",
     "text": [
      "Found 15 matching runs in ai2-llm/olmo-ladder\n",
      "Downloading the data from the following wandb runs:\n",
      " <Run ai2-llm/olmo-ladder/g6ffhnqi (finished)>\n",
      "<Run ai2-llm/olmo-ladder/bgblpmha (crashed)>\n",
      "<Run ai2-llm/olmo-ladder/8yn1tw18 (crashed)>\n",
      "<Run ai2-llm/olmo-ladder/2eb2vfne (crashed)>\n",
      "<Run ai2-llm/olmo-ladder/zj02ne93 (crashed)>\n",
      "<Run ai2-llm/olmo-ladder/s048s142 (crashed)>\n",
      "<Run ai2-llm/olmo-ladder/y89vfw8o (crashed)>\n",
      "<Run ai2-llm/olmo-ladder/9rakynt7 (crashed)>\n",
      "<Run ai2-llm/olmo-ladder/vscspmkv (crashed)>\n",
      "<Run ai2-llm/olmo-ladder/fpp18130 (crashed)>\n",
      "<Run ai2-llm/olmo-ladder/a85mr7va (crashed)>\n",
      "<Run ai2-llm/olmo-ladder/ufd8synd (crashed)>\n",
      "<Run ai2-llm/olmo-ladder/v44ctmlh (crashed)>\n",
      "<Run ai2-llm/olmo-ladder/fcaspdcc (crashed)>\n",
      "<Run ai2-llm/olmo-ladder/3bg5bran (crashed)>\n"
     ]
    },
    {
     "name": "stderr",
     "output_type": "stream",
     "text": [
      "  0%|                                                                                                                                                | 0/15 [00:00<?, ?it/s]"
     ]
    },
    {
     "name": "stdout",
     "output_type": "stream",
     "text": [
      "Processing amberish-bpb-1B-1xC\n"
     ]
    },
    {
     "name": "stderr",
     "output_type": "stream",
     "text": [
      " 13%|██████████████████▏                                                                                                                     | 2/15 [00:00<00:04,  2.69it/s]"
     ]
    },
    {
     "name": "stdout",
     "output_type": "stream",
     "text": [
      "Processing amberish-bpb-1B-1xC\n",
      "Processing amberish-bpb-1B-1xC\n"
     ]
    },
    {
     "name": "stderr",
     "output_type": "stream",
     "text": [
      " 27%|████████████████████████████████████▎                                                                                                   | 4/15 [00:01<00:02,  4.45it/s]"
     ]
    },
    {
     "name": "stdout",
     "output_type": "stream",
     "text": [
      "Processing amberish-bpb-1B-1xC\n",
      "Processing amberish-bpb-1B-1xC\n"
     ]
    },
    {
     "name": "stderr",
     "output_type": "stream",
     "text": [
      " 33%|█████████████████████████████████████████████▎                                                                                          | 5/15 [00:01<00:03,  2.68it/s]"
     ]
    },
    {
     "name": "stdout",
     "output_type": "stream",
     "text": [
      "Processing amberish-bpb-1B-1xC\n"
     ]
    },
    {
     "name": "stderr",
     "output_type": "stream",
     "text": [
      " 40%|██████████████████████████████████████████████████████▍                                                                                 | 6/15 [00:02<00:04,  2.12it/s]"
     ]
    },
    {
     "name": "stdout",
     "output_type": "stream",
     "text": [
      "Processing amberish-bpb-1B-1xC\n"
     ]
    },
    {
     "name": "stderr",
     "output_type": "stream",
     "text": [
      " 53%|████████████████████████████████████████████████████████████████████████▌                                                               | 8/15 [00:03<00:03,  2.25it/s]"
     ]
    },
    {
     "name": "stdout",
     "output_type": "stream",
     "text": [
      "Processing amberish-bpb-1B-1xC\n",
      "Processing amberish-bpb-1B-1xC\n"
     ]
    },
    {
     "name": "stderr",
     "output_type": "stream",
     "text": [
      " 67%|██████████████████████████████████████████████████████████████████████████████████████████                                             | 10/15 [00:04<00:02,  2.37it/s]"
     ]
    },
    {
     "name": "stdout",
     "output_type": "stream",
     "text": [
      "Processing amberish-bpb-1B-1xC\n",
      "Processing amberish-bpb-1B-1xC\n"
     ]
    },
    {
     "name": "stderr",
     "output_type": "stream",
     "text": [
      " 73%|███████████████████████████████████████████████████████████████████████████████████████████████████                                    | 11/15 [00:04<00:01,  2.20it/s]"
     ]
    },
    {
     "name": "stdout",
     "output_type": "stream",
     "text": [
      "Processing amberish-bpb-1B-1xC\n"
     ]
    },
    {
     "name": "stderr",
     "output_type": "stream",
     "text": [
      " 80%|████████████████████████████████████████████████████████████████████████████████████████████████████████████                           | 12/15 [00:05<00:01,  1.82it/s]"
     ]
    },
    {
     "name": "stdout",
     "output_type": "stream",
     "text": [
      "Processing amberish-bpb-1B-1xC\n"
     ]
    },
    {
     "name": "stderr",
     "output_type": "stream",
     "text": [
      " 87%|█████████████████████████████████████████████████████████████████████████████████████████████████████████████████████                  | 13/15 [00:10<00:03,  1.81s/it]"
     ]
    },
    {
     "name": "stdout",
     "output_type": "stream",
     "text": [
      "Processing amberish-bpb-1B-1xC\n"
     ]
    },
    {
     "name": "stderr",
     "output_type": "stream",
     "text": [
      " 93%|██████████████████████████████████████████████████████████████████████████████████████████████████████████████████████████████         | 14/15 [00:10<00:01,  1.36s/it]"
     ]
    },
    {
     "name": "stdout",
     "output_type": "stream",
     "text": [
      "Processing amberish-bpb-1B-1xC\n"
     ]
    },
    {
     "name": "stderr",
     "output_type": "stream",
     "text": [
      "100%|███████████████████████████████████████████████████████████████████████████████████████████████████████████████████████████████████████| 15/15 [00:11<00:00,  1.34it/s]\n"
     ]
    },
    {
     "name": "stdout",
     "output_type": "stream",
     "text": [
      "Found 3 matching runs in ai2-llm/olmo-ladder\n",
      "Downloading the data from the following wandb runs:\n",
      " <Run ai2-llm/olmo-ladder/2uicivnn (finished)>\n",
      "<Run ai2-llm/olmo-ladder/h5e3ejcm (failed)>\n",
      "<Run ai2-llm/olmo-ladder/1rwznq3e (failed)>\n"
     ]
    },
    {
     "name": "stderr",
     "output_type": "stream",
     "text": [
      "  0%|                                                                                                                                                 | 0/3 [00:00<?, ?it/s]"
     ]
    },
    {
     "name": "stdout",
     "output_type": "stream",
     "text": [
      "Processing amberish-150M-2xC\n"
     ]
    },
    {
     "name": "stderr",
     "output_type": "stream",
     "text": [
      " 67%|███████████████████████████████████████████████████████████████████████████████████████████▎                                             | 2/3 [00:00<00:00,  2.34it/s]"
     ]
    },
    {
     "name": "stdout",
     "output_type": "stream",
     "text": [
      "Processing amberish-150M-2xC\n",
      "Processing amberish-150M-2xC\n"
     ]
    },
    {
     "name": "stderr",
     "output_type": "stream",
     "text": [
      "100%|█████████████████████████████████████████████████████████████████████████████████████████████████████████████████████████████████████████| 3/3 [00:01<00:00,  1.90it/s]\n"
     ]
    },
    {
     "name": "stdout",
     "output_type": "stream",
     "text": [
      "Found 1 matching runs in ai2-llm/olmo-ladder\n",
      "Downloading the data from the following wandb runs:\n",
      " <Run ai2-llm/olmo-ladder/gookg3bs (finished)>\n"
     ]
    },
    {
     "name": "stderr",
     "output_type": "stream",
     "text": [
      "  0%|                                                                                                                                                 | 0/1 [00:00<?, ?it/s]"
     ]
    },
    {
     "name": "stdout",
     "output_type": "stream",
     "text": [
      "Processing amberish-300M-2xC\n"
     ]
    },
    {
     "name": "stderr",
     "output_type": "stream",
     "text": [
      "100%|█████████████████████████████████████████████████████████████████████████████████████████████████████████████████████████████████████████| 1/1 [00:00<00:00,  1.47it/s]\n"
     ]
    },
    {
     "name": "stdout",
     "output_type": "stream",
     "text": [
      "Found 1 matching runs in ai2-llm/olmo-ladder\n",
      "Downloading the data from the following wandb runs:\n",
      " <Run ai2-llm/olmo-ladder/o9eggwnc (finished)>\n"
     ]
    },
    {
     "name": "stderr",
     "output_type": "stream",
     "text": [
      "  0%|                                                                                                                                                 | 0/1 [00:00<?, ?it/s]"
     ]
    },
    {
     "name": "stdout",
     "output_type": "stream",
     "text": [
      "Processing amberish-750M-2xC\n"
     ]
    },
    {
     "name": "stderr",
     "output_type": "stream",
     "text": [
      "100%|█████████████████████████████████████████████████████████████████████████████████████████████████████████████████████████████████████████| 1/1 [00:01<00:00,  1.18s/it]\n"
     ]
    },
    {
     "name": "stdout",
     "output_type": "stream",
     "text": [
      "Found 1 matching runs in ai2-llm/olmo-ladder\n",
      "Downloading the data from the following wandb runs:\n",
      " <Run ai2-llm/olmo-ladder/j8fqsi0b (finished)>\n"
     ]
    },
    {
     "name": "stderr",
     "output_type": "stream",
     "text": [
      "  0%|                                                                                                                                                 | 0/1 [00:00<?, ?it/s]"
     ]
    },
    {
     "name": "stdout",
     "output_type": "stream",
     "text": [
      "Processing amberish-1B-2xC\n"
     ]
    },
    {
     "name": "stderr",
     "output_type": "stream",
     "text": [
      "100%|█████████████████████████████████████████████████████████████████████████████████████████████████████████████████████████████████████████| 1/1 [00:01<00:00,  1.93s/it]\n"
     ]
    },
    {
     "name": "stdout",
     "output_type": "stream",
     "text": [
      "Found 2 matching runs in ai2-llm/olmo-ladder\n",
      "Downloading the data from the following wandb runs:\n",
      " <Run ai2-llm/olmo-ladder/2oz40h1c (finished)>\n",
      "<Run ai2-llm/olmo-ladder/id3m1tgu (crashed)>\n"
     ]
    },
    {
     "name": "stderr",
     "output_type": "stream",
     "text": [
      "  0%|                                                                                                                                                 | 0/2 [00:00<?, ?it/s]"
     ]
    },
    {
     "name": "stdout",
     "output_type": "stream",
     "text": [
      "Processing amberish-150M-5xC\n"
     ]
    },
    {
     "name": "stderr",
     "output_type": "stream",
     "text": [
      " 50%|████████████████████████████████████████████████████████████████████▌                                                                    | 1/2 [00:00<00:00,  1.07it/s]"
     ]
    },
    {
     "name": "stdout",
     "output_type": "stream",
     "text": [
      "Processing amberish-150M-5xC\n"
     ]
    },
    {
     "name": "stderr",
     "output_type": "stream",
     "text": [
      "100%|█████████████████████████████████████████████████████████████████████████████████████████████████████████████████████████████████████████| 2/2 [00:01<00:00,  1.27it/s]\n"
     ]
    },
    {
     "name": "stdout",
     "output_type": "stream",
     "text": [
      "Found 1 matching runs in ai2-llm/olmo-ladder\n",
      "Downloading the data from the following wandb runs:\n",
      " <Run ai2-llm/olmo-ladder/dp6iv4pw (finished)>\n"
     ]
    },
    {
     "name": "stderr",
     "output_type": "stream",
     "text": [
      "  0%|                                                                                                                                                 | 0/1 [00:00<?, ?it/s]"
     ]
    },
    {
     "name": "stdout",
     "output_type": "stream",
     "text": [
      "Processing amberish-300M-5xC\n"
     ]
    },
    {
     "name": "stderr",
     "output_type": "stream",
     "text": [
      "100%|█████████████████████████████████████████████████████████████████████████████████████████████████████████████████████████████████████████| 1/1 [00:01<00:00,  1.54s/it]\n"
     ]
    },
    {
     "name": "stdout",
     "output_type": "stream",
     "text": [
      "Found 6 matching runs in ai2-llm/olmo-ladder\n",
      "Downloading the data from the following wandb runs:\n",
      " <Run ai2-llm/olmo-ladder/eew4wd8w (finished)>\n",
      "<Run ai2-llm/olmo-ladder/33ouykof (crashed)>\n",
      "<Run ai2-llm/olmo-ladder/jf1k27m9 (crashed)>\n",
      "<Run ai2-llm/olmo-ladder/qpv4z8n8 (crashed)>\n",
      "<Run ai2-llm/olmo-ladder/r4dvew0j (crashed)>\n",
      "<Run ai2-llm/olmo-ladder/9fxnokfd (crashed)>\n"
     ]
    },
    {
     "name": "stderr",
     "output_type": "stream",
     "text": [
      "  0%|                                                                                                                                                 | 0/6 [00:00<?, ?it/s]"
     ]
    },
    {
     "name": "stdout",
     "output_type": "stream",
     "text": [
      "Processing amberish-750M-5xC\n"
     ]
    },
    {
     "name": "stderr",
     "output_type": "stream",
     "text": [
      " 17%|██████████████████████▊                                                                                                                  | 1/6 [00:01<00:09,  1.84s/it]"
     ]
    },
    {
     "name": "stdout",
     "output_type": "stream",
     "text": [
      "Processing amberish-750M-5xC\n"
     ]
    },
    {
     "name": "stderr",
     "output_type": "stream",
     "text": [
      " 50%|████████████████████████████████████████████████████████████████████▌                                                                    | 3/6 [00:03<00:02,  1.12it/s]"
     ]
    },
    {
     "name": "stdout",
     "output_type": "stream",
     "text": [
      "Processing amberish-750M-5xC\n",
      "Processing amberish-750M-5xC\n"
     ]
    },
    {
     "name": "stderr",
     "output_type": "stream",
     "text": [
      " 67%|███████████████████████████████████████████████████████████████████████████████████████████▎                                             | 4/6 [00:04<00:02,  1.01s/it]"
     ]
    },
    {
     "name": "stdout",
     "output_type": "stream",
     "text": [
      "Processing amberish-750M-5xC\n"
     ]
    },
    {
     "name": "stderr",
     "output_type": "stream",
     "text": [
      " 83%|██████████████████████████████████████████████████████████████████████████████████████████████████████████████████▏                      | 5/6 [00:05<00:00,  1.16it/s]"
     ]
    },
    {
     "name": "stdout",
     "output_type": "stream",
     "text": [
      "Processing amberish-750M-5xC\n"
     ]
    },
    {
     "name": "stderr",
     "output_type": "stream",
     "text": [
      "100%|█████████████████████████████████████████████████████████████████████████████████████████████████████████████████████████████████████████| 6/6 [00:05<00:00,  1.05it/s]\n"
     ]
    },
    {
     "name": "stdout",
     "output_type": "stream",
     "text": [
      "Found 3 matching runs in ai2-llm/olmo-ladder\n",
      "Downloading the data from the following wandb runs:\n",
      " <Run ai2-llm/olmo-ladder/es2kq3fw (finished)>\n",
      "<Run ai2-llm/olmo-ladder/s79ul5l2 (crashed)>\n",
      "<Run ai2-llm/olmo-ladder/gh7ccxfu (crashed)>\n"
     ]
    },
    {
     "name": "stderr",
     "output_type": "stream",
     "text": [
      "  0%|                                                                                                                                                 | 0/3 [00:00<?, ?it/s]"
     ]
    },
    {
     "name": "stdout",
     "output_type": "stream",
     "text": [
      "Processing amberish-1B-5xC\n"
     ]
    },
    {
     "name": "stderr",
     "output_type": "stream",
     "text": [
      " 67%|███████████████████████████████████████████████████████████████████████████████████████████▎                                             | 2/3 [00:02<00:00,  1.15it/s]"
     ]
    },
    {
     "name": "stdout",
     "output_type": "stream",
     "text": [
      "Processing amberish-1B-5xC\n",
      "Processing amberish-1B-5xC\n"
     ]
    },
    {
     "name": "stderr",
     "output_type": "stream",
     "text": [
      "100%|█████████████████████████████████████████████████████████████████████████████████████████████████████████████████████████████████████████| 3/3 [00:03<00:00,  1.31s/it]\n"
     ]
    },
    {
     "name": "stdout",
     "output_type": "stream",
     "text": [
      "Found 1 matching runs in ai2-llm/olmo-ladder\n",
      "Downloading the data from the following wandb runs:\n",
      " <Run ai2-llm/olmo-ladder/nlb0jsia (finished)>\n"
     ]
    },
    {
     "name": "stderr",
     "output_type": "stream",
     "text": [
      "  0%|                                                                                                                                                 | 0/1 [00:00<?, ?it/s]"
     ]
    },
    {
     "name": "stdout",
     "output_type": "stream",
     "text": [
      "Processing amberish-150M-10xC\n"
     ]
    },
    {
     "name": "stderr",
     "output_type": "stream",
     "text": [
      "100%|█████████████████████████████████████████████████████████████████████████████████████████████████████████████████████████████████████████| 1/1 [00:02<00:00,  2.11s/it]\n"
     ]
    },
    {
     "name": "stdout",
     "output_type": "stream",
     "text": [
      "Found 8 matching runs in ai2-llm/olmo-ladder\n",
      "Downloading the data from the following wandb runs:\n",
      " <Run ai2-llm/olmo-ladder/vnewl8nf (finished)>\n",
      "<Run ai2-llm/olmo-ladder/ykslbhlz (crashed)>\n",
      "<Run ai2-llm/olmo-ladder/vk1p2v5k (crashed)>\n",
      "<Run ai2-llm/olmo-ladder/56jyo8v8 (crashed)>\n",
      "<Run ai2-llm/olmo-ladder/gfos3n8u (crashed)>\n",
      "<Run ai2-llm/olmo-ladder/hsbmx7fm (crashed)>\n",
      "<Run ai2-llm/olmo-ladder/asnjdxf1 (crashed)>\n",
      "<Run ai2-llm/olmo-ladder/jyz2rwon (crashed)>\n"
     ]
    },
    {
     "name": "stderr",
     "output_type": "stream",
     "text": [
      "  0%|                                                                                                                                                 | 0/8 [00:00<?, ?it/s]"
     ]
    },
    {
     "name": "stdout",
     "output_type": "stream",
     "text": [
      "Processing amberish-300M-10xC\n"
     ]
    },
    {
     "name": "stderr",
     "output_type": "stream",
     "text": [
      " 12%|█████████████████▏                                                                                                                       | 1/8 [00:04<00:30,  4.32s/it]"
     ]
    },
    {
     "name": "stdout",
     "output_type": "stream",
     "text": [
      "Processing amberish-300M-10xC\n"
     ]
    },
    {
     "name": "stderr",
     "output_type": "stream",
     "text": [
      " 25%|██████████████████████████████████▎                                                                                                      | 2/8 [00:04<00:12,  2.16s/it]"
     ]
    },
    {
     "name": "stdout",
     "output_type": "stream",
     "text": [
      "Processing amberish-300M-10xC\n"
     ]
    },
    {
     "name": "stderr",
     "output_type": "stream",
     "text": [
      " 38%|███████████████████████████████████████████████████▍                                                                                     | 3/8 [00:12<00:23,  4.76s/it]"
     ]
    },
    {
     "name": "stdout",
     "output_type": "stream",
     "text": [
      "Processing amberish-300M-10xC\n"
     ]
    },
    {
     "name": "stderr",
     "output_type": "stream",
     "text": [
      " 50%|████████████████████████████████████████████████████████████████████▌                                                                    | 4/8 [00:15<00:15,  3.79s/it]"
     ]
    },
    {
     "name": "stdout",
     "output_type": "stream",
     "text": [
      "Processing amberish-300M-10xC\n"
     ]
    },
    {
     "name": "stderr",
     "output_type": "stream",
     "text": [
      " 62%|█████████████████████████████████████████████████████████████████████████████████████▋                                                   | 5/8 [00:17<00:09,  3.28s/it]"
     ]
    },
    {
     "name": "stdout",
     "output_type": "stream",
     "text": [
      "Processing amberish-300M-10xC\n"
     ]
    },
    {
     "name": "stderr",
     "output_type": "stream",
     "text": [
      " 75%|██████████████████████████████████████████████████████████████████████████████████████████████████████▊                                  | 6/8 [00:19<00:05,  2.78s/it]"
     ]
    },
    {
     "name": "stdout",
     "output_type": "stream",
     "text": [
      "Processing amberish-300M-10xC\n"
     ]
    },
    {
     "name": "stderr",
     "output_type": "stream",
     "text": [
      " 88%|███████████████████████████████████████████████████████████████████████████████████████████████████████████████████████▉                 | 7/8 [00:21<00:02,  2.43s/it]"
     ]
    },
    {
     "name": "stdout",
     "output_type": "stream",
     "text": [
      "Processing amberish-300M-10xC\n"
     ]
    },
    {
     "name": "stderr",
     "output_type": "stream",
     "text": [
      "100%|█████████████████████████████████████████████████████████████████████████████████████████████████████████████████████████████████████████| 8/8 [00:21<00:00,  2.73s/it]\n"
     ]
    },
    {
     "name": "stdout",
     "output_type": "stream",
     "text": [
      "Found 13 matching runs in ai2-llm/olmo-ladder\n",
      "Downloading the data from the following wandb runs:\n",
      " <Run ai2-llm/olmo-ladder/3qy0ul8j (crashed)>\n",
      "<Run ai2-llm/olmo-ladder/o7k17j1d (crashed)>\n",
      "<Run ai2-llm/olmo-ladder/6hedjxaq (crashed)>\n",
      "<Run ai2-llm/olmo-ladder/2i5yhmza (crashed)>\n",
      "<Run ai2-llm/olmo-ladder/jbsc5n68 (crashed)>\n",
      "<Run ai2-llm/olmo-ladder/uhxg066f (crashed)>\n",
      "<Run ai2-llm/olmo-ladder/rrufzvfz (crashed)>\n",
      "<Run ai2-llm/olmo-ladder/m2ow5kf1 (crashed)>\n",
      "<Run ai2-llm/olmo-ladder/yv9o5t4s (crashed)>\n",
      "<Run ai2-llm/olmo-ladder/2xqig2yy (crashed)>\n",
      "<Run ai2-llm/olmo-ladder/l4sq3zky (crashed)>\n",
      "<Run ai2-llm/olmo-ladder/s1goyqmo (crashed)>\n",
      "<Run ai2-llm/olmo-ladder/bdfhynmr (crashed)>\n"
     ]
    },
    {
     "name": "stderr",
     "output_type": "stream",
     "text": [
      "  0%|                                                                                                                                                | 0/13 [00:00<?, ?it/s]"
     ]
    },
    {
     "name": "stdout",
     "output_type": "stream",
     "text": [
      "Processing amberish-750M-10xC\n"
     ]
    },
    {
     "name": "stderr",
     "output_type": "stream",
     "text": [
      " 15%|████████████████████▉                                                                                                                   | 2/13 [00:01<00:08,  1.22it/s]"
     ]
    },
    {
     "name": "stdout",
     "output_type": "stream",
     "text": [
      "Processing amberish-750M-10xC\n",
      "Processing amberish-750M-10xC\n"
     ]
    },
    {
     "name": "stderr",
     "output_type": "stream",
     "text": [
      " 23%|███████████████████████████████▍                                                                                                        | 3/13 [00:03<00:13,  1.38s/it]"
     ]
    },
    {
     "name": "stdout",
     "output_type": "stream",
     "text": [
      "Processing amberish-750M-10xC\n"
     ]
    },
    {
     "name": "stderr",
     "output_type": "stream",
     "text": [
      " 31%|█████████████████████████████████████████▊                                                                                              | 4/13 [00:05<00:14,  1.61s/it]"
     ]
    },
    {
     "name": "stdout",
     "output_type": "stream",
     "text": [
      "Processing amberish-750M-10xC\n"
     ]
    },
    {
     "name": "stderr",
     "output_type": "stream",
     "text": [
      " 38%|████████████████████████████████████████████████████▎                                                                                   | 5/13 [00:07<00:13,  1.69s/it]"
     ]
    },
    {
     "name": "stdout",
     "output_type": "stream",
     "text": [
      "Processing amberish-750M-10xC\n"
     ]
    },
    {
     "name": "stderr",
     "output_type": "stream",
     "text": [
      " 54%|█████████████████████████████████████████████████████████████████████████▏                                                              | 7/13 [00:10<00:07,  1.28s/it]"
     ]
    },
    {
     "name": "stdout",
     "output_type": "stream",
     "text": [
      "Processing amberish-750M-10xC\n",
      "Processing amberish-750M-10xC\n"
     ]
    },
    {
     "name": "stderr",
     "output_type": "stream",
     "text": [
      " 62%|███████████████████████████████████████████████████████████████████████████████████▋                                                    | 8/13 [00:12<00:07,  1.59s/it]"
     ]
    },
    {
     "name": "stdout",
     "output_type": "stream",
     "text": [
      "Processing amberish-750M-10xC\n"
     ]
    },
    {
     "name": "stderr",
     "output_type": "stream",
     "text": [
      " 69%|██████████████████████████████████████████████████████████████████████████████████████████████▏                                         | 9/13 [00:14<00:07,  1.80s/it]"
     ]
    },
    {
     "name": "stdout",
     "output_type": "stream",
     "text": [
      "Processing amberish-750M-10xC\n"
     ]
    },
    {
     "name": "stderr",
     "output_type": "stream",
     "text": [
      " 77%|███████████████████████████████████████████████████████████████████████████████████████████████████████▊                               | 10/13 [00:16<00:05,  1.89s/it]"
     ]
    },
    {
     "name": "stdout",
     "output_type": "stream",
     "text": [
      "Processing amberish-750M-10xC\n"
     ]
    },
    {
     "name": "stderr",
     "output_type": "stream",
     "text": [
      " 85%|██████████████████████████████████████████████████████████████████████████████████████████████████████████████████▏                    | 11/13 [00:17<00:03,  1.68s/it]"
     ]
    },
    {
     "name": "stdout",
     "output_type": "stream",
     "text": [
      "Processing amberish-750M-10xC\n"
     ]
    },
    {
     "name": "stderr",
     "output_type": "stream",
     "text": [
      "100%|███████████████████████████████████████████████████████████████████████████████████████████████████████████████████████████████████████| 13/13 [00:18<00:00,  1.44s/it]\n"
     ]
    },
    {
     "name": "stdout",
     "output_type": "stream",
     "text": [
      "Processing amberish-750M-10xC\n",
      "Found 11 matching runs in ai2-llm/olmo-ladder\n",
      "Downloading the data from the following wandb runs:\n",
      " <Run ai2-llm/olmo-ladder/z6y69u2z (crashed)>\n",
      "<Run ai2-llm/olmo-ladder/1ov4wnwa (crashed)>\n",
      "<Run ai2-llm/olmo-ladder/kvztfben (crashed)>\n",
      "<Run ai2-llm/olmo-ladder/jiz9kskb (crashed)>\n",
      "<Run ai2-llm/olmo-ladder/2pp7emq0 (crashed)>\n",
      "<Run ai2-llm/olmo-ladder/65lkkaop (crashed)>\n",
      "<Run ai2-llm/olmo-ladder/xh1u5d6r (crashed)>\n",
      "<Run ai2-llm/olmo-ladder/z7nr5hb4 (crashed)>\n",
      "<Run ai2-llm/olmo-ladder/mulg0239 (crashed)>\n",
      "<Run ai2-llm/olmo-ladder/f9ix7asi (crashed)>\n",
      "<Run ai2-llm/olmo-ladder/s2do1dja (crashed)>\n"
     ]
    },
    {
     "name": "stderr",
     "output_type": "stream",
     "text": [
      "  0%|                                                                                                                                                | 0/11 [00:00<?, ?it/s]"
     ]
    },
    {
     "name": "stdout",
     "output_type": "stream",
     "text": [
      "Processing amberish-1B-10xC\n"
     ]
    },
    {
     "name": "stderr",
     "output_type": "stream",
     "text": [
      "  9%|████████████▎                                                                                                                           | 1/11 [00:02<00:20,  2.07s/it]"
     ]
    },
    {
     "name": "stdout",
     "output_type": "stream",
     "text": [
      "Processing amberish-1B-10xC\n"
     ]
    },
    {
     "name": "stderr",
     "output_type": "stream",
     "text": [
      " 18%|████████████████████████▋                                                                                                               | 2/11 [00:04<00:19,  2.19s/it]"
     ]
    },
    {
     "name": "stdout",
     "output_type": "stream",
     "text": [
      "Processing amberish-1B-10xC\n"
     ]
    },
    {
     "name": "stderr",
     "output_type": "stream",
     "text": [
      " 27%|█████████████████████████████████████                                                                                                   | 3/11 [00:06<00:16,  2.03s/it]"
     ]
    },
    {
     "name": "stdout",
     "output_type": "stream",
     "text": [
      "Processing amberish-1B-10xC\n"
     ]
    },
    {
     "name": "stderr",
     "output_type": "stream",
     "text": [
      " 36%|█████████████████████████████████████████████████▍                                                                                      | 4/11 [00:08<00:14,  2.10s/it]"
     ]
    },
    {
     "name": "stdout",
     "output_type": "stream",
     "text": [
      "Processing amberish-1B-10xC\n"
     ]
    },
    {
     "name": "stderr",
     "output_type": "stream",
     "text": [
      " 45%|█████████████████████████████████████████████████████████████▊                                                                          | 5/11 [00:10<00:12,  2.11s/it]"
     ]
    },
    {
     "name": "stdout",
     "output_type": "stream",
     "text": [
      "Processing amberish-1B-10xC\n"
     ]
    },
    {
     "name": "stderr",
     "output_type": "stream",
     "text": [
      " 55%|██████████████████████████████████████████████████████████████████████████▏                                                             | 6/11 [00:13<00:11,  2.26s/it]"
     ]
    },
    {
     "name": "stdout",
     "output_type": "stream",
     "text": [
      "Processing amberish-1B-10xC\n"
     ]
    },
    {
     "name": "stderr",
     "output_type": "stream",
     "text": [
      " 64%|██████████████████████████████████████████████████████████████████████████████████████▌                                                 | 7/11 [00:15<00:09,  2.27s/it]"
     ]
    },
    {
     "name": "stdout",
     "output_type": "stream",
     "text": [
      "Processing amberish-1B-10xC\n"
     ]
    },
    {
     "name": "stderr",
     "output_type": "stream",
     "text": [
      " 73%|██████████████████████████████████████████████████████████████████████████████████████████████████▉                                     | 8/11 [00:17<00:06,  2.13s/it]"
     ]
    },
    {
     "name": "stdout",
     "output_type": "stream",
     "text": [
      "Processing amberish-1B-10xC\n"
     ]
    },
    {
     "name": "stderr",
     "output_type": "stream",
     "text": [
      " 82%|███████████████████████████████████████████████████████████████████████████████████████████████████████████████▎                        | 9/11 [00:18<00:03,  1.82s/it]"
     ]
    },
    {
     "name": "stdout",
     "output_type": "stream",
     "text": [
      "Processing amberish-1B-10xC\n"
     ]
    },
    {
     "name": "stderr",
     "output_type": "stream",
     "text": [
      " 91%|██████████████████████████████████████████████████████████████████████████████████████████████████████████████████████████▋            | 10/11 [00:19<00:01,  1.59s/it]"
     ]
    },
    {
     "name": "stdout",
     "output_type": "stream",
     "text": [
      "Processing amberish-1B-10xC\n"
     ]
    },
    {
     "name": "stderr",
     "output_type": "stream",
     "text": [
      "100%|███████████████████████████████████████████████████████████████████████████████████████████████████████████████████████████████████████| 11/11 [00:20<00:00,  1.83s/it]\n"
     ]
    }
   ],
   "source": [
    "run_names = [\n",
    "    \"ai2-llm/olmo-ladder/amberish-bpb-150M-1xC\",\n",
    "    \"ai2-llm/olmo-ladder/amberish-bpb-300M-1xC\",\n",
    "    \"ai2-llm/olmo-ladder/amberish-bpb-750M-1xC\",\n",
    "    \"ai2-llm/olmo-ladder/amberish-bpb-1B-1xC\",\n",
    "    #\"ai2-llm/olmo-ladder/amberish-3B-1xC\",\n",
    "    \"ai2-llm/olmo-ladder/amberish-150M-2xC\",\n",
    "    \"ai2-llm/olmo-ladder/amberish-300M-2xC\",\n",
    "    \"ai2-llm/olmo-ladder/amberish-750M-2xC\",\n",
    "    \"ai2-llm/olmo-ladder/amberish-1B-2xC\",\n",
    "    #\"ai2-llm/olmo-ladder/amberish-3B-2xC\",\n",
    "    \"ai2-llm/olmo-ladder/amberish-150M-5xC\",\n",
    "    \"ai2-llm/olmo-ladder/amberish-300M-5xC\",\n",
    "    \"ai2-llm/olmo-ladder/amberish-750M-5xC\",\n",
    "    \"ai2-llm/olmo-ladder/amberish-1B-5xC\",\n",
    "    #\"ai2-llm/olmo-ladder/amberish-3B-5xC\",\n",
    "    \"ai2-llm/olmo-ladder/amberish-150M-10xC\",\n",
    "    \"ai2-llm/olmo-ladder/amberish-300M-10xC\",\n",
    "    \"ai2-llm/olmo-ladder/amberish-750M-10xC\",\n",
    "    \"ai2-llm/olmo-ladder/amberish-1B-10xC\",\n",
    "    #\"ai2-llm/olmo-ladder/amberish-3B-10xC\",\n",
    "]\n",
    "\n",
    "validation_outputs = {}\n",
    "downstream_outputs = {}\n",
    "\n",
    "for run_name in run_names:\n",
    "\n",
    "    output_name = run_name.split(\"/\")[-1]\n",
    "    output_path = f\"{WANDB_RESULTS}/{output_name}-val-all-flop-tokens.csv\"\n",
    "    args = Namespace(\n",
    "        wandb_names=[run_name],\n",
    "        x_axis=\"throughput/total_tokens\",\n",
    "        y_axis=[\"eval/all-validation-and-bpb/CrossEntropyLoss\"],\n",
    "        output_path=output_path,\n",
    "    )\n",
    "    if not os.path.exists(output_path):\n",
    "        download_wb(args)\n",
    "    validation_outputs[output_name] = output_path\n",
    "\n",
    "    # output_path = f\"wandb/{output_name}-all-downstream.csv\"\n",
    "    # args = Namespace(\n",
    "    #     wandb_names=[run_name],\n",
    "    #     x_axis=\"throughput/total_training_Gflops\",\n",
    "    #     y_axis=[f'eval/downstream_bpb/{task}_bpb' for task in downstream_bpb],\n",
    "    #     output_path=output_path,\n",
    "    # )\n",
    "    # if not os.path.exists(output_path):\n",
    "    #     download_wb(args)\n",
    "    # downstream_outputs[output_name] = output_path"
   ]
  },
  {
   "cell_type": "markdown",
   "id": "578fa89a-c4a0-4fb3-8661-ad9a616b8021",
   "metadata": {},
   "source": [
    "### 2. Fitting a power law based on GFlops"
   ]
  },
  {
   "cell_type": "code",
   "execution_count": 10,
   "id": "86e6be66-7c0a-4ef2-ae95-8606d42af3d7",
   "metadata": {},
   "outputs": [],
   "source": [
    "import numpy as np\n",
    "import pandas as pd\n",
    "import olmo.scaling.ladder as ladder\n",
    "from olmo.scaling.scaling_laws.utils import validation as validation_names\n",
    "from olmo.scaling.scaling_laws.utils import downstream_bpb as downstream_bpb_names"
   ]
  },
  {
   "cell_type": "code",
   "execution_count": 11,
   "id": "ab2bbeb3-345d-4e61-9f58-6aba0eb18d76",
   "metadata": {},
   "outputs": [],
   "source": [
    "def get_gflops(run_name: str):\n",
    "    run_name = run_name.split(\"/\")[-1]\n",
    "    size, length = run_name.split(\"-\")[-2:]\n",
    "    length_in_tokens = ladder.parse_length(length, ladder.parse_size(size))\n",
    "\n",
    "    flops = ladder.MODEL_GFLOPS[size]\n",
    "    return flops * length_in_tokens / 1e9"
   ]
  },
  {
   "cell_type": "code",
   "execution_count": 12,
   "id": "b7757691-9005-48d3-81ba-62cec4f74d26",
   "metadata": {},
   "outputs": [
    {
     "data": {
      "text/plain": [
       "9113472000.0"
      ]
     },
     "execution_count": 12,
     "metadata": {},
     "output_type": "execute_result"
    }
   ],
   "source": [
    "get_gflops(\"amberish-150M-2xC\")"
   ]
  },
  {
   "cell_type": "code",
   "execution_count": 13,
   "id": "eacf6815-e192-469e-9681-a34431599347",
   "metadata": {},
   "outputs": [
    {
     "data": {
      "text/plain": [
       "{'amberish-bpb-150M-1xC': '../../wandb/amberish-bpb-150M-1xC-val-all-flop-tokens.csv',\n",
       " 'amberish-bpb-300M-1xC': '../../wandb/amberish-bpb-300M-1xC-val-all-flop-tokens.csv',\n",
       " 'amberish-bpb-750M-1xC': '../../wandb/amberish-bpb-750M-1xC-val-all-flop-tokens.csv',\n",
       " 'amberish-bpb-1B-1xC': '../../wandb/amberish-bpb-1B-1xC-val-all-flop-tokens.csv',\n",
       " 'amberish-150M-2xC': '../../wandb/amberish-150M-2xC-val-all-flop-tokens.csv',\n",
       " 'amberish-300M-2xC': '../../wandb/amberish-300M-2xC-val-all-flop-tokens.csv',\n",
       " 'amberish-750M-2xC': '../../wandb/amberish-750M-2xC-val-all-flop-tokens.csv',\n",
       " 'amberish-1B-2xC': '../../wandb/amberish-1B-2xC-val-all-flop-tokens.csv',\n",
       " 'amberish-150M-5xC': '../../wandb/amberish-150M-5xC-val-all-flop-tokens.csv',\n",
       " 'amberish-300M-5xC': '../../wandb/amberish-300M-5xC-val-all-flop-tokens.csv',\n",
       " 'amberish-750M-5xC': '../../wandb/amberish-750M-5xC-val-all-flop-tokens.csv',\n",
       " 'amberish-1B-5xC': '../../wandb/amberish-1B-5xC-val-all-flop-tokens.csv',\n",
       " 'amberish-150M-10xC': '../../wandb/amberish-150M-10xC-val-all-flop-tokens.csv',\n",
       " 'amberish-300M-10xC': '../../wandb/amberish-300M-10xC-val-all-flop-tokens.csv',\n",
       " 'amberish-750M-10xC': '../../wandb/amberish-750M-10xC-val-all-flop-tokens.csv',\n",
       " 'amberish-1B-10xC': '../../wandb/amberish-1B-10xC-val-all-flop-tokens.csv'}"
      ]
     },
     "execution_count": 13,
     "metadata": {},
     "output_type": "execute_result"
    }
   ],
   "source": [
    "validation_outputs"
   ]
  },
  {
   "cell_type": "code",
   "execution_count": 20,
   "id": "be2a362a-2234-4529-85e7-ff00aefac99d",
   "metadata": {},
   "outputs": [],
   "source": [
    "ce_loss = {}\n",
    "downstream = {}\n",
    "gflops = {}\n",
    "tokens = {}\n",
    "for run_name, output_path in validation_outputs.items():\n",
    "    if run_name.endswith(\"1xC\"):\n",
    "        continue  # TODO: why does 300M not have bpb?\n",
    "    df_val = pd.read_csv(output_path)\n",
    "    gflops[run_name] = get_gflops(run_name)\n",
    "    tokens[run_name] = df_val[\"throughput/total_tokens\"].values[-1]\n",
    "    #ce_loss[run_name] = (df_val[\"eval/c4_en-validation/CrossEntropyLoss\"].values[-1]) # + df_val[\"eval/pile-validation/CrossEntropyLoss\"].values[-1]) / 2    \n",
    "    ce_loss[run_name] = np.mean([df_val[f\"eval/{d}/CrossEntropyLoss\"].values[-1] for d in validation_names])\n",
    "    downstream[run_name] = df_val[\"eval/downstream_bpb/hellaswag_rc_0shot_bpb_bpb\"].values[-1]"
   ]
  },
  {
   "cell_type": "code",
   "execution_count": 21,
   "id": "f5dba0ef-8957-4a48-a566-89209c36f0b0",
   "metadata": {},
   "outputs": [
    {
     "data": {
      "text/plain": [
       "{'amberish-150M-2xC': 6008340480.0,\n",
       " 'amberish-300M-2xC': 12014059520.0,\n",
       " 'amberish-750M-2xC': 30024400896.0,\n",
       " 'amberish-1B-2xC': 40029913088.0,\n",
       " 'amberish-150M-5xC': 15008268288.0,\n",
       " 'amberish-300M-5xC': 30014177280.0,\n",
       " 'amberish-750M-5xC': 75025612800.0,\n",
       " 'amberish-1B-5xC': 100031528960.0,\n",
       " 'amberish-150M-10xC': 30007885824.0,\n",
       " 'amberish-300M-10xC': 60013936640.0,\n",
       " 'amberish-750M-10xC': 92248473600.0,\n",
       " 'amberish-1B-10xC': 110729625600.0}"
      ]
     },
     "execution_count": 21,
     "metadata": {},
     "output_type": "execute_result"
    }
   ],
   "source": [
    "tokens"
   ]
  },
  {
   "cell_type": "code",
   "execution_count": 22,
   "id": "ee66ca9f-3be0-43c9-bc14-d5d7a11ef7c1",
   "metadata": {},
   "outputs": [
    {
     "data": {
      "text/plain": [
       "{'amberish-150M-2xC': 0.9693014025688172,\n",
       " 'amberish-300M-2xC': 0.8964758515357971,\n",
       " 'amberish-750M-2xC': 0.8286612629890442,\n",
       " 'amberish-1B-2xC': 0.802861750125885,\n",
       " 'amberish-150M-5xC': 0.9331845045089722,\n",
       " 'amberish-300M-5xC': 0.867218554019928,\n",
       " 'amberish-750M-5xC': 0.8091036081314087,\n",
       " 'amberish-1B-5xC': 0.7784445881843567,\n",
       " 'amberish-150M-10xC': 0.9166543483734132,\n",
       " 'amberish-300M-10xC': 0.8558477163314819,\n",
       " 'amberish-750M-10xC': 0.8232565522193909,\n",
       " 'amberish-1B-10xC': 0.7997464537620544}"
      ]
     },
     "execution_count": 22,
     "metadata": {},
     "output_type": "execute_result"
    }
   ],
   "source": [
    "downstream"
   ]
  },
  {
   "cell_type": "code",
   "execution_count": 23,
   "id": "6a1f3efc-72e0-4517-b083-5d9d5fd5dd4d",
   "metadata": {},
   "outputs": [
    {
     "data": {
      "text/plain": [
       "{'amberish-150M-2xC': 9113472000.0,\n",
       " 'amberish-300M-2xC': 35174817792.0,\n",
       " 'amberish-750M-2xC': 168144353280.0,\n",
       " 'amberish-1B-2xC': 363347804160.0,\n",
       " 'amberish-150M-5xC': 22783680000.0,\n",
       " 'amberish-300M-5xC': 87937044480.0,\n",
       " 'amberish-750M-5xC': 420360883200.0,\n",
       " 'amberish-1B-5xC': 908369510400.0,\n",
       " 'amberish-150M-10xC': 45567360000.0,\n",
       " 'amberish-300M-10xC': 175874088960.0,\n",
       " 'amberish-750M-10xC': 840721766400.0,\n",
       " 'amberish-1B-10xC': 1816739020800.0}"
      ]
     },
     "execution_count": 23,
     "metadata": {},
     "output_type": "execute_result"
    }
   ],
   "source": [
    "gflops"
   ]
  },
  {
   "cell_type": "code",
   "execution_count": 24,
   "id": "0ded3958-3cc6-400b-8fc9-e358f7f1d13e",
   "metadata": {},
   "outputs": [
    {
     "data": {
      "text/plain": [
       "{'amberish-150M-2xC': 3.084535761313005,\n",
       " 'amberish-300M-2xC': 2.8530800992792305,\n",
       " 'amberish-750M-2xC': 2.626750360835682,\n",
       " 'amberish-1B-2xC': 2.5230273550206963,\n",
       " 'amberish-150M-5xC': 2.9708408659154717,\n",
       " 'amberish-300M-5xC': 2.754661050709811,\n",
       " 'amberish-750M-5xC': 2.549873622980985,\n",
       " 'amberish-1B-5xC': 2.443578080697493,\n",
       " 'amberish-150M-10xC': 2.9188964692029087,\n",
       " 'amberish-300M-10xC': 2.7124709432775322,\n",
       " 'amberish-750M-10xC': 2.6000788862055,\n",
       " 'amberish-1B-10xC': 2.5201852971857246}"
      ]
     },
     "execution_count": 24,
     "metadata": {},
     "output_type": "execute_result"
    }
   ],
   "source": [
    "ce_loss"
   ]
  },
  {
   "cell_type": "code",
   "execution_count": 56,
   "id": "3e8f7861-519a-4c80-97dc-6487e02b4699",
   "metadata": {},
   "outputs": [],
   "source": [
    "import numpy as np\n",
    "import matplotlib.pyplot as plt\n",
    "from olmo.scaling.scaling_laws.utils import get_coefficients_huber, chinchilla_flops_fit, grad_chinchilla_flops_fit\n",
    "\n",
    "def get_x_y_coeffs_flops(validation_outputs, use_ce_loss=True):\n",
    "    x = []\n",
    "    y = []\n",
    "    for run in validation_outputs:\n",
    "        x.append(gflops[run])\n",
    "        if use_ce_loss:\n",
    "            y.append(ce_loss[run])\n",
    "        else:\n",
    "            y.append(downstream[run])\n",
    "    \n",
    "    print(x, y)\n",
    "    train_x = np.array(x[:-1])\n",
    "    train_y = np.array(y[:-1])\n",
    "    \n",
    "    coefficients = get_coefficients_huber(\n",
    "        train_x, train_y,\n",
    "        chinchilla_flops_fit, grad_chinchilla_flops_fit,\n",
    "        p0=[100, -0.2, 1.5],\n",
    "        bounds=[(0, None), (None, None), (0, None)],\n",
    "        disp=False,\n",
    "    )\n",
    "    return x, y, coefficients\n",
    "\n",
    "def plot_fit_flops(ax, x, y, coefficients, title_suffix=str, use_ce_loss=True):\n",
    "    train_x = np.array(x[:-1])\n",
    "    train_y = np.array(y[:-1])\n",
    "\n",
    "    ax.scatter(x, y)\n",
    "    ax.set_title(f\"Varying flops, all {title_suffix}\")\n",
    "    ax.set_xlabel(\"GFlops (varying model size)\")\n",
    "    if use_ce_loss:\n",
    "        ax.set_ylabel(\"CE Loss (val)\")\n",
    "    else:\n",
    "        ax.set_ylabel(\"Downstream bpb\")\n",
    "    x_known = np.linspace(min(train_x), max(train_x), 100)\n",
    "    ax.plot(x_known, chinchilla_flops_fit(x_known, coefficients))\n",
    "    x_predicted = np.linspace(max(train_x), max(x), int(100 / len(x)))\n",
    "    ax.plot(x_predicted, chinchilla_flops_fit(x_predicted, coefficients), linestyle=\"dashed\")\n",
    "    \n",
    "    pred_plots = chinchilla_flops_fit(x, coefficients)\n",
    "    \n",
    "    actual = y[-1]\n",
    "    predicted = pred_plots[-1]\n",
    "    error = abs(actual - predicted) * 100 / actual\n",
    "    \n",
    "    legends = []\n",
    "    legends.append(f\"Actual value = {round(actual, 3)}\")\n",
    "    legends.append(f\"Predicted value = {round(predicted, 3)} (Error = {round(error, 3)} %)\")\n",
    "    \n",
    "    ax.legend(legends, loc=\"upper right\")"
   ]
  },
  {
   "cell_type": "code",
   "execution_count": 60,
   "id": "edd5a7c3-16fc-4d85-a291-3ef733f80027",
   "metadata": {},
   "outputs": [
    {
     "name": "stdout",
     "output_type": "stream",
     "text": [
      "[9113472000.0, 35174817792.0, 168144353280.0, 363347804160.0] [3.084535761313005, 2.8530800992792305, 2.626750360835682, 2.5230273550206963]\n",
      "coeffs: [22.98960194 -0.11648268  1.4945223 ]\n",
      "[22783680000.0, 87937044480.0, 420360883200.0, 908369510400.0] [2.9708408659154717, 2.754661050709811, 2.549873622980985, 2.443578080697493]\n",
      "coeffs: [34.38063946 -0.13836028  1.70251673]\n",
      "[45567360000.0, 175874088960.0, 840721766400.0, 1816739020800.0] [2.9188964692029087, 2.7124709432775322, 2.6000788862055, 2.5201852971857246]\n",
      "coeffs: [ 3.55494578e+04 -4.61192659e-01  2.48602508e+00]\n",
      "[9113472000.0, 35174817792.0, 168144353280.0, 363347804160.0] [0.9693014025688172, 0.8964758515357971, 0.8286612629890442, 0.802861750125885]\n",
      "coeffs: [12.42395596 -0.15018849  0.57263084]\n",
      "[22783680000.0, 87937044480.0, 420360883200.0, 908369510400.0] [0.9331845045089722, 0.867218554019928, 0.8091036081314087, 0.7784445881843567]\n",
      "coeffs: [26.27632749 -0.18844641  0.63961725]\n",
      "[45567360000.0, 175874088960.0, 840721766400.0, 1816739020800.0] [0.9166543483734132, 0.8558477163314819, 0.8232565522193909, 0.7997464537620544]\n",
      "coeffs: [ 3.57656204e+04 -5.13458092e-01  7.96063734e-01]\n"
     ]
    },
    {
     "data": {
      "image/png": "[encoded data removed]",
      "text/plain": [
       "<Figure size 1500x1000 with 6 Axes>"
      ]
     },
     "metadata": {},
     "output_type": "display_data"
    }
   ],
   "source": [
    "fix, ((ax1, ax2, ax3), (ax4, ax5, ax6)) = plt.subplots(2, 3, figsize=(15, 10))\n",
    "\n",
    "x, y, coefficients = get_x_y_coeffs_flops({key: val for key, val in validation_outputs.items() if key.endswith(\"2xC\")})\n",
    "plot_fit_flops(ax1, x, y, coefficients, \"2xC\")\n",
    "\n",
    "x, y, coefficients = get_x_y_coeffs_flops({key: val for key, val in validation_outputs.items() if key.endswith(\"5xC\")})\n",
    "plot_fit_flops(ax2, x, y, coefficients, \"5xC\")\n",
    "\n",
    "x, y, coefficients = get_x_y_coeffs_flops({key: val for key, val in validation_outputs.items() if key.endswith(\"10xC\")})\n",
    "plot_fit_flops(ax3, x, y, coefficients, \"10xC\")\n",
    "\n",
    "x, y, coefficients = get_x_y_coeffs_flops({key: val for key, val in validation_outputs.items() if key.endswith(\"2xC\")}, False)\n",
    "plot_fit_flops(ax4, x, y, coefficients, \"2xC\", False)\n",
    "\n",
    "x, y, coefficients = get_x_y_coeffs_flops({key: val for key, val in validation_outputs.items() if key.endswith(\"5xC\")}, False)\n",
    "plot_fit_flops(ax5, x, y, coefficients, \"5xC\", False)\n",
    "\n",
    "x, y, coefficients = get_x_y_coeffs_flops({key: val for key, val in validation_outputs.items() if key.endswith(\"10xC\")}, False)\n",
    "plot_fit_flops(ax6, x, y, coefficients, \"10xC\", False)\n",
    "\n",
    "plt.tight_layout()\n",
    "plt.show()"
   ]
  },
  {
   "cell_type": "code",
   "execution_count": 33,
   "id": "f1b8493d-7d01-4da7-b61b-1d265936d7ed",
   "metadata": {},
   "outputs": [
    {
     "data": {
      "text/plain": [
       "'amberish-1B-10xC'"
      ]
     },
     "execution_count": 33,
     "metadata": {},
     "output_type": "execute_result"
    }
   ],
   "source": [
    "run_name"
   ]
  },
  {
   "cell_type": "code",
   "execution_count": 53,
   "id": "d287fab3-17ff-4771-b940-1c6f0a3c42f5",
   "metadata": {},
   "outputs": [],
   "source": [
    "from olmo.scaling.scaling_laws.utils import chinchilla_n_d_fit, grad_chinchilla_n_d_fit\n",
    "\n",
    "def get_gflops_n_d(validation_outputs):\n",
    "    x = []\n",
    "    for run in validation_outputs:\n",
    "        x.append(gflops[run])\n",
    "    return x\n",
    "\n",
    "def get_x_y_coeffs_n_d(validation_outputs):\n",
    "    x = []\n",
    "    y = []\n",
    "    for run in validation_outputs:\n",
    "        x.append([ladder.parse_size(run.split(\"-\")[1]), tokens[run]])\n",
    "        y.append(ce_loss[run])\n",
    "    \n",
    "    print(x, y)\n",
    "    train_x = np.array(x[:-1])\n",
    "    train_y = np.array(y[:-1])\n",
    "    \n",
    "    coefficients = get_coefficients_huber(\n",
    "        train_x, train_y,\n",
    "        chinchilla_n_d_fit, grad_chinchilla_n_d_fit,\n",
    "        p0=[100, -0.2, 1.5, 1.5, 1.5],\n",
    "        bounds=[(0, None), (None, None), (0, None), (0, None), (0, None)],\n",
    "        disp=False,\n",
    "    )\n",
    "    return x, y, coefficients\n",
    "\n",
    "def plot_fit_n_d(ax, x, y, coefficients, title_suffix=str):\n",
    "    full_x = x\n",
    "    full_train_x = x[:-1]\n",
    "    x = [_x[1] for _x in x]\n",
    "    train_x = np.array(x[:-1])\n",
    "    train_y = np.array(y[:-1])\n",
    "\n",
    "    import ipdb\n",
    "    ipdb.set_trace()\n",
    "\n",
    "    ax.scatter(x, y)\n",
    "    ax.set_title(f\"Varying n and d, all {title_suffix}\")\n",
    "    ax.set_xlabel(\"Tokens (fit based on N and D)\")\n",
    "    ax.set_ylabel(\"CE loss (val)\")\n",
    "    x_known = np.linspace(min(train_x), max(train_x), 100)\n",
    "    ax.plot(x_known, chinchilla_n_d_fit(x_known, coefficients))\n",
    "    x_predicted = np.linspace(max(train_x), max(x), int(100 / len(x)))\n",
    "    ax.plot(x_predicted, chinchilla_n_d_fit(x_predicted, coefficients), linestyle=\"dashed\")\n",
    "    \n",
    "    pred_plots = chinchilla_n_d_fit(x, coefficients)\n",
    "    \n",
    "    actual = y[-1]\n",
    "    predicted = pred_plots[-1]\n",
    "    error = abs(actual - predicted) * 100 / actual\n",
    "    \n",
    "    legends = []\n",
    "    legends.append(f\"Actual value = {round(actual, 3)}\")\n",
    "    legends.append(f\"Predicted value = {round(predicted, 3)} (Error = {round(error, 3)} %)\")\n",
    "    \n",
    "    ax.legend(legends, loc=\"upper right\")"
   ]
  },
  {
   "cell_type": "code",
   "execution_count": 54,
   "id": "88c474bd-8072-4977-ba07-94492fa6f423",
   "metadata": {},
   "outputs": [
    {
     "name": "stdout",
     "output_type": "stream",
     "text": [
      "[[150000000, 6008340480.0], [300000000, 12014059520.0], [750000000, 30024400896.0], [1000000000, 40029913088.0]] [3.084535761313005, 2.8530800992792305, 2.626750360835682, 2.5230273550206963]\n",
      "coeffs: [86.4357988  -0.2        56.92468091  1.5         2.8530801 ]\n",
      "> \u001b[0;32m/var/folders/2h/2k7br48j493_xlq7pgyby7xw0000gp/T/ipykernel_91012/73868642.py\u001b[0m(37)\u001b[0;36mplot_fit_n_d\u001b[0;34m()\u001b[0m\n",
      "\u001b[0;32m     36 \u001b[0;31m\u001b[0;34m\u001b[0m\u001b[0m\n",
      "\u001b[0m\u001b[0;32m---> 37 \u001b[0;31m    \u001b[0max\u001b[0m\u001b[0;34m.\u001b[0m\u001b[0mscatter\u001b[0m\u001b[0;34m(\u001b[0m\u001b[0mx\u001b[0m\u001b[0;34m,\u001b[0m \u001b[0my\u001b[0m\u001b[0;34m)\u001b[0m\u001b[0;34m\u001b[0m\u001b[0;34m\u001b[0m\u001b[0m\n",
      "\u001b[0m\u001b[0;32m     38 \u001b[0;31m    \u001b[0max\u001b[0m\u001b[0;34m.\u001b[0m\u001b[0mset_title\u001b[0m\u001b[0;34m(\u001b[0m\u001b[0;34mf\"Varying n and d, all {title_suffix}\"\u001b[0m\u001b[0;34m)\u001b[0m\u001b[0;34m\u001b[0m\u001b[0;34m\u001b[0m\u001b[0m\n",
      "\u001b[0m\n"
     ]
    },
    {
     "name": "stdin",
     "output_type": "stream",
     "text": [
      "ipdb>  print(x)\n"
     ]
    },
    {
     "name": "stdout",
     "output_type": "stream",
     "text": [
      "[6008340480.0, 12014059520.0, 30024400896.0, 40029913088.0]\n"
     ]
    },
    {
     "name": "stdin",
     "output_type": "stream",
     "text": [
      "ipdb>  print(y)\n"
     ]
    },
    {
     "name": "stdout",
     "output_type": "stream",
     "text": [
      "[3.084535761313005, 2.8530800992792305, 2.626750360835682, 2.5230273550206963]\n"
     ]
    },
    {
     "name": "stdin",
     "output_type": "stream",
     "text": [
      "ipdb>  n\n"
     ]
    },
    {
     "name": "stdout",
     "output_type": "stream",
     "text": [
      "> \u001b[0;32m/var/folders/2h/2k7br48j493_xlq7pgyby7xw0000gp/T/ipykernel_91012/73868642.py\u001b[0m(38)\u001b[0;36mplot_fit_n_d\u001b[0;34m()\u001b[0m\n",
      "\u001b[0;32m     37 \u001b[0;31m    \u001b[0max\u001b[0m\u001b[0;34m.\u001b[0m\u001b[0mscatter\u001b[0m\u001b[0;34m(\u001b[0m\u001b[0mx\u001b[0m\u001b[0;34m,\u001b[0m \u001b[0my\u001b[0m\u001b[0;34m)\u001b[0m\u001b[0;34m\u001b[0m\u001b[0;34m\u001b[0m\u001b[0m\n",
      "\u001b[0m\u001b[0;32m---> 38 \u001b[0;31m    \u001b[0max\u001b[0m\u001b[0;34m.\u001b[0m\u001b[0mset_title\u001b[0m\u001b[0;34m(\u001b[0m\u001b[0;34mf\"Varying n and d, all {title_suffix}\"\u001b[0m\u001b[0;34m)\u001b[0m\u001b[0;34m\u001b[0m\u001b[0;34m\u001b[0m\u001b[0m\n",
      "\u001b[0m\u001b[0;32m     39 \u001b[0;31m    \u001b[0max\u001b[0m\u001b[0;34m.\u001b[0m\u001b[0mset_xlabel\u001b[0m\u001b[0;34m(\u001b[0m\u001b[0;34m\"Tokens (fit based on N and D)\"\u001b[0m\u001b[0;34m)\u001b[0m\u001b[0;34m\u001b[0m\u001b[0;34m\u001b[0m\u001b[0m\n",
      "\u001b[0m\n"
     ]
    },
    {
     "name": "stdin",
     "output_type": "stream",
     "text": [
      "ipdb>  n\n"
     ]
    },
    {
     "name": "stdout",
     "output_type": "stream",
     "text": [
      "> \u001b[0;32m/var/folders/2h/2k7br48j493_xlq7pgyby7xw0000gp/T/ipykernel_91012/73868642.py\u001b[0m(39)\u001b[0;36mplot_fit_n_d\u001b[0;34m()\u001b[0m\n",
      "\u001b[0;32m     38 \u001b[0;31m    \u001b[0max\u001b[0m\u001b[0;34m.\u001b[0m\u001b[0mset_title\u001b[0m\u001b[0;34m(\u001b[0m\u001b[0;34mf\"Varying n and d, all {title_suffix}\"\u001b[0m\u001b[0;34m)\u001b[0m\u001b[0;34m\u001b[0m\u001b[0;34m\u001b[0m\u001b[0m\n",
      "\u001b[0m\u001b[0;32m---> 39 \u001b[0;31m    \u001b[0max\u001b[0m\u001b[0;34m.\u001b[0m\u001b[0mset_xlabel\u001b[0m\u001b[0;34m(\u001b[0m\u001b[0;34m\"Tokens (fit based on N and D)\"\u001b[0m\u001b[0;34m)\u001b[0m\u001b[0;34m\u001b[0m\u001b[0;34m\u001b[0m\u001b[0m\n",
      "\u001b[0m\u001b[0;32m     40 \u001b[0;31m    \u001b[0max\u001b[0m\u001b[0;34m.\u001b[0m\u001b[0mset_ylabel\u001b[0m\u001b[0;34m(\u001b[0m\u001b[0;34m\"CE loss (val)\"\u001b[0m\u001b[0;34m)\u001b[0m\u001b[0;34m\u001b[0m\u001b[0;34m\u001b[0m\u001b[0m\n",
      "\u001b[0m\n"
     ]
    },
    {
     "name": "stdin",
     "output_type": "stream",
     "text": [
      "ipdb>  n\n"
     ]
    },
    {
     "name": "stdout",
     "output_type": "stream",
     "text": [
      "> \u001b[0;32m/var/folders/2h/2k7br48j493_xlq7pgyby7xw0000gp/T/ipykernel_91012/73868642.py\u001b[0m(40)\u001b[0;36mplot_fit_n_d\u001b[0;34m()\u001b[0m\n",
      "\u001b[0;32m     39 \u001b[0;31m    \u001b[0max\u001b[0m\u001b[0;34m.\u001b[0m\u001b[0mset_xlabel\u001b[0m\u001b[0;34m(\u001b[0m\u001b[0;34m\"Tokens (fit based on N and D)\"\u001b[0m\u001b[0;34m)\u001b[0m\u001b[0;34m\u001b[0m\u001b[0;34m\u001b[0m\u001b[0m\n",
      "\u001b[0m\u001b[0;32m---> 40 \u001b[0;31m    \u001b[0max\u001b[0m\u001b[0;34m.\u001b[0m\u001b[0mset_ylabel\u001b[0m\u001b[0;34m(\u001b[0m\u001b[0;34m\"CE loss (val)\"\u001b[0m\u001b[0;34m)\u001b[0m\u001b[0;34m\u001b[0m\u001b[0;34m\u001b[0m\u001b[0m\n",
      "\u001b[0m\u001b[0;32m     41 \u001b[0;31m    \u001b[0mx_known\u001b[0m \u001b[0;34m=\u001b[0m \u001b[0mnp\u001b[0m\u001b[0;34m.\u001b[0m\u001b[0mlinspace\u001b[0m\u001b[0;34m(\u001b[0m\u001b[0mmin\u001b[0m\u001b[0;34m(\u001b[0m\u001b[0mtrain_x\u001b[0m\u001b[0;34m)\u001b[0m\u001b[0;34m,\u001b[0m \u001b[0mmax\u001b[0m\u001b[0;34m(\u001b[0m\u001b[0mtrain_x\u001b[0m\u001b[0;34m)\u001b[0m\u001b[0;34m,\u001b[0m \u001b[0;36m100\u001b[0m\u001b[0;34m)\u001b[0m\u001b[0;34m\u001b[0m\u001b[0;34m\u001b[0m\u001b[0m\n",
      "\u001b[0m\n"
     ]
    },
    {
     "name": "stdin",
     "output_type": "stream",
     "text": [
      "ipdb>  n\n"
     ]
    },
    {
     "name": "stdout",
     "output_type": "stream",
     "text": [
      "> \u001b[0;32m/var/folders/2h/2k7br48j493_xlq7pgyby7xw0000gp/T/ipykernel_91012/73868642.py\u001b[0m(41)\u001b[0;36mplot_fit_n_d\u001b[0;34m()\u001b[0m\n",
      "\u001b[0;32m     40 \u001b[0;31m    \u001b[0max\u001b[0m\u001b[0;34m.\u001b[0m\u001b[0mset_ylabel\u001b[0m\u001b[0;34m(\u001b[0m\u001b[0;34m\"CE loss (val)\"\u001b[0m\u001b[0;34m)\u001b[0m\u001b[0;34m\u001b[0m\u001b[0;34m\u001b[0m\u001b[0m\n",
      "\u001b[0m\u001b[0;32m---> 41 \u001b[0;31m    \u001b[0mx_known\u001b[0m \u001b[0;34m=\u001b[0m \u001b[0mnp\u001b[0m\u001b[0;34m.\u001b[0m\u001b[0mlinspace\u001b[0m\u001b[0;34m(\u001b[0m\u001b[0mmin\u001b[0m\u001b[0;34m(\u001b[0m\u001b[0mtrain_x\u001b[0m\u001b[0;34m)\u001b[0m\u001b[0;34m,\u001b[0m \u001b[0mmax\u001b[0m\u001b[0;34m(\u001b[0m\u001b[0mtrain_x\u001b[0m\u001b[0;34m)\u001b[0m\u001b[0;34m,\u001b[0m \u001b[0;36m100\u001b[0m\u001b[0;34m)\u001b[0m\u001b[0;34m\u001b[0m\u001b[0;34m\u001b[0m\u001b[0m\n",
      "\u001b[0m\u001b[0;32m     42 \u001b[0;31m    \u001b[0max\u001b[0m\u001b[0;34m.\u001b[0m\u001b[0mplot\u001b[0m\u001b[0;34m(\u001b[0m\u001b[0mx_known\u001b[0m\u001b[0;34m,\u001b[0m \u001b[0mchinchilla_n_d_fit\u001b[0m\u001b[0;34m(\u001b[0m\u001b[0mx_known\u001b[0m\u001b[0;34m,\u001b[0m \u001b[0mcoefficients\u001b[0m\u001b[0;34m)\u001b[0m\u001b[0;34m)\u001b[0m\u001b[0;34m\u001b[0m\u001b[0;34m\u001b[0m\u001b[0m\n",
      "\u001b[0m\n"
     ]
    },
    {
     "name": "stdin",
     "output_type": "stream",
     "text": [
      "ipdb>  n\n"
     ]
    },
    {
     "name": "stdout",
     "output_type": "stream",
     "text": [
      "> \u001b[0;32m/var/folders/2h/2k7br48j493_xlq7pgyby7xw0000gp/T/ipykernel_91012/73868642.py\u001b[0m(42)\u001b[0;36mplot_fit_n_d\u001b[0;34m()\u001b[0m\n",
      "\u001b[0;32m     41 \u001b[0;31m    \u001b[0mx_known\u001b[0m \u001b[0;34m=\u001b[0m \u001b[0mnp\u001b[0m\u001b[0;34m.\u001b[0m\u001b[0mlinspace\u001b[0m\u001b[0;34m(\u001b[0m\u001b[0mmin\u001b[0m\u001b[0;34m(\u001b[0m\u001b[0mtrain_x\u001b[0m\u001b[0;34m)\u001b[0m\u001b[0;34m,\u001b[0m \u001b[0mmax\u001b[0m\u001b[0;34m(\u001b[0m\u001b[0mtrain_x\u001b[0m\u001b[0;34m)\u001b[0m\u001b[0;34m,\u001b[0m \u001b[0;36m100\u001b[0m\u001b[0;34m)\u001b[0m\u001b[0;34m\u001b[0m\u001b[0;34m\u001b[0m\u001b[0m\n",
      "\u001b[0m\u001b[0;32m---> 42 \u001b[0;31m    \u001b[0max\u001b[0m\u001b[0;34m.\u001b[0m\u001b[0mplot\u001b[0m\u001b[0;34m(\u001b[0m\u001b[0mx_known\u001b[0m\u001b[0;34m,\u001b[0m \u001b[0mchinchilla_n_d_fit\u001b[0m\u001b[0;34m(\u001b[0m\u001b[0mx_known\u001b[0m\u001b[0;34m,\u001b[0m \u001b[0mcoefficients\u001b[0m\u001b[0;34m)\u001b[0m\u001b[0;34m)\u001b[0m\u001b[0;34m\u001b[0m\u001b[0;34m\u001b[0m\u001b[0m\n",
      "\u001b[0m\u001b[0;32m     43 \u001b[0;31m    \u001b[0mx_predicted\u001b[0m \u001b[0;34m=\u001b[0m \u001b[0mnp\u001b[0m\u001b[0;34m.\u001b[0m\u001b[0mlinspace\u001b[0m\u001b[0;34m(\u001b[0m\u001b[0mmax\u001b[0m\u001b[0;34m(\u001b[0m\u001b[0mtrain_x\u001b[0m\u001b[0;34m)\u001b[0m\u001b[0;34m,\u001b[0m \u001b[0mmax\u001b[0m\u001b[0;34m(\u001b[0m\u001b[0mx\u001b[0m\u001b[0;34m)\u001b[0m\u001b[0;34m,\u001b[0m \u001b[0mint\u001b[0m\u001b[0;34m(\u001b[0m\u001b[0;36m100\u001b[0m \u001b[0;34m/\u001b[0m \u001b[0mlen\u001b[0m\u001b[0;34m(\u001b[0m\u001b[0mx\u001b[0m\u001b[0;34m)\u001b[0m\u001b[0;34m)\u001b[0m\u001b[0;34m)\u001b[0m\u001b[0;34m\u001b[0m\u001b[0;34m\u001b[0m\u001b[0m\n",
      "\u001b[0m\n"
     ]
    },
    {
     "name": "stdin",
     "output_type": "stream",
     "text": [
      "ipdb>  print(x_train)\n"
     ]
    },
    {
     "name": "stdout",
     "output_type": "stream",
     "text": [
      "*** NameError: name 'x_train' is not defined\n"
     ]
    },
    {
     "name": "stdin",
     "output_type": "stream",
     "text": [
      "ipdb>  print(x_known)\n"
     ]
    },
    {
     "name": "stdout",
     "output_type": "stream",
     "text": [
      "[6.00834048e+09 6.25092695e+09 6.49351342e+09 6.73609989e+09\n",
      " 6.97868636e+09 7.22127282e+09 7.46385929e+09 7.70644576e+09\n",
      " 7.94903223e+09 8.19161870e+09 8.43420517e+09 8.67679164e+09\n",
      " 8.91937811e+09 9.16196458e+09 9.40455104e+09 9.64713751e+09\n",
      " 9.88972398e+09 1.01323105e+10 1.03748969e+10 1.06174834e+10\n",
      " 1.08600699e+10 1.11026563e+10 1.13452428e+10 1.15878293e+10\n",
      " 1.18304157e+10 1.20730022e+10 1.23155887e+10 1.25581751e+10\n",
      " 1.28007616e+10 1.30433481e+10 1.32859345e+10 1.35285210e+10\n",
      " 1.37711075e+10 1.40136940e+10 1.42562804e+10 1.44988669e+10\n",
      " 1.47414534e+10 1.49840398e+10 1.52266263e+10 1.54692128e+10\n",
      " 1.57117992e+10 1.59543857e+10 1.61969722e+10 1.64395586e+10\n",
      " 1.66821451e+10 1.69247316e+10 1.71673180e+10 1.74099045e+10\n",
      " 1.76524910e+10 1.78950775e+10 1.81376639e+10 1.83802504e+10\n",
      " 1.86228369e+10 1.88654233e+10 1.91080098e+10 1.93505963e+10\n",
      " 1.95931827e+10 1.98357692e+10 2.00783557e+10 2.03209421e+10\n",
      " 2.05635286e+10 2.08061151e+10 2.10487015e+10 2.12912880e+10\n",
      " 2.15338745e+10 2.17764610e+10 2.20190474e+10 2.22616339e+10\n",
      " 2.25042204e+10 2.27468068e+10 2.29893933e+10 2.32319798e+10\n",
      " 2.34745662e+10 2.37171527e+10 2.39597392e+10 2.42023256e+10\n",
      " 2.44449121e+10 2.46874986e+10 2.49300851e+10 2.51726715e+10\n",
      " 2.54152580e+10 2.56578445e+10 2.59004309e+10 2.61430174e+10\n",
      " 2.63856039e+10 2.66281903e+10 2.68707768e+10 2.71133633e+10\n",
      " 2.73559497e+10 2.75985362e+10 2.78411227e+10 2.80837091e+10\n",
      " 2.83262956e+10 2.85688821e+10 2.88114686e+10 2.90540550e+10\n",
      " 2.92966415e+10 2.95392280e+10 2.97818144e+10 3.00244009e+10]\n"
     ]
    },
    {
     "name": "stdin",
     "output_type": "stream",
     "text": [
      "ipdb>  q()\n"
     ]
    },
    {
     "data": {
      "image/png": "[encoded data removed]",
      "text/plain": [
       "<Figure size 1500x500 with 3 Axes>"
      ]
     },
     "metadata": {},
     "output_type": "display_data"
    }
   ],
   "source": [
    "fix, (ax1, ax2, ax3) = plt.subplots(1, 3, figsize=(15, 5))\n",
    "\n",
    "x, y, coefficients = get_x_y_coeffs_n_d({key: val for key, val in validation_outputs.items() if key.endswith(\"2xC\")})\n",
    "#x_gflops = get_gflops_n_d({key: val for key, val in validation_outputs.items() if key.endswith(\"2xC\")})\n",
    "plot_fit_n_d(ax1, x, y, coefficients, \"2xC\")\n",
    "\n",
    "# x, y, coefficients = get_x_y_coeffs_n_d({key: val for key, val in validation_outputs.items() if key.endswith(\"5xC\")})\n",
    "# plot_fit_n_d(ax2, x, y, coefficients, \"5xC\")\n",
    "\n",
    "# x, y, coefficients = get_x_y_coeffs_n_d({key: val for key, val in validation_outputs.items() if key.endswith(\"10xC\")})\n",
    "# plot_fit_n_d(ax3, x, y, coefficients, \"10xC\")\n",
    "\n",
    "plt.tight_layout()\n",
    "plt.show()"
   ]
  },
  {
   "cell_type": "code",
   "execution_count": null,
   "id": "b6453d57-a681-447c-b8d5-9b0edbf98d20",
   "metadata": {},
   "outputs": [],
   "source": []
  }
 ],
 "metadata": {
  "kernelspec": {
   "display_name": "Python 3 (ipykernel)",
   "language": "python",
   "name": "python3"
  },
  "language_info": {
   "codemirror_mode": {
    "name": "ipython",
    "version": 3
   },
   "file_extension": ".py",
   "mimetype": "text/x-python",
   "name": "python",
   "nbconvert_exporter": "python",
   "pygments_lexer": "ipython3",
   "version": "3.10.13"
  }
 },
 "nbformat": 4,
 "nbformat_minor": 5
}
