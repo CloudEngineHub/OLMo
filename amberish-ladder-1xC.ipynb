{
 "cells": [
  {
   "cell_type": "markdown",
   "id": "6fefe280-02a6-4254-9603-4b76854c71e9",
   "metadata": {},
   "source": [
    "### 1. Download W&B results"
   ]
  },
  {
   "cell_type": "code",
   "execution_count": 1,
   "id": "9fafc19d-f88f-4ddd-9969-5c9549001f10",
   "metadata": {},
   "outputs": [
    {
     "name": "stderr",
     "output_type": "stream",
     "text": [
      "/Users/akshitab/virtuals/olmo/lib/python3.10/site-packages/tqdm/auto.py:21: TqdmWarning: IProgress not found. Please update jupyter and ipywidgets. See https://ipywidgets.readthedocs.io/en/stable/user_install.html\n",
      "  from .autonotebook import tqdm as notebook_tqdm\n"
     ]
    }
   ],
   "source": [
    "from olmo.scaling.scaling_laws.download_wandb_logs import main as download_wb\n",
    "from argparse import Namespace"
   ]
  },
  {
   "cell_type": "code",
   "execution_count": 32,
   "id": "9b256b3e-b831-444b-a155-ab0095367d36",
   "metadata": {},
   "outputs": [
    {
     "name": "stdout",
     "output_type": "stream",
     "text": [
      "Found 2 matching runs in ai2-llm/olmo-ladder\n",
      "Downloading the data from the following wandb runs:\n",
      " <Run ai2-llm/olmo-ladder/apwh1wq9 (finished)>\n",
      "<Run ai2-llm/olmo-ladder/jlq83qfw (failed)>\n"
     ]
    },
    {
     "name": "stderr",
     "output_type": "stream",
     "text": [
      "  0%|                                                                                                                            | 0/2 [00:00<?, ?it/s]"
     ]
    },
    {
     "name": "stdout",
     "output_type": "stream",
     "text": [
      "Processing amberish-150M-1xC\n"
     ]
    },
    {
     "name": "stderr",
     "output_type": "stream",
     "text": [
      " 50%|██████████████████████████████████████████████████████████                                                          | 1/2 [00:00<00:00,  2.79it/s]"
     ]
    },
    {
     "name": "stdout",
     "output_type": "stream",
     "text": [
      "Processing amberish-150M-1xC\n"
     ]
    },
    {
     "name": "stderr",
     "output_type": "stream",
     "text": [
      "100%|████████████████████████████████████████████████████████████████████████████████████████████████████████████████████| 2/2 [00:00<00:00,  2.47it/s]\n"
     ]
    },
    {
     "name": "stdout",
     "output_type": "stream",
     "text": [
      "Found 2 matching runs in ai2-llm/olmo-ladder\n",
      "Downloading the data from the following wandb runs:\n",
      " <Run ai2-llm/olmo-ladder/apwh1wq9 (finished)>\n",
      "<Run ai2-llm/olmo-ladder/jlq83qfw (failed)>\n"
     ]
    },
    {
     "name": "stderr",
     "output_type": "stream",
     "text": [
      "  0%|                                                                                                                            | 0/2 [00:00<?, ?it/s]"
     ]
    },
    {
     "name": "stdout",
     "output_type": "stream",
     "text": [
      "Processing amberish-150M-1xC\n"
     ]
    },
    {
     "name": "stderr",
     "output_type": "stream",
     "text": [
      " 50%|██████████████████████████████████████████████████████████                                                          | 1/2 [00:00<00:00,  1.62it/s]"
     ]
    },
    {
     "name": "stdout",
     "output_type": "stream",
     "text": [
      "Processing amberish-150M-1xC\n"
     ]
    },
    {
     "name": "stderr",
     "output_type": "stream",
     "text": [
      "100%|████████████████████████████████████████████████████████████████████████████████████████████████████████████████████| 2/2 [00:01<00:00,  1.96it/s]\n"
     ]
    },
    {
     "name": "stdout",
     "output_type": "stream",
     "text": [
      "Found 1 matching runs in ai2-llm/olmo-ladder\n",
      "Downloading the data from the following wandb runs:\n",
      " <Run ai2-llm/olmo-ladder/ucw3j6hh (finished)>\n"
     ]
    },
    {
     "name": "stderr",
     "output_type": "stream",
     "text": [
      "  0%|                                                                                                                            | 0/1 [00:00<?, ?it/s]"
     ]
    },
    {
     "name": "stdout",
     "output_type": "stream",
     "text": [
      "Processing amberish-300M-1xC\n"
     ]
    },
    {
     "name": "stderr",
     "output_type": "stream",
     "text": [
      "100%|████████████████████████████████████████████████████████████████████████████████████████████████████████████████████| 1/1 [00:00<00:00,  2.62it/s]\n"
     ]
    },
    {
     "name": "stdout",
     "output_type": "stream",
     "text": [
      "Found 1 matching runs in ai2-llm/olmo-ladder\n",
      "Downloading the data from the following wandb runs:\n",
      " <Run ai2-llm/olmo-ladder/ucw3j6hh (finished)>\n"
     ]
    },
    {
     "name": "stderr",
     "output_type": "stream",
     "text": [
      "  0%|                                                                                                                            | 0/1 [00:00<?, ?it/s]"
     ]
    },
    {
     "name": "stdout",
     "output_type": "stream",
     "text": [
      "Processing amberish-300M-1xC\n"
     ]
    },
    {
     "name": "stderr",
     "output_type": "stream",
     "text": [
      "100%|████████████████████████████████████████████████████████████████████████████████████████████████████████████████████| 1/1 [00:00<00:00,  2.20it/s]\n"
     ]
    },
    {
     "name": "stdout",
     "output_type": "stream",
     "text": [
      "Found 1 matching runs in ai2-llm/olmo-ladder\n",
      "Downloading the data from the following wandb runs:\n",
      " <Run ai2-llm/olmo-ladder/cbij58b6 (finished)>\n"
     ]
    },
    {
     "name": "stderr",
     "output_type": "stream",
     "text": [
      "  0%|                                                                                                                            | 0/1 [00:00<?, ?it/s]"
     ]
    },
    {
     "name": "stdout",
     "output_type": "stream",
     "text": [
      "Processing amberish-750M-1xC\n"
     ]
    },
    {
     "name": "stderr",
     "output_type": "stream",
     "text": [
      "100%|████████████████████████████████████████████████████████████████████████████████████████████████████████████████████| 1/1 [00:00<00:00,  2.18it/s]\n"
     ]
    },
    {
     "name": "stdout",
     "output_type": "stream",
     "text": [
      "Found 1 matching runs in ai2-llm/olmo-ladder\n",
      "Downloading the data from the following wandb runs:\n",
      " <Run ai2-llm/olmo-ladder/cbij58b6 (finished)>\n"
     ]
    },
    {
     "name": "stderr",
     "output_type": "stream",
     "text": [
      "  0%|                                                                                                                            | 0/1 [00:00<?, ?it/s]"
     ]
    },
    {
     "name": "stdout",
     "output_type": "stream",
     "text": [
      "Processing amberish-750M-1xC\n"
     ]
    },
    {
     "name": "stderr",
     "output_type": "stream",
     "text": [
      "100%|████████████████████████████████████████████████████████████████████████████████████████████████████████████████████| 1/1 [00:00<00:00,  2.60it/s]\n"
     ]
    },
    {
     "name": "stdout",
     "output_type": "stream",
     "text": [
      "Found 1 matching runs in ai2-llm/olmo-ladder\n",
      "Downloading the data from the following wandb runs:\n",
      " <Run ai2-llm/olmo-ladder/qah1jr09 (finished)>\n"
     ]
    },
    {
     "name": "stderr",
     "output_type": "stream",
     "text": [
      "  0%|                                                                                                                            | 0/1 [00:00<?, ?it/s]"
     ]
    },
    {
     "name": "stdout",
     "output_type": "stream",
     "text": [
      "Processing amberish-1B-1xC\n"
     ]
    },
    {
     "name": "stderr",
     "output_type": "stream",
     "text": [
      "100%|████████████████████████████████████████████████████████████████████████████████████████████████████████████████████| 1/1 [00:00<00:00,  2.82it/s]\n"
     ]
    },
    {
     "name": "stdout",
     "output_type": "stream",
     "text": [
      "Found 1 matching runs in ai2-llm/olmo-ladder\n",
      "Downloading the data from the following wandb runs:\n",
      " <Run ai2-llm/olmo-ladder/qah1jr09 (finished)>\n"
     ]
    },
    {
     "name": "stderr",
     "output_type": "stream",
     "text": [
      "  0%|                                                                                                                            | 0/1 [00:00<?, ?it/s]"
     ]
    },
    {
     "name": "stdout",
     "output_type": "stream",
     "text": [
      "Processing amberish-1B-1xC\n"
     ]
    },
    {
     "name": "stderr",
     "output_type": "stream",
     "text": [
      "100%|████████████████████████████████████████████████████████████████████████████████████████████████████████████████████| 1/1 [00:00<00:00,  2.46it/s]\n"
     ]
    }
   ],
   "source": [
    "run_names = [\n",
    "    \"ai2-llm/olmo-ladder/amberish-150M-1xC\",\n",
    "    \"ai2-llm/olmo-ladder/amberish-300M-1xC\",\n",
    "    \"ai2-llm/olmo-ladder/amberish-750M-1xC\",\n",
    "    \"ai2-llm/olmo-ladder/amberish-1B-1xC\"\n",
    "]\n",
    "\n",
    "validation_outputs = {}\n",
    "downstream_outputs = {}\n",
    "\n",
    "for run_name in run_names:\n",
    "\n",
    "    output_name = run_name.split(\"/\")[-1]\n",
    "    output_path = f\"wandb/{output_name}-all-val.csv\"\n",
    "    args = Namespace(\n",
    "        wandb_names=[run_name],\n",
    "        x_axis=\"throughput/total_training_Gflops\",\n",
    "        y_axis=[\"eval/all-validation/CrossEntropyLoss\"],\n",
    "        output_path=output_path,\n",
    "    )\n",
    "    download_wb(args)\n",
    "    validation_outputs[output_name] = output_path\n",
    "\n",
    "    output_path = f\"wandb/{output_name}-all-downstream.csv\"\n",
    "    args = Namespace(\n",
    "        wandb_names=[run_name],\n",
    "        x_axis=\"throughput/total_training_Gflops\",\n",
    "        y_axis=[\"eval/downstream/all\"],\n",
    "        output_path=output_path,\n",
    "    )\n",
    "    download_wb(args)\n",
    "    downstream_outputs[output_name] = output_path"
   ]
  },
  {
   "cell_type": "code",
   "execution_count": null,
   "id": "aa64f207-23bf-4c10-8128-b028fd82ffdd",
   "metadata": {},
   "outputs": [],
   "source": []
  },
  {
   "cell_type": "markdown",
   "id": "db00daf8-9411-48c3-a6fe-c7ae89bfaec2",
   "metadata": {},
   "source": [
    "## 2. Fitting a power law to the results of the model ladder\n"
   ]
  },
  {
   "cell_type": "code",
   "execution_count": 25,
   "id": "74a34e03-f009-4e89-bf8c-3b8cfef8e7e8",
   "metadata": {},
   "outputs": [],
   "source": [
    "import pandas as pd"
   ]
  },
  {
   "cell_type": "code",
   "execution_count": 28,
   "id": "720ece73-e739-439f-968e-d0cd80facf68",
   "metadata": {},
   "outputs": [],
   "source": [
    "df = pd.read_csv(args.output_path)"
   ]
  },
  {
   "cell_type": "code",
   "execution_count": 31,
   "id": "c44b0505-f4dd-4891-9412-fbef02cf5580",
   "metadata": {},
   "outputs": [
    {
     "data": {
      "text/plain": [
       "181940730754.81943"
      ]
     },
     "execution_count": 31,
     "metadata": {},
     "output_type": "execute_result"
    }
   ],
   "source": [
    "df[\"throughput/total_training_Gflops\"].values[-1]"
   ]
  },
  {
   "cell_type": "code",
   "execution_count": 41,
   "id": "a313571a-7650-4e1d-9cdf-52625ea68ab8",
   "metadata": {},
   "outputs": [],
   "source": [
    "ce_loss = {}\n",
    "downstream = {}\n",
    "gflops = {}\n",
    "for run_name, output_path in validation_outputs.items():\n",
    "    df_val = pd.read_csv(output_path)\n",
    "    gflops[run_name] = df_val[\"throughput/total_training_Gflops\"].values[-1]\n",
    "    \n",
    "    ce_loss[run_name] = (df_val[\"eval/c4_en-validation/CrossEntropyLoss\"].values[-1] + df_val[\"eval/pile-validation/CrossEntropyLoss\"].values[-1]) / 2\n",
    "\n",
    "    df_down = pd.read_csv(downstream_outputs[run_name])\n",
    "    downstream[run_name] = df_down[\"eval/downstream/hellaswag_len_norm\"].values[-1]"
   ]
  },
  {
   "cell_type": "code",
   "execution_count": 42,
   "id": "e5bab8d4-6545-4f4b-9bdc-2663e7e39f86",
   "metadata": {},
   "outputs": [
    {
     "data": {
      "text/plain": [
       "{'amberish-150M-1xC': 3.1409857273101807,\n",
       " 'amberish-300M-1xC': 2.909250020980835,\n",
       " 'amberish-750M-1xC': 2.662544012069702,\n",
       " 'amberish-1B-1xC': 2.559367537498474}"
      ]
     },
     "execution_count": 42,
     "metadata": {},
     "output_type": "execute_result"
    }
   ],
   "source": [
    "ce_loss"
   ]
  },
  {
   "cell_type": "code",
   "execution_count": 43,
   "id": "39dc6dfa-500e-4d8f-a248-03b279dce648",
   "metadata": {},
   "outputs": [
    {
     "data": {
      "text/plain": [
       "{'amberish-150M-1xC': 4569042832.5888,\n",
       " 'amberish-300M-1xC': 17627224913.750263,\n",
       " 'amberish-750M-1xC': 84206674904.64223,\n",
       " 'amberish-1B-1xC': 181940730754.81943}"
      ]
     },
     "execution_count": 43,
     "metadata": {},
     "output_type": "execute_result"
    }
   ],
   "source": [
    "gflops"
   ]
  },
  {
   "cell_type": "code",
   "execution_count": 44,
   "id": "029daa9b-4a4a-458e-be86-c0d59959cebe",
   "metadata": {},
   "outputs": [
    {
     "data": {
      "text/plain": [
       "{'amberish-150M-1xC': 0.2932682633399963,\n",
       " 'amberish-300M-1xC': 0.335789680480957,\n",
       " 'amberish-750M-1xC': 0.4260107576847076,\n",
       " 'amberish-1B-1xC': 0.4780920147895813}"
      ]
     },
     "execution_count": 44,
     "metadata": {},
     "output_type": "execute_result"
    }
   ],
   "source": [
    "downstream"
   ]
  },
  {
   "cell_type": "code",
   "execution_count": null,
   "id": "9c604367-ff72-4ff3-9b31-3bca9680f87d",
   "metadata": {},
   "outputs": [],
   "source": []
  },
  {
   "cell_type": "code",
   "execution_count": 47,
   "id": "d41230b0-d05d-4566-9d45-74708db84462",
   "metadata": {},
   "outputs": [],
   "source": [
    "import re\n",
    "run_name_re = re.compile(r\"^([^-]+)-([^-]+)-([^-]+)$\")\n",
    "_number_unit_re = re.compile(r\"^([0-9]+)([a-zA-Z]+)$\")\n",
    "\n",
    "def parse_size(size: str) -> int:\n",
    "    model_size, model_size_unit = _number_unit_re.match(size.strip().upper()).groups()  # type: ignore\n",
    "    model_size = int(model_size)\n",
    "    if model_size_unit == \"K\":\n",
    "        model_size *= 1000\n",
    "    elif model_size_unit == \"M\":\n",
    "        model_size *= 1000000\n",
    "    elif model_size_unit == \"B\":\n",
    "        model_size *= 1000000000\n",
    "    else:\n",
    "        raise ValueError(f\"Could not parse model size unit '{model_size_unit}'\")\n",
    "    return model_size\n",
    "\n",
    "\n",
    "def parse_length(length: str, model_size: int) -> int:\n",
    "    length_in_tokens, length_unit = _number_unit_re.match(length.strip().upper()).groups()  # type: ignore\n",
    "    length_in_tokens = int(length_in_tokens)\n",
    "    if length_unit == \"C\" or length_unit == \"XC\":\n",
    "        length_in_tokens *= 20 * model_size\n",
    "    elif length_unit == \"K\":\n",
    "        length_in_tokens *= 1000\n",
    "    elif length_unit == \"M\":\n",
    "        length_in_tokens *= 1000000\n",
    "    elif length_unit == \"B\":\n",
    "        length_in_tokens *= 1000000000\n",
    "    elif length_unit == \"T\":\n",
    "        length_in_tokens *= 1000000000000\n",
    "    else:\n",
    "        raise ValueError(f\"Could not parse length '{args.length}'\")\n",
    "    return length_in_tokens\n",
    "\n",
    "def parse_run_name(name: str):\n",
    "    name, size, length = run_name_re.match(name).groups()\n",
    "    size = parse_size(size)\n",
    "    length = parse_length(length, size)\n",
    "    return name, size, length"
   ]
  },
  {
   "cell_type": "code",
   "execution_count": null,
   "id": "10bba5a0-2c4f-4b81-8e9a-823fa6b71e1b",
   "metadata": {},
   "outputs": [],
   "source": [
    "import numpy as np\n",
    "\n",
    "def power_law(x, a, b, c):\n",
    "    return a * x ** b + c\n",
    "\n",
    "power_law_bounds = ([0, -np.inf, 0], [np.inf, 0, np.inf])\n",
    "\n",
    "from scipy.optimize import curve_fit\n",
    "\n",
    "fix, ax1 = plt.subplots(1, figsize=(10, 5))\n",
    "\n",
    "# model size\n",
    "x = []\n",
    "y = []\n",
    "for run in [\"baseline-150M-1xC\", \"baseline-300M-1xC\", \"baseline-530M-1xC\", \"baseline-750M-1xC\", \"baseline-1B-1xC\"]:\n",
    "#for run in [\"baseline-150M-1xC\", \"baseline-300M-1xC\", \"baseline-750M-1xC\", \"baseline-1B-1xC\"]:\n",
    "    _, size, _ = run_name_re.match(run).groups()\n",
    "    _, size = ladder.size_for_model(size)\n",
    "    #x.append(size)\n",
    "    x.append(gflops[run])\n",
    "    y.append((pile_ce[run] + c4_ce[run])/2)\n",
    "\n",
    "train_x = np.array(x[:-1])\n",
    "train_y = np.array(y[:-1])\n",
    "popt, pcov = curve_fit(power_law, train_x, train_y, p0=(100, -0.2, 1.5), bounds=power_law_bounds, max_nfev=50000)\n",
    "print(popt)\n",
    "ax1.scatter(x, y)\n",
    "ax1.set_title(\"Varying flops, all Cx1\")\n",
    "ax1.set_xlabel(\"GFlops\")\n",
    "ax1.set_ylabel(\"CE on Pile and C4\")\n",
    "x = np.linspace(min(x), max(x), 100)\n",
    "ax1.plot(x, power_law(x, *popt))\n",
    "\n",
    "pred_plots = power_law(x, *popt)\n",
    "\n",
    "print(\"x: \", train_x)\n",
    "print(\"actual y\", y)\n",
    "print(\"chinchilla fit\", popt)\n",
    "print(\"predicted y at 1b\", pred_plots[-1])\n",
    "\n",
    "plt.tight_layout()\n",
    "plt.show()"
   ]
  }
 ],
 "metadata": {
  "kernelspec": {
   "display_name": "Python 3 (ipykernel)",
   "language": "python",
   "name": "python3"
  },
  "language_info": {
   "codemirror_mode": {
    "name": "ipython",
    "version": 3
   },
   "file_extension": ".py",
   "mimetype": "text/x-python",
   "name": "python",
   "nbconvert_exporter": "python",
   "pygments_lexer": "ipython3",
   "version": "3.10.13"
  }
 },
 "nbformat": 4,
 "nbformat_minor": 5
}
