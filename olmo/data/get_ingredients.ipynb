{
 "cells": [
  {
   "cell_type": "code",
   "execution_count": 1,
   "id": "965e3dd4",
   "metadata": {},
   "outputs": [
    {
     "name": "stdout",
     "output_type": "stream",
     "text": [
      "['DCLM-baseline', 'algebraic_stack', 'arxiv', 'c4', 'cc_eli5_oh_top10p', 'cc_eli5_oh_top20p', 'cc_news', 'cc_og_eli5_oh_top10p', 'cc_tulu_qc_top10', 'dclm_ft7percentile_fw2', 'dclm_ft7percentile_fw3', 'dclm_fw_top10', 'dclm_fw_top3', 'falcon', 'falcon_eli5_oh_top10p', 'falcon_eli5_oh_top20p', 'falcon_og_eli5_oh_top10p', 'falcon_tulu_qc_top10', 'fineweb_edu_dedup', 'gutenberg_books', 'megawika', 'openwebmath', 'pes20_stem_papers', 'pos_eli5_oh_neg_dclm_refinedweb_steps_2000_lr3e4_top10p', 'pos_eli5_oh_neg_dclm_refinedweb_steps_2000_lr3e4_top20p', 'prox_fineweb_pro', 'reddit', 'stackexchange', 'starcoder', 'tulu', 'web_rest', 'wikipedia_wikibooks']\n"
     ]
    }
   ],
   "source": [
    "import ast\n",
    "\n",
    "code= \"\"\"\n",
    "DATA_PATHS['DCLM-baseline'] = build_collection_include(['DCLM-baseline'])\n",
    "DATA_PATHS[\"c4\"] = build_collection_include([\"c4\"])\n",
    "DATA_PATHS[\"dclm_ft7percentile_fw2\"] = build_collection_include([\"dclm_ft7percentile_fw2\"])\n",
    "DATA_PATHS[\"dclm_ft7percentile_fw3\"] = build_collection_include([\"dclm_ft7percentile_fw3\"])\n",
    "DATA_PATHS[\"dclm_fw_top10\"] = build_collection_include([\"dclm_fw_top10\"])\n",
    "DATA_PATHS[\"dclm_fw_top3\"] = build_collection_include([\"dclm_fw_top3\"])\n",
    "DATA_PATHS[\"dolma17\"] = build_collection_include(['gutenberg_books', 'pes20_stem_papers', 'wikipedia_wikibooks', 'megawika', 'stackexchange', 'arxiv', 'algebraic_stack', 'openwebmath', 'tulu', 'cc_news', 'starcoder', 'c4', 'reddit', 'falcon', 'web_rest'])\n",
    "DATA_PATHS[\"falcon\"] = build_collection_include([\"falcon\"])\n",
    "DATA_PATHS[\"falcon_and_cc\"] = build_collection_include([\"falcon\", \"web_rest\"])\n",
    "DATA_PATHS[\"falcon_and_cc_eli5_oh_top10p\"] = build_collection_include([\"cc_eli5_oh_top10p\", \"falcon_eli5_oh_top10p\"])\n",
    "DATA_PATHS[\"falcon_and_cc_eli5_oh_top20p\"] = build_collection_include([\"cc_eli5_oh_top20p\", \"falcon_eli5_oh_top20p\"])\n",
    "DATA_PATHS[\"falcon_and_cc_og_eli5_oh_top10p\"] = build_collection_include([\"cc_og_eli5_oh_top10p\", \"falcon_og_eli5_oh_top10p\"])\n",
    "DATA_PATHS[\"falcon_and_cc_tulu_qc_top10\"] = build_collection_include([\"cc_tulu_qc_top10\", \"falcon_tulu_qc_top10\"])\n",
    "DATA_PATHS[\"fineweb_edu_dedup\"] = build_collection_include([\"fineweb_edu_dedup\"])\n",
    "DATA_PATHS[\"no_code\"] = build_collection_include(['gutenberg_books', 'pes20_stem_papers', 'wikipedia_wikibooks', 'megawika', 'arxiv', 'algebraic_stack', 'openwebmath', 'tulu', 'cc_news', 'c4', 'reddit', 'falcon', 'web_rest'])\n",
    "DATA_PATHS[\"no_flan\"] = build_collection_include(['gutenberg_books', 'pes20_stem_papers', 'wikipedia_wikibooks', 'megawika', 'stackexchange', 'arxiv', 'algebraic_stack', 'openwebmath', 'cc_news', 'starcoder', 'c4', 'reddit', 'falcon', 'web_rest'])\n",
    "DATA_PATHS[\"no_math_no_code\"] = build_collection_include(['gutenberg_books', 'wikipedia_wikibooks', 'megawika', 'arxiv', 'tulu', 'cc_news', 'c4', 'reddit', 'falcon', 'web_rest'])\n",
    "DATA_PATHS[\"no_reddit\"] = build_collection_include(['gutenberg_books', 'pes20_stem_papers', 'wikipedia_wikibooks', 'megawika', 'stackexchange', 'arxiv', 'algebraic_stack', 'openwebmath', 'tulu', 'cc_news', 'starcoder', 'c4', 'falcon', 'web_rest'])\n",
    "DATA_PATHS[\"pos_eli5_oh_neg_dclm_refinedweb_steps_2000_lr3e4_top10p\"] = build_collection_include([\"pos_eli5_oh_neg_dclm_refinedweb_steps_2000_lr3e4_top10p\"])\n",
    "DATA_PATHS[\"pos_eli5_oh_neg_dclm_refinedweb_steps_2000_lr3e4_top20p\"] = build_collection_include([\"pos_eli5_oh_neg_dclm_refinedweb_steps_2000_lr3e4_top20p\"])\n",
    "DATA_PATHS[\"prox_fineweb_pro\"] = build_collection_include([\"prox_fineweb_pro\"])\"\"\"\n",
    "\n",
    "tree = ast.parse(code)\n",
    "unique_strings = set()\n",
    "\n",
    "for node in ast.walk(tree):\n",
    "    if isinstance(node, ast.Call) and getattr(node.func, 'id', '') == 'build_collection_include':\n",
    "        arg = node.args[0]\n",
    "        if isinstance(arg, ast.List):\n",
    "            for elt in arg.elts:\n",
    "                if isinstance(elt, ast.Str):\n",
    "                    unique_strings.add(elt.s)\n",
    "\n",
    "print(sorted(unique_strings))"
   ]
  },
  {
   "cell_type": "code",
   "execution_count": 2,
   "id": "58ffc379",
   "metadata": {},
   "outputs": [
    {
     "data": {
      "text/plain": [
       "{'DCLM-baseline',\n",
       " 'algebraic_stack',\n",
       " 'arxiv',\n",
       " 'c4',\n",
       " 'cc_eli5_oh_top10p',\n",
       " 'cc_eli5_oh_top20p',\n",
       " 'cc_news',\n",
       " 'cc_og_eli5_oh_top10p',\n",
       " 'cc_tulu_qc_top10',\n",
       " 'dclm_ft7percentile_fw2',\n",
       " 'dclm_ft7percentile_fw3',\n",
       " 'dclm_fw_top10',\n",
       " 'dclm_fw_top3',\n",
       " 'falcon',\n",
       " 'falcon_eli5_oh_top10p',\n",
       " 'falcon_eli5_oh_top20p',\n",
       " 'falcon_og_eli5_oh_top10p',\n",
       " 'falcon_tulu_qc_top10',\n",
       " 'fineweb_edu_dedup',\n",
       " 'gutenberg_books',\n",
       " 'megawika',\n",
       " 'openwebmath',\n",
       " 'pes20_stem_papers',\n",
       " 'pos_eli5_oh_neg_dclm_refinedweb_steps_2000_lr3e4_top10p',\n",
       " 'pos_eli5_oh_neg_dclm_refinedweb_steps_2000_lr3e4_top20p',\n",
       " 'prox_fineweb_pro',\n",
       " 'reddit',\n",
       " 'stackexchange',\n",
       " 'starcoder',\n",
       " 'tulu',\n",
       " 'web_rest',\n",
       " 'wikipedia_wikibooks'}"
      ]
     },
     "execution_count": 2,
     "metadata": {},
     "output_type": "execute_result"
    }
   ],
   "source": [
    "unique_strings"
   ]
  },
  {
   "cell_type": "code",
   "execution_count": 6,
   "id": "4374b720",
   "metadata": {},
   "outputs": [],
   "source": [
    "with open(\"ingredients.txt\", \"w\") as f:\n",
    "    for item in sorted(unique_strings):\n",
    "        f.write(f\"{item}\\n\")"
   ]
  },
  {
   "cell_type": "code",
   "execution_count": 3,
   "id": "7753320e",
   "metadata": {},
   "outputs": [
    {
     "name": "stdout",
     "output_type": "stream",
     "text": [
      "['preprocessed/fineweb-edu-dedup/v0/gpt-neox-olmo-dolma-v1_5/part-000-00000.npy', 'preprocessed/fineweb-edu-dedup/v0/gpt-neox-olmo-dolma-v1_5/part-000-00001.npy', 'preprocessed/fineweb-edu-dedup/v0/gpt-neox-olmo-dolma-v1_5/part-001-00000.npy', 'preprocessed/fineweb-edu-dedup/v0/gpt-neox-olmo-dolma-v1_5/part-001-00001.npy', 'preprocessed/fineweb-edu-dedup/v0/gpt-neox-olmo-dolma-v1_5/part-002-00000.npy', 'preprocessed/fineweb-edu-dedup/v0/gpt-neox-olmo-dolma-v1_5/part-003-00000.npy', 'preprocessed/fineweb-edu-dedup/v0/gpt-neox-olmo-dolma-v1_5/part-003-00001.npy', 'preprocessed/fineweb-edu-dedup/v0/gpt-neox-olmo-dolma-v1_5/part-004-00000.npy', 'preprocessed/fineweb-edu-dedup/v0/gpt-neox-olmo-dolma-v1_5/part-004-00001.npy', 'preprocessed/fineweb-edu-dedup/v0/gpt-neox-olmo-dolma-v1_5/part-005-00000.npy', 'preprocessed/fineweb-edu-dedup/v0/gpt-neox-olmo-dolma-v1_5/part-005-00001.npy', 'preprocessed/fineweb-edu-dedup/v0/gpt-neox-olmo-dolma-v1_5/part-006-00000.npy', 'preprocessed/fineweb-edu-dedup/v0/gpt-neox-olmo-dolma-v1_5/part-006-00001.npy', 'preprocessed/fineweb-edu-dedup/v0/gpt-neox-olmo-dolma-v1_5/part-007-00000.npy', 'preprocessed/fineweb-edu-dedup/v0/gpt-neox-olmo-dolma-v1_5/part-007-00001.npy', 'preprocessed/fineweb-edu-dedup/v0/gpt-neox-olmo-dolma-v1_5/part-008-00000.npy', 'preprocessed/fineweb-edu-dedup/v0/gpt-neox-olmo-dolma-v1_5/part-009-00000.npy', 'preprocessed/fineweb-edu-dedup/v0/gpt-neox-olmo-dolma-v1_5/part-009-00001.npy', 'preprocessed/fineweb-edu-dedup/v0/gpt-neox-olmo-dolma-v1_5/part-010-00000.npy', 'preprocessed/fineweb-edu-dedup/v0/gpt-neox-olmo-dolma-v1_5/part-010-00001.npy', 'preprocessed/fineweb-edu-dedup/v0/gpt-neox-olmo-dolma-v1_5/part-011-00000.npy', 'preprocessed/fineweb-edu-dedup/v0/gpt-neox-olmo-dolma-v1_5/part-011-00001.npy', 'preprocessed/fineweb-edu-dedup/v0/gpt-neox-olmo-dolma-v1_5/part-012-00000.npy', 'preprocessed/fineweb-edu-dedup/v0/gpt-neox-olmo-dolma-v1_5/part-012-00001.npy', 'preprocessed/fineweb-edu-dedup/v0/gpt-neox-olmo-dolma-v1_5/part-013-00000.npy', 'preprocessed/fineweb-edu-dedup/v0/gpt-neox-olmo-dolma-v1_5/part-013-00001.npy', 'preprocessed/fineweb-edu-dedup/v0/gpt-neox-olmo-dolma-v1_5/part-014-00000.npy', 'preprocessed/fineweb-edu-dedup/v0/gpt-neox-olmo-dolma-v1_5/part-015-00000.npy', 'preprocessed/fineweb-edu-dedup/v0/gpt-neox-olmo-dolma-v1_5/part-015-00001.npy', 'preprocessed/fineweb-edu-dedup/v0/gpt-neox-olmo-dolma-v1_5/part-016-00000.npy', 'preprocessed/fineweb-edu-dedup/v0/gpt-neox-olmo-dolma-v1_5/part-016-00001.npy', 'preprocessed/fineweb-edu-dedup/v0/gpt-neox-olmo-dolma-v1_5/part-017-00000.npy', 'preprocessed/fineweb-edu-dedup/v0/gpt-neox-olmo-dolma-v1_5/part-017-00001.npy', 'preprocessed/fineweb-edu-dedup/v0/gpt-neox-olmo-dolma-v1_5/part-018-00000.npy', 'preprocessed/fineweb-edu-dedup/v0/gpt-neox-olmo-dolma-v1_5/part-018-00001.npy', 'preprocessed/fineweb-edu-dedup/v0/gpt-neox-olmo-dolma-v1_5/part-019-00000.npy', 'preprocessed/fineweb-edu-dedup/v0/gpt-neox-olmo-dolma-v1_5/part-019-00001.npy', 'preprocessed/fineweb-edu-dedup/v0/gpt-neox-olmo-dolma-v1_5/part-020-00000.npy', 'preprocessed/fineweb-edu-dedup/v0/gpt-neox-olmo-dolma-v1_5/part-021-00000.npy', 'preprocessed/fineweb-edu-dedup/v0/gpt-neox-olmo-dolma-v1_5/part-021-00001.npy', 'preprocessed/fineweb-edu-dedup/v0/gpt-neox-olmo-dolma-v1_5/part-022-00000.npy', 'preprocessed/fineweb-edu-dedup/v0/gpt-neox-olmo-dolma-v1_5/part-022-00001.npy', 'preprocessed/fineweb-edu-dedup/v0/gpt-neox-olmo-dolma-v1_5/part-023-00000.npy', 'preprocessed/fineweb-edu-dedup/v0/gpt-neox-olmo-dolma-v1_5/part-023-00001.npy', 'preprocessed/fineweb-edu-dedup/v0/gpt-neox-olmo-dolma-v1_5/part-024-00000.npy', 'preprocessed/fineweb-edu-dedup/v0/gpt-neox-olmo-dolma-v1_5/part-024-00001.npy', 'preprocessed/fineweb-edu-dedup/v0/gpt-neox-olmo-dolma-v1_5/part-025-00000.npy', 'preprocessed/fineweb-edu-dedup/v0/gpt-neox-olmo-dolma-v1_5/part-025-00001.npy', 'preprocessed/fineweb-edu-dedup/v0/gpt-neox-olmo-dolma-v1_5/part-026-00000.npy', 'preprocessed/fineweb-edu-dedup/v0/gpt-neox-olmo-dolma-v1_5/part-027-00000.npy', 'preprocessed/fineweb-edu-dedup/v0/gpt-neox-olmo-dolma-v1_5/part-027-00001.npy', 'preprocessed/fineweb-edu-dedup/v0/gpt-neox-olmo-dolma-v1_5/part-028-00000.npy', 'preprocessed/fineweb-edu-dedup/v0/gpt-neox-olmo-dolma-v1_5/part-028-00001.npy', 'preprocessed/fineweb-edu-dedup/v0/gpt-neox-olmo-dolma-v1_5/part-029-00000.npy', 'preprocessed/fineweb-edu-dedup/v0/gpt-neox-olmo-dolma-v1_5/part-029-00001.npy', 'preprocessed/fineweb-edu-dedup/v0/gpt-neox-olmo-dolma-v1_5/part-030-00000.npy', 'preprocessed/fineweb-edu-dedup/v0/gpt-neox-olmo-dolma-v1_5/part-030-00001.npy', 'preprocessed/fineweb-edu-dedup/v0/gpt-neox-olmo-dolma-v1_5/part-031-00000.npy', 'preprocessed/fineweb-edu-dedup/v0/gpt-neox-olmo-dolma-v1_5/part-032-00000.npy', 'preprocessed/fineweb-edu-dedup/v0/gpt-neox-olmo-dolma-v1_5/part-032-00001.npy', 'preprocessed/fineweb-edu-dedup/v0/gpt-neox-olmo-dolma-v1_5/part-033-00000.npy', 'preprocessed/fineweb-edu-dedup/v0/gpt-neox-olmo-dolma-v1_5/part-033-00001.npy', 'preprocessed/fineweb-edu-dedup/v0/gpt-neox-olmo-dolma-v1_5/part-034-00000.npy', 'preprocessed/fineweb-edu-dedup/v0/gpt-neox-olmo-dolma-v1_5/part-034-00001.npy', 'preprocessed/fineweb-edu-dedup/v0/gpt-neox-olmo-dolma-v1_5/part-035-00000.npy', 'preprocessed/fineweb-edu-dedup/v0/gpt-neox-olmo-dolma-v1_5/part-035-00001.npy', 'preprocessed/fineweb-edu-dedup/v0/gpt-neox-olmo-dolma-v1_5/part-036-00000.npy', 'preprocessed/fineweb-edu-dedup/v0/gpt-neox-olmo-dolma-v1_5/part-036-00001.npy', 'preprocessed/fineweb-edu-dedup/v0/gpt-neox-olmo-dolma-v1_5/part-037-00000.npy', 'preprocessed/fineweb-edu-dedup/v0/gpt-neox-olmo-dolma-v1_5/part-038-00000.npy', 'preprocessed/fineweb-edu-dedup/v0/gpt-neox-olmo-dolma-v1_5/part-038-00001.npy', 'preprocessed/fineweb-edu-dedup/v0/gpt-neox-olmo-dolma-v1_5/part-039-00000.npy', 'preprocessed/fineweb-edu-dedup/v0/gpt-neox-olmo-dolma-v1_5/part-039-00001.npy', 'preprocessed/fineweb-edu-dedup/v0/gpt-neox-olmo-dolma-v1_5/part-040-00000.npy', 'preprocessed/fineweb-edu-dedup/v0/gpt-neox-olmo-dolma-v1_5/part-040-00001.npy', 'preprocessed/fineweb-edu-dedup/v0/gpt-neox-olmo-dolma-v1_5/part-041-00000.npy', 'preprocessed/fineweb-edu-dedup/v0/gpt-neox-olmo-dolma-v1_5/part-041-00001.npy', 'preprocessed/fineweb-edu-dedup/v0/gpt-neox-olmo-dolma-v1_5/part-042-00000.npy', 'preprocessed/fineweb-edu-dedup/v0/gpt-neox-olmo-dolma-v1_5/part-042-00001.npy', 'preprocessed/fineweb-edu-dedup/v0/gpt-neox-olmo-dolma-v1_5/part-043-00000.npy', 'preprocessed/fineweb-edu-dedup/v0/gpt-neox-olmo-dolma-v1_5/part-044-00000.npy', 'preprocessed/fineweb-edu-dedup/v0/gpt-neox-olmo-dolma-v1_5/part-044-00001.npy', 'preprocessed/fineweb-edu-dedup/v0/gpt-neox-olmo-dolma-v1_5/part-045-00000.npy', 'preprocessed/fineweb-edu-dedup/v0/gpt-neox-olmo-dolma-v1_5/part-045-00001.npy', 'preprocessed/fineweb-edu-dedup/v0/gpt-neox-olmo-dolma-v1_5/part-046-00000.npy', 'preprocessed/fineweb-edu-dedup/v0/gpt-neox-olmo-dolma-v1_5/part-046-00001.npy', 'preprocessed/fineweb-edu-dedup/v0/gpt-neox-olmo-dolma-v1_5/part-047-00000.npy', 'preprocessed/fineweb-edu-dedup/v0/gpt-neox-olmo-dolma-v1_5/part-047-00001.npy', 'preprocessed/fineweb-edu-dedup/v0/gpt-neox-olmo-dolma-v1_5/part-048-00000.npy', 'preprocessed/fineweb-edu-dedup/v0/gpt-neox-olmo-dolma-v1_5/part-048-00001.npy', 'preprocessed/fineweb-edu-dedup/v0/gpt-neox-olmo-dolma-v1_5/part-049-00000.npy', 'preprocessed/fineweb-edu-dedup/v0/gpt-neox-olmo-dolma-v1_5/part-050-00000.npy', 'preprocessed/fineweb-edu-dedup/v0/gpt-neox-olmo-dolma-v1_5/part-050-00001.npy', 'preprocessed/fineweb-edu-dedup/v0/gpt-neox-olmo-dolma-v1_5/part-051-00000.npy', 'preprocessed/fineweb-edu-dedup/v0/gpt-neox-olmo-dolma-v1_5/part-051-00001.npy', 'preprocessed/fineweb-edu-dedup/v0/gpt-neox-olmo-dolma-v1_5/part-052-00000.npy', 'preprocessed/fineweb-edu-dedup/v0/gpt-neox-olmo-dolma-v1_5/part-052-00001.npy', 'preprocessed/fineweb-edu-dedup/v0/gpt-neox-olmo-dolma-v1_5/part-053-00000.npy', 'preprocessed/fineweb-edu-dedup/v0/gpt-neox-olmo-dolma-v1_5/part-053-00001.npy', 'preprocessed/fineweb-edu-dedup/v0/gpt-neox-olmo-dolma-v1_5/part-054-00000.npy', 'preprocessed/fineweb-edu-dedup/v0/gpt-neox-olmo-dolma-v1_5/part-054-00001.npy', 'preprocessed/fineweb-edu-dedup/v0/gpt-neox-olmo-dolma-v1_5/part-055-00000.npy', 'preprocessed/fineweb-edu-dedup/v0/gpt-neox-olmo-dolma-v1_5/part-056-00000.npy', 'preprocessed/fineweb-edu-dedup/v0/gpt-neox-olmo-dolma-v1_5/part-056-00001.npy', 'preprocessed/fineweb-edu-dedup/v0/gpt-neox-olmo-dolma-v1_5/part-057-00000.npy', 'preprocessed/fineweb-edu-dedup/v0/gpt-neox-olmo-dolma-v1_5/part-057-00001.npy', 'preprocessed/fineweb-edu-dedup/v0/gpt-neox-olmo-dolma-v1_5/part-058-00000.npy', 'preprocessed/fineweb-edu-dedup/v0/gpt-neox-olmo-dolma-v1_5/part-058-00001.npy', 'preprocessed/fineweb-edu-dedup/v0/gpt-neox-olmo-dolma-v1_5/part-059-00000.npy', 'preprocessed/fineweb-edu-dedup/v0/gpt-neox-olmo-dolma-v1_5/part-059-00001.npy', 'preprocessed/fineweb-edu-dedup/v0/gpt-neox-olmo-dolma-v1_5/part-060-00000.npy', 'preprocessed/fineweb-edu-dedup/v0/gpt-neox-olmo-dolma-v1_5/part-060-00001.npy', 'preprocessed/fineweb-edu-dedup/v0/gpt-neox-olmo-dolma-v1_5/part-061-00000.npy', 'preprocessed/fineweb-edu-dedup/v0/gpt-neox-olmo-dolma-v1_5/part-062-00000.npy', 'preprocessed/fineweb-edu-dedup/v0/gpt-neox-olmo-dolma-v1_5/part-062-00001.npy', 'preprocessed/fineweb-edu-dedup/v0/gpt-neox-olmo-dolma-v1_5/part-063-00000.npy', 'preprocessed/fineweb-edu-dedup/v0/gpt-neox-olmo-dolma-v1_5/part-063-00001.npy', 'preprocessed/fineweb-edu-dedup/v0/gpt-neox-olmo-dolma-v1_5/part-064-00000.npy', 'preprocessed/fineweb-edu-dedup/v0/gpt-neox-olmo-dolma-v1_5/part-064-00001.npy', 'preprocessed/fineweb-edu-dedup/v0/gpt-neox-olmo-dolma-v1_5/part-065-00000.npy', 'preprocessed/fineweb-edu-dedup/v0/gpt-neox-olmo-dolma-v1_5/part-065-00001.npy', 'preprocessed/fineweb-edu-dedup/v0/gpt-neox-olmo-dolma-v1_5/part-066-00000.npy', 'preprocessed/fineweb-edu-dedup/v0/gpt-neox-olmo-dolma-v1_5/part-067-00000.npy', 'preprocessed/fineweb-edu-dedup/v0/gpt-neox-olmo-dolma-v1_5/part-067-00001.npy', 'preprocessed/fineweb-edu-dedup/v0/gpt-neox-olmo-dolma-v1_5/part-068-00000.npy', 'preprocessed/fineweb-edu-dedup/v0/gpt-neox-olmo-dolma-v1_5/part-068-00001.npy', 'preprocessed/fineweb-edu-dedup/v0/gpt-neox-olmo-dolma-v1_5/part-069-00000.npy', 'preprocessed/fineweb-edu-dedup/v0/gpt-neox-olmo-dolma-v1_5/part-069-00001.npy', 'preprocessed/fineweb-edu-dedup/v0/gpt-neox-olmo-dolma-v1_5/part-070-00000.npy', 'preprocessed/fineweb-edu-dedup/v0/gpt-neox-olmo-dolma-v1_5/part-070-00001.npy', 'preprocessed/fineweb-edu-dedup/v0/gpt-neox-olmo-dolma-v1_5/part-071-00000.npy', 'preprocessed/fineweb-edu-dedup/v0/gpt-neox-olmo-dolma-v1_5/part-071-00001.npy', 'preprocessed/fineweb-edu-dedup/v0/gpt-neox-olmo-dolma-v1_5/part-072-00000.npy', 'preprocessed/fineweb-edu-dedup/v0/gpt-neox-olmo-dolma-v1_5/part-073-00000.npy', 'preprocessed/fineweb-edu-dedup/v0/gpt-neox-olmo-dolma-v1_5/part-073-00001.npy', 'preprocessed/fineweb-edu-dedup/v0/gpt-neox-olmo-dolma-v1_5/part-074-00000.npy', 'preprocessed/fineweb-edu-dedup/v0/gpt-neox-olmo-dolma-v1_5/part-074-00001.npy', 'preprocessed/fineweb-edu-dedup/v0/gpt-neox-olmo-dolma-v1_5/part-075-00000.npy', 'preprocessed/fineweb-edu-dedup/v0/gpt-neox-olmo-dolma-v1_5/part-075-00001.npy', 'preprocessed/fineweb-edu-dedup/v0/gpt-neox-olmo-dolma-v1_5/part-076-00000.npy', 'preprocessed/fineweb-edu-dedup/v0/gpt-neox-olmo-dolma-v1_5/part-076-00001.npy', 'preprocessed/fineweb-edu-dedup/v0/gpt-neox-olmo-dolma-v1_5/part-077-00000.npy', 'preprocessed/fineweb-edu-dedup/v0/gpt-neox-olmo-dolma-v1_5/part-077-00001.npy', 'preprocessed/fineweb-edu-dedup/v0/gpt-neox-olmo-dolma-v1_5/part-078-00000.npy', 'preprocessed/fineweb-edu-dedup/v0/gpt-neox-olmo-dolma-v1_5/part-079-00000.npy', 'preprocessed/fineweb-edu-dedup/v0/gpt-neox-olmo-dolma-v1_5/part-079-00001.npy', 'preprocessed/fineweb-edu-dedup/v0/gpt-neox-olmo-dolma-v1_5/part-080-00000.npy', 'preprocessed/fineweb-edu-dedup/v0/gpt-neox-olmo-dolma-v1_5/part-080-00001.npy', 'preprocessed/fineweb-edu-dedup/v0/gpt-neox-olmo-dolma-v1_5/part-081-00000.npy', 'preprocessed/fineweb-edu-dedup/v0/gpt-neox-olmo-dolma-v1_5/part-081-00001.npy', 'preprocessed/fineweb-edu-dedup/v0/gpt-neox-olmo-dolma-v1_5/part-082-00000.npy', 'preprocessed/fineweb-edu-dedup/v0/gpt-neox-olmo-dolma-v1_5/part-082-00001.npy', 'preprocessed/fineweb-edu-dedup/v0/gpt-neox-olmo-dolma-v1_5/part-083-00000.npy', 'preprocessed/fineweb-edu-dedup/v0/gpt-neox-olmo-dolma-v1_5/part-083-00001.npy', 'preprocessed/fineweb-edu-dedup/v0/gpt-neox-olmo-dolma-v1_5/part-084-00000.npy', 'preprocessed/fineweb-edu-dedup/v0/gpt-neox-olmo-dolma-v1_5/part-085-00000.npy', 'preprocessed/fineweb-edu-dedup/v0/gpt-neox-olmo-dolma-v1_5/part-085-00001.npy', 'preprocessed/fineweb-edu-dedup/v0/gpt-neox-olmo-dolma-v1_5/part-086-00000.npy', 'preprocessed/fineweb-edu-dedup/v0/gpt-neox-olmo-dolma-v1_5/part-086-00001.npy', 'preprocessed/fineweb-edu-dedup/v0/gpt-neox-olmo-dolma-v1_5/part-087-00000.npy', 'preprocessed/fineweb-edu-dedup/v0/gpt-neox-olmo-dolma-v1_5/part-087-00001.npy', 'preprocessed/fineweb-edu-dedup/v0/gpt-neox-olmo-dolma-v1_5/part-088-00000.npy', 'preprocessed/fineweb-edu-dedup/v0/gpt-neox-olmo-dolma-v1_5/part-088-00001.npy', 'preprocessed/fineweb-edu-dedup/v0/gpt-neox-olmo-dolma-v1_5/part-089-00000.npy', 'preprocessed/fineweb-edu-dedup/v0/gpt-neox-olmo-dolma-v1_5/part-089-00001.npy', 'preprocessed/fineweb-edu-dedup/v0/gpt-neox-olmo-dolma-v1_5/part-090-00000.npy', 'preprocessed/fineweb-edu-dedup/v0/gpt-neox-olmo-dolma-v1_5/part-091-00000.npy', 'preprocessed/fineweb-edu-dedup/v0/gpt-neox-olmo-dolma-v1_5/part-091-00001.npy', 'preprocessed/fineweb-edu-dedup/v0/gpt-neox-olmo-dolma-v1_5/part-092-00000.npy', 'preprocessed/fineweb-edu-dedup/v0/gpt-neox-olmo-dolma-v1_5/part-092-00001.npy', 'preprocessed/fineweb-edu-dedup/v0/gpt-neox-olmo-dolma-v1_5/part-093-00000.npy', 'preprocessed/fineweb-edu-dedup/v0/gpt-neox-olmo-dolma-v1_5/part-093-00001.npy', 'preprocessed/fineweb-edu-dedup/v0/gpt-neox-olmo-dolma-v1_5/part-094-00000.npy', 'preprocessed/fineweb-edu-dedup/v0/gpt-neox-olmo-dolma-v1_5/part-094-00001.npy', 'preprocessed/fineweb-edu-dedup/v0/gpt-neox-olmo-dolma-v1_5/part-095-00000.npy', 'preprocessed/fineweb-edu-dedup/v0/gpt-neox-olmo-dolma-v1_5/part-095-00001.npy', 'preprocessed/fineweb-edu-dedup/v0/gpt-neox-olmo-dolma-v1_5/part-096-00000.npy', 'preprocessed/fineweb-edu-dedup/v0/gpt-neox-olmo-dolma-v1_5/part-097-00000.npy', 'preprocessed/fineweb-edu-dedup/v0/gpt-neox-olmo-dolma-v1_5/part-097-00001.npy', 'preprocessed/fineweb-edu-dedup/v0/gpt-neox-olmo-dolma-v1_5/part-098-00000.npy', 'preprocessed/fineweb-edu-dedup/v0/gpt-neox-olmo-dolma-v1_5/part-098-00001.npy', 'preprocessed/fineweb-edu-dedup/v0/gpt-neox-olmo-dolma-v1_5/part-099-00000.npy', 'preprocessed/fineweb-edu-dedup/v0/gpt-neox-olmo-dolma-v1_5/part-099-00001.npy', 'preprocessed/fineweb-edu-dedup/v0/gpt-neox-olmo-dolma-v1_5/part-100-00000.npy', 'preprocessed/fineweb-edu-dedup/v0/gpt-neox-olmo-dolma-v1_5/part-100-00001.npy', 'preprocessed/fineweb-edu-dedup/v0/gpt-neox-olmo-dolma-v1_5/part-101-00000.npy', 'preprocessed/fineweb-edu-dedup/v0/gpt-neox-olmo-dolma-v1_5/part-102-00000.npy', 'preprocessed/fineweb-edu-dedup/v0/gpt-neox-olmo-dolma-v1_5/part-102-00001.npy', 'preprocessed/fineweb-edu-dedup/v0/gpt-neox-olmo-dolma-v1_5/part-103-00000.npy', 'preprocessed/fineweb-edu-dedup/v0/gpt-neox-olmo-dolma-v1_5/part-103-00001.npy', 'preprocessed/fineweb-edu-dedup/v0/gpt-neox-olmo-dolma-v1_5/part-104-00000.npy', 'preprocessed/fineweb-edu-dedup/v0/gpt-neox-olmo-dolma-v1_5/part-104-00001.npy', 'preprocessed/fineweb-edu-dedup/v0/gpt-neox-olmo-dolma-v1_5/part-105-00000.npy', 'preprocessed/fineweb-edu-dedup/v0/gpt-neox-olmo-dolma-v1_5/part-105-00001.npy', 'preprocessed/fineweb-edu-dedup/v0/gpt-neox-olmo-dolma-v1_5/part-106-00000.npy', 'preprocessed/fineweb-edu-dedup/v0/gpt-neox-olmo-dolma-v1_5/part-106-00001.npy', 'preprocessed/fineweb-edu-dedup/v0/gpt-neox-olmo-dolma-v1_5/part-107-00000.npy', 'preprocessed/fineweb-edu-dedup/v0/gpt-neox-olmo-dolma-v1_5/part-108-00000.npy', 'preprocessed/fineweb-edu-dedup/v0/gpt-neox-olmo-dolma-v1_5/part-108-00001.npy', 'preprocessed/fineweb-edu-dedup/v0/gpt-neox-olmo-dolma-v1_5/part-109-00000.npy', 'preprocessed/fineweb-edu-dedup/v0/gpt-neox-olmo-dolma-v1_5/part-109-00001.npy', 'preprocessed/fineweb-edu-dedup/v0/gpt-neox-olmo-dolma-v1_5/part-110-00000.npy', 'preprocessed/fineweb-edu-dedup/v0/gpt-neox-olmo-dolma-v1_5/part-110-00001.npy', 'preprocessed/fineweb-edu-dedup/v0/gpt-neox-olmo-dolma-v1_5/part-111-00000.npy', 'preprocessed/fineweb-edu-dedup/v0/gpt-neox-olmo-dolma-v1_5/part-111-00001.npy', 'preprocessed/fineweb-edu-dedup/v0/gpt-neox-olmo-dolma-v1_5/part-112-00000.npy', 'preprocessed/fineweb-edu-dedup/v0/gpt-neox-olmo-dolma-v1_5/part-112-00001.npy', 'preprocessed/fineweb-edu-dedup/v0/gpt-neox-olmo-dolma-v1_5/part-113-00000.npy', 'preprocessed/fineweb-edu-dedup/v0/gpt-neox-olmo-dolma-v1_5/part-114-00000.npy', 'preprocessed/fineweb-edu-dedup/v0/gpt-neox-olmo-dolma-v1_5/part-114-00001.npy', 'preprocessed/fineweb-edu-dedup/v0/gpt-neox-olmo-dolma-v1_5/part-115-00000.npy', 'preprocessed/fineweb-edu-dedup/v0/gpt-neox-olmo-dolma-v1_5/part-115-00001.npy', 'preprocessed/fineweb-edu-dedup/v0/gpt-neox-olmo-dolma-v1_5/part-116-00000.npy', 'preprocessed/fineweb-edu-dedup/v0/gpt-neox-olmo-dolma-v1_5/part-116-00001.npy', 'preprocessed/fineweb-edu-dedup/v0/gpt-neox-olmo-dolma-v1_5/part-117-00000.npy', 'preprocessed/fineweb-edu-dedup/v0/gpt-neox-olmo-dolma-v1_5/part-117-00001.npy', 'preprocessed/fineweb-edu-dedup/v0/gpt-neox-olmo-dolma-v1_5/part-118-00000.npy', 'preprocessed/fineweb-edu-dedup/v0/gpt-neox-olmo-dolma-v1_5/part-118-00001.npy', 'preprocessed/fineweb-edu-dedup/v0/gpt-neox-olmo-dolma-v1_5/part-119-00000.npy', 'preprocessed/fineweb-edu-dedup/v0/gpt-neox-olmo-dolma-v1_5/part-120-00000.npy', 'preprocessed/fineweb-edu-dedup/v0/gpt-neox-olmo-dolma-v1_5/part-120-00001.npy', 'preprocessed/fineweb-edu-dedup/v0/gpt-neox-olmo-dolma-v1_5/part-121-00000.npy', 'preprocessed/fineweb-edu-dedup/v0/gpt-neox-olmo-dolma-v1_5/part-121-00001.npy', 'preprocessed/fineweb-edu-dedup/v0/gpt-neox-olmo-dolma-v1_5/part-122-00000.npy', 'preprocessed/fineweb-edu-dedup/v0/gpt-neox-olmo-dolma-v1_5/part-122-00001.npy', 'preprocessed/fineweb-edu-dedup/v0/gpt-neox-olmo-dolma-v1_5/part-123-00000.npy', 'preprocessed/fineweb-edu-dedup/v0/gpt-neox-olmo-dolma-v1_5/part-123-00001.npy', 'preprocessed/fineweb-edu-dedup/v0/gpt-neox-olmo-dolma-v1_5/part-124-00000.npy', 'preprocessed/fineweb-edu-dedup/v0/gpt-neox-olmo-dolma-v1_5/part-124-00001.npy', 'preprocessed/fineweb-edu-dedup/v0/gpt-neox-olmo-dolma-v1_5/part-125-00000.npy', 'preprocessed/fineweb-edu-dedup/v0/gpt-neox-olmo-dolma-v1_5/part-126-00000.npy', 'preprocessed/fineweb-edu-dedup/v0/gpt-neox-olmo-dolma-v1_5/part-126-00001.npy', 'preprocessed/fineweb-edu-dedup/v0/gpt-neox-olmo-dolma-v1_5/part-127-00000.npy', 'preprocessed/fineweb-edu-dedup/v0/gpt-neox-olmo-dolma-v1_5/part-127-00001.npy']\n"
     ]
    },
    {
     "data": {
      "text/plain": [
       "dict_keys(['gutenberg', 'pes2o', 'wiki', 'redpajama_stackexchange', 'redpajama_arxiv', 'proofpile2_algebraic_stack', 'proofpile2_openwebmath', 'tulu_flan_v0', 'starcoder', 'web-high-quality', 'web-rest'])"
      ]
     },
     "execution_count": 3,
     "metadata": {},
     "output_type": "execute_result"
    }
   ],
   "source": [
    "from named_data_mixes import DOLMA_1_6_TO_1_7_DATA_SOURCES\n",
    "DOLMA_1_6_TO_1_7_DATA_SOURCES.keys()"
   ]
  },
  {
   "cell_type": "code",
   "execution_count": 5,
   "id": "8e83ad3f",
   "metadata": {},
   "outputs": [
    {
     "data": {
      "text/plain": [
       "({'starcoder'},\n",
       " 'There is an intersection between unique_strings and DOLMA_1_6_TO_1_7_DATA_SOURCES keys')"
      ]
     },
     "execution_count": 5,
     "metadata": {},
     "output_type": "execute_result"
    }
   ],
   "source": [
    "unique_strings.intersection(DOLMA_1_6_TO_1_7_DATA_SOURCES.keys()), \"There is an intersection between unique_strings and DOLMA_1_6_TO_1_7_DATA_SOURCES keys\""
   ]
  },
  {
   "cell_type": "code",
   "execution_count": null,
   "id": "284c3e8f",
   "metadata": {},
   "outputs": [],
   "source": []
  }
 ],
 "metadata": {
  "kernelspec": {
   "display_name": "eval-for-consistent-ranking-metrics",
   "language": "python",
   "name": "python3"
  },
  "language_info": {
   "codemirror_mode": {
    "name": "ipython",
    "version": 3
   },
   "file_extension": ".py",
   "mimetype": "text/x-python",
   "name": "python",
   "nbconvert_exporter": "python",
   "pygments_lexer": "ipython3",
   "version": "3.10.16"
  }
 },
 "nbformat": 4,
 "nbformat_minor": 5
}
